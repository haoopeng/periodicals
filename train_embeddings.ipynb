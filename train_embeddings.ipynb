{
 "cells": [
  {
   "cell_type": "code",
   "execution_count": 3,
   "metadata": {},
   "outputs": [],
   "source": [
    "from j2v import mag\n",
    "from j2v import w2v\n",
    "from j2v import predict\n",
    "##\n",
    "import os\n",
    "import csv\n",
    "import math\n",
    "import random\n",
    "import numpy as np\n",
    "import pandas as pd\n",
    "import matplotlib.pyplot as plt\n",
    "from scipy.stats import entropy\n",
    "from itertools import groupby, combinations\n",
    "from collections import defaultdict, Counter\n",
    "from sklearn.metrics.pairwise import cosine_similarity\n",
    "%matplotlib inline"
   ]
  },
  {
   "cell_type": "markdown",
   "metadata": {},
   "source": [
    "Change `DATA_ROOT` in `j2v/mag.py`"
   ]
  },
  {
   "cell_type": "code",
   "execution_count": 4,
   "metadata": {},
   "outputs": [],
   "source": [
    "# random walk parameters\n",
    "num_walks = 100000000 # 100M\n",
    "max_length = 300\n",
    "\n",
    "# w2v parameters\n",
    "num_features = 100 # 100, 200, 300\n",
    "min_word_count = 50\n",
    "num_workers = 4\n",
    "context = 10 #2, 5, 10\n",
    "\n",
    "paper_fname = 'Papers_J_C.csv'\n",
    "ref_fname = 'PaperReferences_J_C.csv'"
   ]
  },
  {
   "cell_type": "code",
   "execution_count": 6,
   "metadata": {
    "scrolled": true
   },
   "outputs": [
    {
     "name": "stdout",
     "output_type": "stream",
     "text": [
      "processing /l/nx/data/MicrosoftAcademicGraph/Papers_J_C.csv...\n",
      "processed 1000000 lines...\n",
      "processed 2000000 lines...\n",
      "processed 3000000 lines...\n",
      "processed 4000000 lines...\n",
      "processed 5000000 lines...\n",
      "processed 6000000 lines...\n",
      "processed 7000000 lines...\n",
      "processed 8000000 lines...\n",
      "processed 9000000 lines...\n",
      "processed 10000000 lines...\n",
      "processed 11000000 lines...\n",
      "processed 12000000 lines...\n",
      "processed 13000000 lines...\n",
      "processed 14000000 lines...\n",
      "processed 15000000 lines...\n",
      "processed 16000000 lines...\n",
      "processed 17000000 lines...\n",
      "processed 18000000 lines...\n",
      "processed 19000000 lines...\n",
      "processed 20000000 lines...\n",
      "processed 21000000 lines...\n",
      "processed 22000000 lines...\n",
      "processed 23000000 lines...\n",
      "processed 24000000 lines...\n",
      "processed 25000000 lines...\n",
      "processed 26000000 lines...\n",
      "processed 27000000 lines...\n",
      "processed 28000000 lines...\n",
      "processed 29000000 lines...\n",
      "processed 30000000 lines...\n",
      "processed 31000000 lines...\n",
      "processed 32000000 lines...\n",
      "processed 33000000 lines...\n",
      "processed 34000000 lines...\n",
      "processed 35000000 lines...\n",
      "processed 36000000 lines...\n",
      "processed 37000000 lines...\n",
      "processed 38000000 lines...\n",
      "processed 39000000 lines...\n",
      "processed 40000000 lines...\n",
      "processed 41000000 lines...\n",
      "processed 42000000 lines...\n",
      "processed 43000000 lines...\n",
      "processed 44000000 lines...\n",
      "processed 45000000 lines...\n",
      "processed 46000000 lines...\n",
      "processed 47000000 lines...\n",
      "processed 48000000 lines...\n",
      "processed 49000000 lines...\n",
      "processed 50000000 lines...\n",
      "processed 51000000 lines...\n",
      "processed 52000000 lines...\n",
      "processed 53000000 lines...\n",
      "finished processing!\n",
      "\n",
      "pid2vid dict and year-pid dict are prepared now! It has 53410055 papers!\n",
      "\n"
     ]
    }
   ],
   "source": [
    "pid_vid_dict, year_pids = mag.get_pid_vid_dict(paper_fname)"
   ]
  },
  {
   "cell_type": "code",
   "execution_count": 2,
   "metadata": {
    "scrolled": true
   },
   "outputs": [],
   "source": [
    "# get papers' references\n",
    "paper_ref_dict, _ = mag.get_paper_ref_dict_and_citation(ref_fname)"
   ]
  },
  {
   "cell_type": "code",
   "execution_count": null,
   "metadata": {},
   "outputs": [],
   "source": [
    "# generate random walks\n",
    "walks = mag.random_walks(num_walks, max_length, pid_vid_dict, paper_ref_dict)"
   ]
  },
  {
   "cell_type": "code",
   "execution_count": null,
   "metadata": {
    "collapsed": true
   },
   "outputs": [],
   "source": [
    "# plot\n",
    "mag.walk_len_freq(walks)"
   ]
  },
  {
   "cell_type": "code",
   "execution_count": 1984,
   "metadata": {},
   "outputs": [
    {
     "name": "stdout",
     "output_type": "stream",
     "text": [
      "\n",
      "Training model...\n",
      "done and saved model to file!\n"
     ]
    }
   ],
   "source": [
    "li1 = [100, 200, 300]\n",
    "li2 = [2, 5, 10]\n",
    "for f in li1:\n",
    "    for c in li2:\n",
    "        w2v.train_j2v(walks, num_features = f, min_word_count = 50, context = c, negative = 5)"
   ]
  },
  {
   "cell_type": "code",
   "execution_count": null,
   "metadata": {},
   "outputs": [],
   "source": [
    "# path to model file\n",
    "model = w2v.load_j2v('./100feat_50minwords_10context_2016')"
   ]
  }
 ],
 "metadata": {
  "kernelspec": {
   "display_name": "Python 3",
   "language": "python",
   "name": "python3"
  },
  "language_info": {
   "codemirror_mode": {
    "name": "ipython",
    "version": 3
   },
   "file_extension": ".py",
   "mimetype": "text/x-python",
   "name": "python",
   "nbconvert_exporter": "python",
   "pygments_lexer": "ipython3",
   "version": "3.6.7"
  }
 },
 "nbformat": 4,
 "nbformat_minor": 1
}
