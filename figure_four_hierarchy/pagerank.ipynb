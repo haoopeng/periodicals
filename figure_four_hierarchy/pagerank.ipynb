{
 "cells": [
  {
   "cell_type": "code",
   "execution_count": 1,
   "metadata": {},
   "outputs": [
    {
     "name": "stderr",
     "output_type": "stream",
     "text": [
      "Using Theano backend.\n"
     ]
    }
   ],
   "source": [
    "from j2v import mag\n",
    "from j2v import w2v\n",
    "from j2v import predict\n",
    "\n",
    "import numpy as np\n",
    "import pandas as pd\n",
    "import random\n",
    "from collections import defaultdict\n",
    "import matplotlib.pyplot as plt\n",
    "%matplotlib inline\n",
    "import csv\n",
    "import networkx as nx"
   ]
  },
  {
   "cell_type": "code",
   "execution_count": null,
   "metadata": {},
   "outputs": [],
   "source": [
    "# execute only once\n",
    "\n",
    "pfile = 'Papers_reduced.csv'\n",
    "rfile = 'PaperReferences_clean.csv'\n",
    "\n",
    "out_pfile = 'Papers_1950_2000_J.csv'\n",
    "out_rfile = 'PaperReferences_1950_2000_J.csv'\n",
    "\n",
    "mag.filter_paper_year_jid(pfile, out_pfile, [1950, 2000], delimiter = ',')\n",
    "mag.filter_refs(out_pfile, rfile, out_rfile, pdelimiter = ',', rdelimiter = ',')"
   ]
  },
  {
   "cell_type": "code",
   "execution_count": null,
   "metadata": {},
   "outputs": [],
   "source": [
    "def dict_to_csv(csv_file, csv_columns, mdict):\n",
    "    with open(csv_file, 'w') as csvfile:\n",
    "        writer = csv.DictWriter(csvfile, fieldnames=csv_columns)\n",
    "        # writer.writeheader()\n",
    "        for key, value in mdict.items():\n",
    "            writer.writerow({csv_columns[0]: key, csv_columns[1]: value})"
   ]
  },
  {
   "cell_type": "markdown",
   "metadata": {},
   "source": [
    "### PageRank of papers in the LCC"
   ]
  },
  {
   "cell_type": "code",
   "execution_count": null,
   "metadata": {},
   "outputs": [],
   "source": [
    "paper_file = 'Papers_1950_2000_J.csv'\n",
    "ref_file = \"PaperReferences_1950_2000_J.csv\""
   ]
  },
  {
   "cell_type": "code",
   "execution_count": 5,
   "metadata": {},
   "outputs": [
    {
     "name": "stdout",
     "output_type": "stream",
     "text": [
      "Name: \n",
      "Type: DiGraph\n",
      "Number of nodes: 11453375\n",
      "Number of edges: 71843485\n",
      "Average in degree:   6.2727\n",
      "Average out degree:   6.2727\n"
     ]
    }
   ],
   "source": [
    "g = nx.read_edgelist(mag.get_path(ref_file), delimiter=\",\", create_using=nx.DiGraph(), nodetype=str, edgetype=int)\n",
    "print(nx.info(g))\n",
    "pr = nx.pagerank(g, alpha=0.85)"
   ]
  },
  {
   "cell_type": "code",
   "execution_count": null,
   "metadata": {},
   "outputs": [],
   "source": [
    "g = nx.read_edgelist(mag.get_path(ref_file), delimiter=\",\", create_using=nx.DiGraph(), nodetype=str, edgetype=int)\n",
    "print(nx.info(g))\n",
    "pr = nx.pagerank(g, alpha=0.85)"
   ]
  },
  {
   "cell_type": "code",
   "execution_count": null,
   "metadata": {},
   "outputs": [],
   "source": [
    "dict_to_csv(mag.get_path('pr_pid_1950_2000.csv'), ['pid', 'pr_value'], pr)"
   ]
  },
  {
   "cell_type": "code",
   "execution_count": null,
   "metadata": {},
   "outputs": [],
   "source": [
    "del g"
   ]
  },
  {
   "cell_type": "markdown",
   "metadata": {},
   "source": [
    "### Shuffle citations in the LCC of the paper citation network"
   ]
  },
  {
   "cell_type": "code",
   "execution_count": null,
   "metadata": {},
   "outputs": [],
   "source": [
    "pids_lcc = set()\n",
    "for line in mag.yield_one_line('pr_pid_1950_2000.csv', delimiter=','):\n",
    "    pid, pr = line\n",
    "    pids_lcc.add(pid)"
   ]
  },
  {
   "cell_type": "code",
   "execution_count": null,
   "metadata": {
    "scrolled": true
   },
   "outputs": [],
   "source": [
    "pid_year = {}\n",
    "for line in mag.yield_one_line(paper_file, delimiter=\",\"):\n",
    "    pid, year, jid, cid = line\n",
    "    pid_year[pid] = year"
   ]
  },
  {
   "cell_type": "code",
   "execution_count": null,
   "metadata": {},
   "outputs": [],
   "source": [
    "len(pid_year)"
   ]
  },
  {
   "cell_type": "markdown",
   "metadata": {},
   "source": [
    "#### Preserve the # citations between each pair of years"
   ]
  },
  {
   "cell_type": "code",
   "execution_count": 20,
   "metadata": {
    "scrolled": true
   },
   "outputs": [
    {
     "name": "stdout",
     "output_type": "stream",
     "text": [
      "processing /l/nx/data/haopeng/j2v/PaperReferences_1950_2000_J.csv...\n",
      "processed 1000000 lines...\n",
      "processed 2000000 lines...\n",
      "processed 3000000 lines...\n",
      "processed 4000000 lines...\n",
      "processed 5000000 lines...\n",
      "processed 6000000 lines...\n",
      "processed 7000000 lines...\n",
      "processed 8000000 lines...\n",
      "processed 9000000 lines...\n",
      "processed 10000000 lines...\n",
      "processed 11000000 lines...\n",
      "processed 12000000 lines...\n",
      "processed 13000000 lines...\n",
      "processed 14000000 lines...\n",
      "processed 15000000 lines...\n",
      "processed 16000000 lines...\n",
      "processed 17000000 lines...\n",
      "processed 18000000 lines...\n",
      "processed 19000000 lines...\n",
      "processed 20000000 lines...\n",
      "processed 21000000 lines...\n",
      "processed 22000000 lines...\n",
      "processed 23000000 lines...\n",
      "processed 24000000 lines...\n",
      "processed 25000000 lines...\n",
      "processed 26000000 lines...\n",
      "processed 27000000 lines...\n",
      "processed 28000000 lines...\n",
      "processed 29000000 lines...\n",
      "processed 30000000 lines...\n",
      "processed 31000000 lines...\n",
      "processed 32000000 lines...\n",
      "processed 33000000 lines...\n",
      "processed 34000000 lines...\n",
      "processed 35000000 lines...\n",
      "processed 36000000 lines...\n",
      "processed 37000000 lines...\n",
      "processed 38000000 lines...\n",
      "processed 39000000 lines...\n",
      "processed 40000000 lines...\n",
      "processed 41000000 lines...\n",
      "processed 42000000 lines...\n",
      "processed 43000000 lines...\n",
      "processed 44000000 lines...\n",
      "processed 45000000 lines...\n",
      "processed 46000000 lines...\n",
      "processed 47000000 lines...\n",
      "processed 48000000 lines...\n",
      "processed 49000000 lines...\n",
      "processed 50000000 lines...\n",
      "processed 51000000 lines...\n",
      "processed 52000000 lines...\n",
      "processed 53000000 lines...\n",
      "processed 54000000 lines...\n",
      "processed 55000000 lines...\n",
      "processed 56000000 lines...\n",
      "processed 57000000 lines...\n",
      "processed 58000000 lines...\n",
      "processed 59000000 lines...\n",
      "processed 60000000 lines...\n",
      "processed 61000000 lines...\n",
      "processed 62000000 lines...\n",
      "processed 63000000 lines...\n",
      "processed 64000000 lines...\n",
      "processed 65000000 lines...\n",
      "processed 66000000 lines...\n",
      "processed 67000000 lines...\n",
      "processed 68000000 lines...\n",
      "processed 69000000 lines...\n",
      "processed 70000000 lines...\n",
      "processed 71000000 lines...\n",
      "finished processing!\n",
      "\n"
     ]
    }
   ],
   "source": [
    "lcc_year_pids = defaultdict(set)\n",
    "lcc_pairs = []\n",
    "for line in mag.yield_one_line(ref_file, delimiter=','):\n",
    "    src, des = line\n",
    "    if src in pids_lcc and des in pids_lcc:\n",
    "        lcc_year_pids[pid_year[src]].add(src)\n",
    "        lcc_year_pids[pid_year[des]].add(des)\n",
    "        lcc_pairs.append((src, des))\n",
    "\n",
    "for year, pids in lcc_year_pids.items():\n",
    "    lcc_year_pids[year] = list(pids)"
   ]
  },
  {
   "cell_type": "code",
   "execution_count": 33,
   "metadata": {},
   "outputs": [
    {
     "data": {
      "text/plain": [
       "28098938"
      ]
     },
     "execution_count": 33,
     "metadata": {},
     "output_type": "execute_result"
    }
   ],
   "source": [
    "len(lcc_pairs)"
   ]
  },
  {
   "cell_type": "code",
   "execution_count": 22,
   "metadata": {},
   "outputs": [],
   "source": [
    "shuffle_citations = []\n",
    "count = 0\n",
    "for src, des in lcc_pairs:\n",
    "    new_s = random.choice(lcc_year_pids[pid_year[src]])\n",
    "    new_d = random.choice(lcc_year_pids[pid_year[des]])\n",
    "    shuffle_citations.append((new_s, new_d))\n",
    "    count += 1"
   ]
  },
  {
   "cell_type": "code",
   "execution_count": null,
   "metadata": {},
   "outputs": [
    {
     "name": "stdout",
     "output_type": "stream",
     "text": [
      "Name: \n",
      "Type: DiGraph\n",
      "Number of nodes: 11453158\n",
      "Number of edges: 71843433\n",
      "Average in degree:   6.2728\n",
      "Average out degree:   6.2728\n"
     ]
    }
   ],
   "source": [
    "g = nx.DiGraph()\n",
    "g.add_edges_from(shuffle_citations)\n",
    "print(nx.info(g))\n",
    "pr = nx.pagerank(g, alpha=0.85)"
   ]
  },
  {
   "cell_type": "code",
   "execution_count": 25,
   "metadata": {},
   "outputs": [
    {
     "data": {
      "text/plain": [
       "11453158"
      ]
     },
     "execution_count": 25,
     "metadata": {},
     "output_type": "execute_result"
    }
   ],
   "source": [
    "len(pr)"
   ]
  },
  {
   "cell_type": "code",
   "execution_count": 26,
   "metadata": {},
   "outputs": [],
   "source": [
    "dict_to_csv(mag.get_path('pr_random_preserve_year_1950_2000.csv'), ['pid', 'pr_value'], pr)"
   ]
  },
  {
   "cell_type": "code",
   "execution_count": null,
   "metadata": {},
   "outputs": [],
   "source": []
  }
 ],
 "metadata": {
  "kernelspec": {
   "display_name": "Python 3",
   "language": "python",
   "name": "python3"
  },
  "language_info": {
   "codemirror_mode": {
    "name": "ipython",
    "version": 3
   },
   "file_extension": ".py",
   "mimetype": "text/x-python",
   "name": "python",
   "nbconvert_exporter": "python",
   "pygments_lexer": "ipython3",
   "version": "3.6.7"
  }
 },
 "nbformat": 4,
 "nbformat_minor": 2
}
