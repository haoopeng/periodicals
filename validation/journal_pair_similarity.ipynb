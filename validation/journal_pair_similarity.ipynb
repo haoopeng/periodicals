{
 "cells": [
  {
   "cell_type": "code",
   "execution_count": 153,
   "metadata": {},
   "outputs": [],
   "source": [
    "import h5py\n",
    "import math\n",
    "import pickle\n",
    "import random\n",
    "import pandas as pd\n",
    "import numpy as np\n",
    "from j2v import mag, w2v, util\n",
    "import matplotlib.pyplot as plt\n",
    "from sklearn.neighbors import KernelDensity\n",
    "from scipy.stats import entropy\n",
    "from itertools import combinations\n",
    "from scipy.stats import ks_2samp\n",
    "from sklearn.decomposition import PCA\n",
    "from scipy.stats import pearsonr, ttest_ind\n",
    "from collections import defaultdict, Counter\n",
    "from sklearn.metrics.pairwise import cosine_similarity"
   ]
  },
  {
   "cell_type": "code",
   "execution_count": 2,
   "metadata": {
    "scrolled": false
   },
   "outputs": [
    {
     "name": "stdout",
     "output_type": "stream",
     "text": [
      "14113 journals in MAG's Journal.txt were matched to UCSD data, and 29 of them are interdisciplinary journals in UCSD catelog.\n"
     ]
    }
   ],
   "source": [
    "mapping = mag.load_map_jid_discipline('journal_discipline_map.csv')"
   ]
  },
  {
   "cell_type": "code",
   "execution_count": 3,
   "metadata": {},
   "outputs": [
    {
     "name": "stdout",
     "output_type": "stream",
     "text": [
      "processing /l/nx/data/haopeng/j2v/Journals.txt...\n",
      "finished processing!\n",
      "\n",
      "processing /l/nx/data/haopeng/j2v/Conferences.txt...\n",
      "finished processing!\n",
      "\n"
     ]
    }
   ],
   "source": [
    "vid2name = mag.get_venue_dict(key='id')\n",
    "vname2vid = {name: vid for vid, name in vid2name.items()}"
   ]
  },
  {
   "cell_type": "markdown",
   "metadata": {},
   "source": [
    "### J2v"
   ]
  },
  {
   "cell_type": "code",
   "execution_count": 4,
   "metadata": {
    "scrolled": true
   },
   "outputs": [
    {
     "name": "stdout",
     "output_type": "stream",
     "text": [
      "\n",
      "model shape is: (20835, 100) \n",
      "\n"
     ]
    }
   ],
   "source": [
    "model = w2v.load_j2v(mag.get_path('100feat_50minwords_10context_2016'))"
   ]
  },
  {
   "cell_type": "code",
   "execution_count": 5,
   "metadata": {},
   "outputs": [],
   "source": [
    "vid2index = dict((vid, i) for i, vid in enumerate(model.index2word))\n",
    "index2vid = {i: vid for vid, i in vid2index.items()}"
   ]
  },
  {
   "cell_type": "markdown",
   "metadata": {},
   "source": [
    "### Citation matrix"
   ]
  },
  {
   "cell_type": "code",
   "execution_count": 6,
   "metadata": {},
   "outputs": [],
   "source": [
    "# see `get_citation_vec_model.ipynb`\n",
    "\n",
    "h5f = h5py.File(mag.get_path('venue_citation_matrix.h5'),'r')\n",
    "in_out_matrix = h5f['matrix'][:]\n",
    "h5f.close()"
   ]
  },
  {
   "cell_type": "code",
   "execution_count": 7,
   "metadata": {},
   "outputs": [],
   "source": [
    "with open(mag.get_path('venue_citation_matrix_index.pickle'), 'rb') as file:\n",
    "    col_index2vid, vid2col_index = pickle.load(file)"
   ]
  },
  {
   "cell_type": "code",
   "execution_count": 10,
   "metadata": {},
   "outputs": [],
   "source": [
    "with open(mag.get_path('venue_citation_degrees.pickle'), 'rb') as file:\n",
    "    vid_out_sum, vid_in_sum = pickle.load(file)"
   ]
  },
  {
   "cell_type": "markdown",
   "metadata": {},
   "source": [
    "### Jaccard-Similarity matrix based on inter-citation matrix"
   ]
  },
  {
   "cell_type": "code",
   "execution_count": 14,
   "metadata": {},
   "outputs": [],
   "source": [
    "out_matrix = in_out_matrix[:, :len(in_out_matrix)]"
   ]
  },
  {
   "cell_type": "code",
   "execution_count": 15,
   "metadata": {},
   "outputs": [
    {
     "data": {
      "text/plain": [
       "array([1., 1., 1., ..., 1., 1., 1.])"
      ]
     },
     "execution_count": 15,
     "metadata": {},
     "output_type": "execute_result"
    }
   ],
   "source": [
    "np.sum(out_matrix, axis=1)"
   ]
  },
  {
   "cell_type": "code",
   "execution_count": 20,
   "metadata": {},
   "outputs": [],
   "source": [
    "out_sum = np.array([vid_out_sum[col_index2vid[i]] for i in range(len(out_matrix))])"
   ]
  },
  {
   "cell_type": "code",
   "execution_count": 21,
   "metadata": {},
   "outputs": [],
   "source": [
    "out_matrix = np.multiply(out_matrix, out_sum[:, np.newaxis])"
   ]
  },
  {
   "cell_type": "code",
   "execution_count": 22,
   "metadata": {},
   "outputs": [
    {
     "data": {
      "text/plain": [
       "array([8., 0., 0., ..., 0., 0., 0.])"
      ]
     },
     "execution_count": 22,
     "metadata": {},
     "output_type": "execute_result"
    }
   ],
   "source": [
    "out_matrix[0]"
   ]
  },
  {
   "cell_type": "code",
   "execution_count": 23,
   "metadata": {},
   "outputs": [
    {
     "data": {
      "text/plain": [
       "(24020, 24020)"
      ]
     },
     "execution_count": 23,
     "metadata": {},
     "output_type": "execute_result"
    }
   ],
   "source": [
    "out_matrix.shape"
   ]
  },
  {
   "cell_type": "code",
   "execution_count": 29,
   "metadata": {},
   "outputs": [],
   "source": [
    "raw = np.add(out_matrix, out_matrix.T)"
   ]
  },
  {
   "cell_type": "code",
   "execution_count": 26,
   "metadata": {},
   "outputs": [
    {
     "data": {
      "text/plain": [
       "True"
      ]
     },
     "execution_count": 26,
     "metadata": {},
     "output_type": "execute_result"
    }
   ],
   "source": [
    "np.allclose(raw, raw.T)"
   ]
  },
  {
   "cell_type": "code",
   "execution_count": 38,
   "metadata": {},
   "outputs": [],
   "source": [
    "a = np.repeat(out_sum[:, np.newaxis], len(raw), axis=1)"
   ]
  },
  {
   "cell_type": "code",
   "execution_count": 64,
   "metadata": {},
   "outputs": [],
   "source": [
    "del b"
   ]
  },
  {
   "cell_type": "code",
   "execution_count": 42,
   "metadata": {},
   "outputs": [],
   "source": [
    "denominator = np.add(a, a.T)\n",
    "denominator = np.subtract(denominator, raw)"
   ]
  },
  {
   "cell_type": "code",
   "execution_count": 63,
   "metadata": {},
   "outputs": [
    {
     "data": {
      "text/plain": [
       "True"
      ]
     },
     "execution_count": 63,
     "metadata": {},
     "output_type": "execute_result"
    }
   ],
   "source": [
    "np.allclose(denominator, denominator.T)"
   ]
  },
  {
   "cell_type": "code",
   "execution_count": 62,
   "metadata": {},
   "outputs": [
    {
     "data": {
      "text/plain": [
       "4888546"
      ]
     },
     "execution_count": 62,
     "metadata": {},
     "output_type": "execute_result"
    }
   ],
   "source": [
    "np.sum(denominator == 0)"
   ]
  },
  {
   "cell_type": "code",
   "execution_count": 71,
   "metadata": {},
   "outputs": [
    {
     "data": {
      "text/plain": [
       "0.0"
      ]
     },
     "execution_count": 71,
     "metadata": {},
     "output_type": "execute_result"
    }
   ],
   "source": [
    "denominator[21, 24]"
   ]
  },
  {
   "cell_type": "code",
   "execution_count": 76,
   "metadata": {},
   "outputs": [
    {
     "data": {
      "text/plain": [
       "0.0"
      ]
     },
     "execution_count": 76,
     "metadata": {},
     "output_type": "execute_result"
    }
   ],
   "source": [
    "sum(out_matrix[21])"
   ]
  },
  {
   "cell_type": "code",
   "execution_count": 77,
   "metadata": {},
   "outputs": [
    {
     "data": {
      "text/plain": [
       "0.0"
      ]
     },
     "execution_count": 77,
     "metadata": {},
     "output_type": "execute_result"
    }
   ],
   "source": [
    "sum(out_matrix[24])"
   ]
  },
  {
   "cell_type": "code",
   "execution_count": 79,
   "metadata": {},
   "outputs": [
    {
     "data": {
      "text/plain": [
       "2211"
      ]
     },
     "execution_count": 79,
     "metadata": {},
     "output_type": "execute_result"
    }
   ],
   "source": [
    "np.sum(out_sum == 0)"
   ]
  },
  {
   "cell_type": "code",
   "execution_count": 80,
   "metadata": {},
   "outputs": [],
   "source": [
    "jac = np.divide(raw, denominator, out=np.zeros_like(raw), where = denominator!=0)"
   ]
  },
  {
   "cell_type": "code",
   "execution_count": 81,
   "metadata": {},
   "outputs": [
    {
     "data": {
      "text/plain": [
       "(24020, 24020)"
      ]
     },
     "execution_count": 81,
     "metadata": {},
     "output_type": "execute_result"
    }
   ],
   "source": [
    "jac.shape"
   ]
  },
  {
   "cell_type": "code",
   "execution_count": 82,
   "metadata": {},
   "outputs": [
    {
     "data": {
      "text/plain": [
       "True"
      ]
     },
     "execution_count": 82,
     "metadata": {},
     "output_type": "execute_result"
    }
   ],
   "source": [
    "np.allclose(jac, jac.T)"
   ]
  },
  {
   "cell_type": "code",
   "execution_count": 83,
   "metadata": {},
   "outputs": [
    {
     "data": {
      "text/plain": [
       "0"
      ]
     },
     "execution_count": 83,
     "metadata": {},
     "output_type": "execute_result"
    }
   ],
   "source": [
    "np.sum(np.isnan(jac))"
   ]
  },
  {
   "cell_type": "code",
   "execution_count": 145,
   "metadata": {},
   "outputs": [
    {
     "data": {
      "text/plain": [
       "array([[0.01188707, 0.        , 0.        , 0.        , 0.        ],\n",
       "       [0.        , 0.16129032, 0.        , 0.        , 0.        ],\n",
       "       [0.        , 0.        , 0.018215  , 0.        , 0.        ],\n",
       "       [0.        , 0.        , 0.        , 0.        , 0.        ],\n",
       "       [0.        , 0.        , 0.        , 0.        , 0.0228505 ]])"
      ]
     },
     "execution_count": 145,
     "metadata": {},
     "output_type": "execute_result"
    }
   ],
   "source": [
    "jac[:5, :5]"
   ]
  },
  {
   "cell_type": "code",
   "execution_count": 146,
   "metadata": {},
   "outputs": [],
   "source": [
    "h5f = h5py.File(mag.get_path('jac_simi_matrix.h5'), 'w')\n",
    "h5f.create_dataset('jac', data=jac)\n",
    "h5f.close()"
   ]
  },
  {
   "cell_type": "code",
   "execution_count": 41,
   "metadata": {},
   "outputs": [],
   "source": [
    "h5f = h5py.File(mag.get_path('jac_simi_matrix.h5'),'r')\n",
    "jac = h5f['jac'][:]\n",
    "h5f.close()"
   ]
  },
  {
   "cell_type": "markdown",
   "metadata": {},
   "source": [
    "### Comparison"
   ]
  },
  {
   "cell_type": "code",
   "execution_count": 84,
   "metadata": {},
   "outputs": [
    {
     "name": "stdout",
     "output_type": "stream",
     "text": [
      "This group is small, can not generate # of pairs required, return all pairs!\n"
     ]
    }
   ],
   "source": [
    "num_pairs = 100000\n",
    "\n",
    "# within-discipline\n",
    "pairs = []\n",
    "for name, group in mapping.groupby('disc_name'):\n",
    "    p = util.sample_pairs(group['jid'].tolist(), num_pairs//10)\n",
    "    pairs.extend(p)\n",
    "pairs = random.sample(pairs, num_pairs)\n",
    "\n",
    "# cross-discipline\n",
    "groups = []\n",
    "for name, group in mapping.groupby('disc_name'):\n",
    "    groups.append(group['jid'].tolist())\n",
    "accross_pairs = util.sample_cross_group_pairs(groups, num_pairs//10)\n",
    "accross_pairs = random.sample(accross_pairs, num_pairs)\n",
    "\n",
    "# within-subdiscipline\n",
    "pairs_subd = []\n",
    "for name, subd_group in mapping.groupby('subd_name'):\n",
    "    p = list(combinations(subd_group['jid'].tolist(), 2))\n",
    "    pairs_subd.extend(p)\n",
    "pairs_subd = random.sample(pairs_subd, num_pairs)\n",
    "\n",
    "# random pairs\n",
    "random_p = util.sample_pairs(mapping['jid'].tolist(), num_pairs)"
   ]
  },
  {
   "cell_type": "code",
   "execution_count": 85,
   "metadata": {},
   "outputs": [
    {
     "data": {
      "text/plain": [
       "100000"
      ]
     },
     "execution_count": 85,
     "metadata": {},
     "output_type": "execute_result"
    }
   ],
   "source": [
    "len(pairs)"
   ]
  },
  {
   "cell_type": "code",
   "execution_count": 86,
   "metadata": {},
   "outputs": [
    {
     "data": {
      "text/plain": [
       "100000"
      ]
     },
     "execution_count": 86,
     "metadata": {},
     "output_type": "execute_result"
    }
   ],
   "source": [
    "len(accross_pairs)"
   ]
  },
  {
   "cell_type": "code",
   "execution_count": 87,
   "metadata": {},
   "outputs": [
    {
     "data": {
      "text/plain": [
       "100000"
      ]
     },
     "execution_count": 87,
     "metadata": {},
     "output_type": "execute_result"
    }
   ],
   "source": [
    "len(pairs_subd)"
   ]
  },
  {
   "cell_type": "code",
   "execution_count": 88,
   "metadata": {},
   "outputs": [
    {
     "data": {
      "text/plain": [
       "100000"
      ]
     },
     "execution_count": 88,
     "metadata": {},
     "output_type": "execute_result"
    }
   ],
   "source": [
    "len(random_p)"
   ]
  },
  {
   "cell_type": "markdown",
   "metadata": {},
   "source": [
    "Rand pairs"
   ]
  },
  {
   "cell_type": "code",
   "execution_count": 179,
   "metadata": {},
   "outputs": [],
   "source": [
    "j2v_rand = []\n",
    "cite_vec_rand = []\n",
    "jac_vec_rand = []\n",
    "\n",
    "for j1, j2 in random_p:\n",
    "    try:\n",
    "        j2v_rand.append(model.similarity(j1, j2))\n",
    "        cite_vec_rand.append(cosine_similarity(in_out_matrix[vid2col_index[j1]].reshape(1, -1), in_out_matrix[vid2col_index[j2]].reshape(1, -1))[0][0])\n",
    "        jac_vec_rand.append(cosine_similarity(jac[vid2col_index[j1]].reshape(1, -1), jac[vid2col_index[j2]].reshape(1, -1))[0][0])\n",
    "    except:\n",
    "        # j not in model.\n",
    "        pass"
   ]
  },
  {
   "cell_type": "code",
   "execution_count": 90,
   "metadata": {},
   "outputs": [
    {
     "data": {
      "text/plain": [
       "82012"
      ]
     },
     "execution_count": 90,
     "metadata": {},
     "output_type": "execute_result"
    }
   ],
   "source": [
    "len(j2v_rand)"
   ]
  },
  {
   "cell_type": "code",
   "execution_count": 93,
   "metadata": {
    "scrolled": true
   },
   "outputs": [
    {
     "data": {
      "text/plain": [
       "0.06916449723952565"
      ]
     },
     "execution_count": 93,
     "metadata": {},
     "output_type": "execute_result"
    }
   ],
   "source": [
    "np.mean(j2v_rand)"
   ]
  },
  {
   "cell_type": "code",
   "execution_count": 94,
   "metadata": {},
   "outputs": [
    {
     "data": {
      "text/plain": [
       "0.023673916604539214"
      ]
     },
     "execution_count": 94,
     "metadata": {},
     "output_type": "execute_result"
    }
   ],
   "source": [
    "np.mean(cite_vec_rand)"
   ]
  },
  {
   "cell_type": "code",
   "execution_count": 95,
   "metadata": {},
   "outputs": [
    {
     "data": {
      "text/plain": [
       "0.008177106402502951"
      ]
     },
     "execution_count": 95,
     "metadata": {},
     "output_type": "execute_result"
    }
   ],
   "source": [
    "np.mean(jac_vec_rand)"
   ]
  },
  {
   "cell_type": "code",
   "execution_count": 19,
   "metadata": {
    "scrolled": false
   },
   "outputs": [
    {
     "data": {
      "text/plain": [
       "Ttest_indResult(statistic=67.58213858224157, pvalue=0.0)"
      ]
     },
     "execution_count": 19,
     "metadata": {},
     "output_type": "execute_result"
    }
   ],
   "source": [
    "ttest_ind(j2v_rand, cite_vec_rand)"
   ]
  },
  {
   "cell_type": "code",
   "execution_count": 100,
   "metadata": {
    "scrolled": false
   },
   "outputs": [
    {
     "data": {
      "text/plain": [
       "Ttest_indResult(statistic=89.50911764111048, pvalue=0.0)"
      ]
     },
     "execution_count": 100,
     "metadata": {},
     "output_type": "execute_result"
    }
   ],
   "source": [
    "ttest_ind(j2v_rand, jac_vec_rand)"
   ]
  },
  {
   "cell_type": "markdown",
   "metadata": {},
   "source": [
    "cross disc pairs"
   ]
  },
  {
   "cell_type": "code",
   "execution_count": 101,
   "metadata": {},
   "outputs": [],
   "source": [
    "j2v_simi_scores_diff = []\n",
    "cite_vec_simi_scores_diff = []\n",
    "jac_vec_simi_scores_diff = []\n",
    "\n",
    "for j1, j2 in accross_pairs:\n",
    "    try:\n",
    "        j2v_simi_scores_diff.append(model.similarity(j1, j2))\n",
    "        cite_vec_simi_scores_diff.append(cosine_similarity(in_out_matrix[vid2col_index[j1]].reshape(1, -1), in_out_matrix[vid2col_index[j2]].reshape(1, -1))[0][0])\n",
    "        jac_vec_simi_scores_diff.append(cosine_similarity(jac[vid2col_index[j1]].reshape(1, -1), jac[vid2col_index[j2]].reshape(1, -1))[0][0])\n",
    "    except:\n",
    "        # j not in model.\n",
    "        pass"
   ]
  },
  {
   "cell_type": "code",
   "execution_count": 102,
   "metadata": {},
   "outputs": [
    {
     "data": {
      "text/plain": [
       "83723"
      ]
     },
     "execution_count": 102,
     "metadata": {},
     "output_type": "execute_result"
    }
   ],
   "source": [
    "len(j2v_simi_scores_diff)"
   ]
  },
  {
   "cell_type": "code",
   "execution_count": 103,
   "metadata": {},
   "outputs": [
    {
     "data": {
      "text/plain": [
       "0.027697164183546185"
      ]
     },
     "execution_count": 103,
     "metadata": {},
     "output_type": "execute_result"
    }
   ],
   "source": [
    "np.mean(j2v_simi_scores_diff)"
   ]
  },
  {
   "cell_type": "code",
   "execution_count": 104,
   "metadata": {
    "scrolled": false
   },
   "outputs": [
    {
     "data": {
      "text/plain": [
       "0.02914569472484637"
      ]
     },
     "execution_count": 104,
     "metadata": {},
     "output_type": "execute_result"
    }
   ],
   "source": [
    "np.mean(cite_vec_simi_scores_diff)"
   ]
  },
  {
   "cell_type": "code",
   "execution_count": 105,
   "metadata": {
    "scrolled": false
   },
   "outputs": [
    {
     "data": {
      "text/plain": [
       "0.00916482800339349"
      ]
     },
     "execution_count": 105,
     "metadata": {},
     "output_type": "execute_result"
    }
   ],
   "source": [
    "np.mean(jac_vec_simi_scores_diff)"
   ]
  },
  {
   "cell_type": "code",
   "execution_count": 106,
   "metadata": {},
   "outputs": [],
   "source": [
    "def KL_dist(j2v_simi_scores, j2v_rand, bd, kernel='gaussian'):\n",
    "    kde_rand = KernelDensity(kernel=kernel, bandwidth = bd).fit(np.array(j2v_rand)[:, np.newaxis])\n",
    "    logpdf_rand = kde_rand.score_samples(xs[:, np.newaxis])\n",
    "\n",
    "    kde = KernelDensity(kernel=kernel, bandwidth = bd).fit(np.array(j2v_simi_scores)[:, np.newaxis])\n",
    "    logpdf = kde.score_samples(xs[:, np.newaxis])\n",
    "\n",
    "    return entropy(pk=np.exp(logpdf), qk=np.exp(logpdf_rand))"
   ]
  },
  {
   "cell_type": "code",
   "execution_count": 187,
   "metadata": {},
   "outputs": [],
   "source": [
    "bd = 0.05\n",
    "xs = np.linspace(-1, 1, 100)"
   ]
  },
  {
   "cell_type": "code",
   "execution_count": 108,
   "metadata": {},
   "outputs": [
    {
     "data": {
      "text/plain": [
       "0.025652405668179824"
      ]
     },
     "execution_count": 108,
     "metadata": {},
     "output_type": "execute_result"
    }
   ],
   "source": [
    "KL_dist(j2v_simi_scores_diff, j2v_rand, bd)"
   ]
  },
  {
   "cell_type": "code",
   "execution_count": 109,
   "metadata": {
    "scrolled": true
   },
   "outputs": [
    {
     "data": {
      "text/plain": [
       "0.0020438105006284246"
      ]
     },
     "execution_count": 109,
     "metadata": {},
     "output_type": "execute_result"
    }
   ],
   "source": [
    "KL_dist(cite_vec_simi_scores_diff, cite_vec_rand, bd, kernel='exponential')"
   ]
  },
  {
   "cell_type": "code",
   "execution_count": 110,
   "metadata": {
    "scrolled": true
   },
   "outputs": [
    {
     "data": {
      "text/plain": [
       "0.0001627485069352245"
      ]
     },
     "execution_count": 110,
     "metadata": {},
     "output_type": "execute_result"
    }
   ],
   "source": [
    "KL_dist(jac_vec_simi_scores_diff, jac_vec_rand, bd, kernel='exponential')"
   ]
  },
  {
   "cell_type": "markdown",
   "metadata": {},
   "source": [
    "Same disc"
   ]
  },
  {
   "cell_type": "code",
   "execution_count": 180,
   "metadata": {},
   "outputs": [],
   "source": [
    "j2v_simi_scores = []\n",
    "cite_vec_simi_scores = []\n",
    "jac_vec_simi_scores = []\n",
    "\n",
    "for j1, j2 in pairs:\n",
    "    try:\n",
    "        j2v_simi_scores.append(model.similarity(j1, j2))\n",
    "        cite_vec_simi_scores.append(cosine_similarity(in_out_matrix[vid2col_index[j1]].reshape(1, -1), in_out_matrix[vid2col_index[j2]].reshape(1, -1))[0][0])\n",
    "        jac_vec_simi_scores.append(cosine_similarity(jac[vid2col_index[j1]].reshape(1, -1), jac[vid2col_index[j2]].reshape(1, -1))[0][0])\n",
    "    except:\n",
    "        # j not in model.\n",
    "        pass"
   ]
  },
  {
   "cell_type": "code",
   "execution_count": 113,
   "metadata": {},
   "outputs": [
    {
     "data": {
      "text/plain": [
       "83541"
      ]
     },
     "execution_count": 113,
     "metadata": {},
     "output_type": "execute_result"
    }
   ],
   "source": [
    "len(j2v_simi_scores)"
   ]
  },
  {
   "cell_type": "code",
   "execution_count": 114,
   "metadata": {},
   "outputs": [
    {
     "data": {
      "text/plain": [
       "0.24450503418052433"
      ]
     },
     "execution_count": 114,
     "metadata": {},
     "output_type": "execute_result"
    }
   ],
   "source": [
    "np.mean(j2v_simi_scores)"
   ]
  },
  {
   "cell_type": "code",
   "execution_count": 115,
   "metadata": {
    "scrolled": true
   },
   "outputs": [
    {
     "data": {
      "text/plain": [
       "0.10001923978476264"
      ]
     },
     "execution_count": 115,
     "metadata": {},
     "output_type": "execute_result"
    }
   ],
   "source": [
    "np.mean(cite_vec_simi_scores)"
   ]
  },
  {
   "cell_type": "code",
   "execution_count": 116,
   "metadata": {
    "scrolled": true
   },
   "outputs": [
    {
     "data": {
      "text/plain": [
       "0.04597340154847054"
      ]
     },
     "execution_count": 116,
     "metadata": {},
     "output_type": "execute_result"
    }
   ],
   "source": [
    "np.mean(jac_vec_simi_scores)"
   ]
  },
  {
   "cell_type": "code",
   "execution_count": 117,
   "metadata": {},
   "outputs": [
    {
     "data": {
      "text/plain": [
       "0.3416988110338021"
      ]
     },
     "execution_count": 117,
     "metadata": {},
     "output_type": "execute_result"
    }
   ],
   "source": [
    "KL_dist(j2v_simi_scores, j2v_rand, bd)"
   ]
  },
  {
   "cell_type": "code",
   "execution_count": 118,
   "metadata": {},
   "outputs": [
    {
     "data": {
      "text/plain": [
       "0.252504538566558"
      ]
     },
     "execution_count": 118,
     "metadata": {},
     "output_type": "execute_result"
    }
   ],
   "source": [
    "KL_dist(cite_vec_simi_scores, cite_vec_rand, bd, kernel='exponential')"
   ]
  },
  {
   "cell_type": "code",
   "execution_count": 119,
   "metadata": {},
   "outputs": [
    {
     "data": {
      "text/plain": [
       "0.10722109896132394"
      ]
     },
     "execution_count": 119,
     "metadata": {},
     "output_type": "execute_result"
    }
   ],
   "source": [
    "KL_dist(jac_vec_simi_scores, jac_vec_rand, bd, kernel='exponential')"
   ]
  },
  {
   "cell_type": "markdown",
   "metadata": {},
   "source": [
    "Same sub disc"
   ]
  },
  {
   "cell_type": "code",
   "execution_count": 120,
   "metadata": {},
   "outputs": [],
   "source": [
    "j2v_simi_scores_sub = []\n",
    "cite_vec_simi_scores_sub = []\n",
    "jac_vec_simi_scores_sub = []\n",
    "\n",
    "for j1, j2 in pairs_subd:\n",
    "    try:\n",
    "        j2v_simi_scores_sub.append(model.similarity(j1, j2))\n",
    "        cite_vec_simi_scores_sub.append(cosine_similarity(in_out_matrix[vid2col_index[j1]].reshape(1, -1), in_out_matrix[vid2col_index[j2]].reshape(1, -1))[0][0])\n",
    "        jac_vec_simi_scores_sub.append(cosine_similarity(jac[vid2col_index[j1]].reshape(1, -1), jac[vid2col_index[j2]].reshape(1, -1))[0][0])\n",
    "    except:\n",
    "        # j not in model.\n",
    "        pass"
   ]
  },
  {
   "cell_type": "code",
   "execution_count": 121,
   "metadata": {},
   "outputs": [
    {
     "data": {
      "text/plain": [
       "81796"
      ]
     },
     "execution_count": 121,
     "metadata": {},
     "output_type": "execute_result"
    }
   ],
   "source": [
    "len(j2v_simi_scores_sub)"
   ]
  },
  {
   "cell_type": "code",
   "execution_count": 122,
   "metadata": {},
   "outputs": [
    {
     "data": {
      "text/plain": [
       "0.5403486794027654"
      ]
     },
     "execution_count": 122,
     "metadata": {},
     "output_type": "execute_result"
    }
   ],
   "source": [
    "np.mean(j2v_simi_scores_sub)"
   ]
  },
  {
   "cell_type": "code",
   "execution_count": 123,
   "metadata": {
    "scrolled": true
   },
   "outputs": [
    {
     "data": {
      "text/plain": [
       "0.28430442394591154"
      ]
     },
     "execution_count": 123,
     "metadata": {},
     "output_type": "execute_result"
    }
   ],
   "source": [
    "np.mean(cite_vec_simi_scores_sub)"
   ]
  },
  {
   "cell_type": "code",
   "execution_count": 124,
   "metadata": {
    "scrolled": true
   },
   "outputs": [
    {
     "data": {
      "text/plain": [
       "0.17498856619235828"
      ]
     },
     "execution_count": 124,
     "metadata": {},
     "output_type": "execute_result"
    }
   ],
   "source": [
    "np.mean(jac_vec_simi_scores_sub)"
   ]
  },
  {
   "cell_type": "code",
   "execution_count": 125,
   "metadata": {},
   "outputs": [
    {
     "data": {
      "text/plain": [
       "2.061762562946193"
      ]
     },
     "execution_count": 125,
     "metadata": {},
     "output_type": "execute_result"
    }
   ],
   "source": [
    "KL_dist(j2v_simi_scores_sub, j2v_rand, bd)"
   ]
  },
  {
   "cell_type": "code",
   "execution_count": 126,
   "metadata": {
    "scrolled": true
   },
   "outputs": [
    {
     "data": {
      "text/plain": [
       "1.5721923659100108"
      ]
     },
     "execution_count": 126,
     "metadata": {},
     "output_type": "execute_result"
    }
   ],
   "source": [
    "KL_dist(cite_vec_simi_scores_sub, cite_vec_rand, bd, kernel='exponential')"
   ]
  },
  {
   "cell_type": "code",
   "execution_count": 127,
   "metadata": {
    "scrolled": true
   },
   "outputs": [
    {
     "data": {
      "text/plain": [
       "1.070938566177922"
      ]
     },
     "execution_count": 127,
     "metadata": {},
     "output_type": "execute_result"
    }
   ],
   "source": [
    "KL_dist(jac_vec_simi_scores_sub, jac_vec_rand, bd, kernel='exponential')"
   ]
  },
  {
   "cell_type": "markdown",
   "metadata": {},
   "source": [
    "Plot"
   ]
  },
  {
   "cell_type": "code",
   "execution_count": 152,
   "metadata": {
    "scrolled": false
   },
   "outputs": [
    {
     "data": {
      "image/png": "[encoded data removed]",
      "text/plain": [
       "<Figure size 504x180 with 3 Axes>"
      ]
     },
     "metadata": {},
     "output_type": "display_data"
    }
   ],
   "source": [
    "a = 1\n",
    "b = 40\n",
    "fig, (ax1, ax2, ax3)= plt.subplots(1, 3, figsize=(7, 2.5))\n",
    "\n",
    "ax1.hist(cite_vec_rand, bins = b, alpha = a, label = 'random', color = 'black', histtype='step')\n",
    "ax1.hist(cite_vec_simi_scores_diff, bins = b, alpha = a, label = 'cross-disc.',  color = '#808080', histtype='step')\n",
    "ax1.hist(cite_vec_simi_scores, bins = b, alpha = a, label = 'discipline',  color = '#d95f02', histtype='step')\n",
    "ax1.hist(cite_vec_simi_scores_sub, bins = b, alpha = a, label = 'sub-discipline',  color = '#1b9e77', histtype='step')\n",
    "ax1.set_ylabel('Number of journal pairs')\n",
    "ax1.set_xlabel('Cosine similarity')\n",
    "ax1.set_xlim(-0.1, 1.1)\n",
    "# ax1.set_yscale('log')\n",
    "ax1.ticklabel_format(axis='y', style='sci', scilimits=(0,0), useMathText=True)\n",
    "ax1.set_title('cv')\n",
    "\n",
    "ax2.hist(jac_vec_rand, bins = b, alpha = a, label = 'random', color = 'black', histtype='step')\n",
    "ax2.hist(jac_vec_simi_scores_diff, bins = b, alpha = a, label = 'cross-disc.',  color = '#808080', histtype='step')\n",
    "ax2.hist(jac_vec_simi_scores, bins = b, alpha = a, label = 'discipline',  color = '#d95f02', histtype='step')\n",
    "ax2.hist(jac_vec_simi_scores_sub, bins = b, alpha = a, label = 'sub-discipline',  color = '#1b9e77', histtype='step')\n",
    "ax2.set_xlabel('Cosine similarity')\n",
    "# ax2.set_ylabel('Number of journal pairs')\n",
    "ax2.set_xlim(-0.1, 1.1)\n",
    "ax2.ticklabel_format(axis='y', style='sci', scilimits=(0,0), useMathText=True)\n",
    "ax2.set_ylim([0, 8.5e4])\n",
    "ax2.set_yticks([0, 2e4, 4e4, 6e4, 8e4])\n",
    "ax2.set_title('jac')\n",
    "\n",
    "ax3.hist(j2v_rand, bins = b, alpha = a, label = 'random', color = 'black', histtype='step')\n",
    "ax3.hist(j2v_simi_scores_diff, bins = b, alpha = a, label = 'cross-disc.',  color = '#808080', histtype='step')\n",
    "ax3.hist(j2v_simi_scores, bins = b, alpha = a, label = 'discipline',  color = '#d95f02', histtype='step')\n",
    "ax3.hist(j2v_simi_scores_sub, bins = b, alpha = a, label = 'sub-discipline',  color = '#1b9e77', histtype='step')\n",
    "ax3.set_xlabel('Cosine similarity')\n",
    "# ax3.set_ylabel('Number of journal pairs')\n",
    "ax3.set_title('p2v')\n",
    "ax3.ticklabel_format(axis='y', style='sci', scilimits=(0,0), useMathText=True)\n",
    "ax3.set_ylim([0, 8.5e3])\n",
    "ax3.set_yticks([0, 2e3, 4e3, 6e3, 8e3])\n",
    "ax3.set_xticks([-0.5, 0, 0.5, 1])\n",
    "\n",
    "ax1.legend(loc='lower left', bbox_to_anchor=(0.13, 0.5), fontsize = 9, frameon = False)\n",
    "\n",
    "fig.subplots_adjust(wspace=0.2, hspace=0)\n",
    "plt.show()\n",
    "fig.savefig('j2v_vs_cite_simi.pdf', bbox_inches='tight', pad_inches=0.01)"
   ]
  },
  {
   "cell_type": "code",
   "execution_count": null,
   "metadata": {},
   "outputs": [],
   "source": []
  }
 ],
 "metadata": {
  "kernelspec": {
   "display_name": "Python 3",
   "language": "python",
   "name": "python3"
  },
  "language_info": {
   "codemirror_mode": {
    "name": "ipython",
    "version": 3
   },
   "file_extension": ".py",
   "mimetype": "text/x-python",
   "name": "python",
   "nbconvert_exporter": "python",
   "pygments_lexer": "ipython3",
   "version": "3.6.7"
  }
 },
 "nbformat": 4,
 "nbformat_minor": 1
}
