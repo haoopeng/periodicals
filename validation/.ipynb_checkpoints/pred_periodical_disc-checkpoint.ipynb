{
 "cells": [
  {
   "cell_type": "code",
   "execution_count": 1,
   "metadata": {},
   "outputs": [
    {
     "name": "stderr",
     "output_type": "stream",
     "text": [
      "Using Theano backend.\n"
     ]
    }
   ],
   "source": [
    "import h5py\n",
    "import pickle\n",
    "import random\n",
    "import pandas as pd\n",
    "import numpy as np\n",
    "from j2v import mag\n",
    "from j2v import w2v\n",
    "from j2v import predict\n",
    "import matplotlib.pyplot as plt\n",
    "from sklearn import metrics\n",
    "from sklearn.model_selection import KFold\n",
    "from sklearn.model_selection import cross_val_score\n",
    "from sklearn.neighbors import KNeighborsClassifier\n",
    "from collections import defaultdict, Counter\n",
    "from matplotlib.ticker import FormatStrFormatter"
   ]
  },
  {
   "cell_type": "code",
   "execution_count": 2,
   "metadata": {},
   "outputs": [
    {
     "name": "stdout",
     "output_type": "stream",
     "text": [
      "\n",
      "model shape is: (20835, 100) \n",
      "\n"
     ]
    }
   ],
   "source": [
    "model = w2v.load_j2v(mag.get_path('100feat_50minwords_10context_2016'))"
   ]
  },
  {
   "cell_type": "code",
   "execution_count": 5,
   "metadata": {
    "scrolled": true
   },
   "outputs": [
    {
     "name": "stdout",
     "output_type": "stream",
     "text": [
      "14113 journals in MAG's Journal.txt were matched to UCSD data, and 29 of them are interdisciplinary journals in UCSD catelog.\n"
     ]
    }
   ],
   "source": [
    "mapping = mag.load_map_jid_discipline('journal_discipline_map.csv')"
   ]
  },
  {
   "cell_type": "code",
   "execution_count": 6,
   "metadata": {},
   "outputs": [],
   "source": [
    "def evaluate(algo, data, output_dict = False):\n",
    "    data_feat, y_true = predict.get_feat_label(data)\n",
    "    y_pred = algo.predict(data_feat)\n",
    "    y_pred = y_pred.tolist()\n",
    "    y_true = y_true.tolist()\n",
    "    labels = list(set(y_true))\n",
    "    confux = metrics.confusion_matrix(y_true, y_pred)\n",
    "    report = metrics.classification_report(y_true, y_pred, output_dict=output_dict)\n",
    "    if output_dict:\n",
    "        return report\n",
    "    else:\n",
    "        # print('\\nConfusion matrix:\\n\\n{}'.format(confux))\n",
    "        print('\\nReport:\\n\\n{}'.format(report))"
   ]
  },
  {
   "cell_type": "code",
   "execution_count": 3,
   "metadata": {},
   "outputs": [],
   "source": [
    "ks = [3, 5, 10, 15, 20, 25]\n",
    "CIs = {'90': 1.645, '95': 1.96, '99': 2.576}"
   ]
  },
  {
   "cell_type": "markdown",
   "metadata": {},
   "source": [
    "### j2v"
   ]
  },
  {
   "cell_type": "code",
   "execution_count": 7,
   "metadata": {},
   "outputs": [
    {
     "name": "stdout",
     "output_type": "stream",
     "text": [
      "data length: 12780, new_data length: 8055\n"
     ]
    }
   ],
   "source": [
    "data, new_data = predict.prepare_data(model, mapping)"
   ]
  },
  {
   "cell_type": "code",
   "execution_count": 8,
   "metadata": {},
   "outputs": [],
   "source": [
    "del new_data"
   ]
  },
  {
   "cell_type": "code",
   "execution_count": 9,
   "metadata": {},
   "outputs": [],
   "source": [
    "data = data.loc[data.disc_name!='Interdiscipline']\n",
    "data = data.sample(frac = 1.0, random_state = 50)\n",
    "data.index = range(len(data))"
   ]
  },
  {
   "cell_type": "code",
   "execution_count": 10,
   "metadata": {},
   "outputs": [],
   "source": [
    "train_size = int(len(data) * 0.8)"
   ]
  },
  {
   "cell_type": "code",
   "execution_count": 11,
   "metadata": {},
   "outputs": [
    {
     "data": {
      "text/plain": [
       "12751"
      ]
     },
     "execution_count": 11,
     "metadata": {},
     "output_type": "execute_result"
    }
   ],
   "source": [
    "len(data)"
   ]
  },
  {
   "cell_type": "code",
   "execution_count": 12,
   "metadata": {},
   "outputs": [
    {
     "data": {
      "text/html": [
       "<div>\n",
       "<style scoped>\n",
       "    .dataframe tbody tr th:only-of-type {\n",
       "        vertical-align: middle;\n",
       "    }\n",
       "\n",
       "    .dataframe tbody tr th {\n",
       "        vertical-align: top;\n",
       "    }\n",
       "\n",
       "    .dataframe thead th {\n",
       "        text-align: right;\n",
       "    }\n",
       "</style>\n",
       "<table border=\"1\" class=\"dataframe\">\n",
       "  <thead>\n",
       "    <tr style=\"text-align: right;\">\n",
       "      <th></th>\n",
       "      <th>jid</th>\n",
       "      <th>vec</th>\n",
       "      <th>disc_name</th>\n",
       "      <th>disc_id</th>\n",
       "    </tr>\n",
       "  </thead>\n",
       "  <tbody>\n",
       "    <tr>\n",
       "      <th>0</th>\n",
       "      <td>064E8C6E</td>\n",
       "      <td>[0.1474838, -0.02644856, 0.050521947, -0.17488...</td>\n",
       "      <td>Chemical, Mechanical, &amp; Civil Engineering</td>\n",
       "      <td>4</td>\n",
       "    </tr>\n",
       "    <tr>\n",
       "      <th>1</th>\n",
       "      <td>0409A0BE</td>\n",
       "      <td>[-0.026871508, -0.0149207935, -0.14497748, 0.0...</td>\n",
       "      <td>Social Sciences</td>\n",
       "      <td>13</td>\n",
       "    </tr>\n",
       "    <tr>\n",
       "      <th>2</th>\n",
       "      <td>0A4EC460</td>\n",
       "      <td>[0.12223036, -0.04064537, 0.13387638, 0.091028...</td>\n",
       "      <td>Biology</td>\n",
       "      <td>1</td>\n",
       "    </tr>\n",
       "    <tr>\n",
       "      <th>3</th>\n",
       "      <td>073DD5CA</td>\n",
       "      <td>[0.086067885, -0.10123753, 0.032514945, -0.231...</td>\n",
       "      <td>Health Professionals</td>\n",
       "      <td>12</td>\n",
       "    </tr>\n",
       "    <tr>\n",
       "      <th>4</th>\n",
       "      <td>035539A0</td>\n",
       "      <td>[-0.011840087, -0.16105092, 0.028254243, -0.09...</td>\n",
       "      <td>Chemical, Mechanical, &amp; Civil Engineering</td>\n",
       "      <td>4</td>\n",
       "    </tr>\n",
       "  </tbody>\n",
       "</table>\n",
       "</div>"
      ],
      "text/plain": [
       "        jid                                                vec  \\\n",
       "0  064E8C6E  [0.1474838, -0.02644856, 0.050521947, -0.17488...   \n",
       "1  0409A0BE  [-0.026871508, -0.0149207935, -0.14497748, 0.0...   \n",
       "2  0A4EC460  [0.12223036, -0.04064537, 0.13387638, 0.091028...   \n",
       "3  073DD5CA  [0.086067885, -0.10123753, 0.032514945, -0.231...   \n",
       "4  035539A0  [-0.011840087, -0.16105092, 0.028254243, -0.09...   \n",
       "\n",
       "                                   disc_name  disc_id  \n",
       "0  Chemical, Mechanical, & Civil Engineering        4  \n",
       "1                            Social Sciences       13  \n",
       "2                                    Biology        1  \n",
       "3                       Health Professionals       12  \n",
       "4  Chemical, Mechanical, & Civil Engineering        4  "
      ]
     },
     "execution_count": 12,
     "metadata": {},
     "output_type": "execute_result"
    }
   ],
   "source": [
    "data.head()"
   ]
  },
  {
   "cell_type": "code",
   "execution_count": 13,
   "metadata": {},
   "outputs": [
    {
     "name": "stdout",
     "output_type": "stream",
     "text": [
      "\t\t12751 known data distribution (baseline prediction)\n",
      "\n",
      "                                      Biology:\t1051 ( 8.24/100)\n",
      "                                Biotechnology:\t 238 ( 1.87/100)\n",
      "                               Brain Research:\t 738 ( 5.79/100)\n",
      "    Chemical, Mechanical, & Civil Engineering:\t1016 ( 7.97/100)\n",
      "                                    Chemistry:\t 640 ( 5.02/100)\n",
      "                               Earth Sciences:\t 489 ( 3.83/100)\n",
      "    Electrical Engineering & Computer Science:\t 778 ( 6.10/100)\n",
      "                         Health Professionals:\t1387 (10.88/100)\n",
      "                                   Humanities:\t 654 ( 5.13/100)\n",
      "                          Infectious Diseases:\t 660 ( 5.18/100)\n",
      "                               Math & Physics:\t 738 ( 5.79/100)\n",
      "                          Medical Specialties:\t1650 (12.94/100)\n",
      "                              Social Sciences:\t2712 (21.27/100)\n"
     ]
    }
   ],
   "source": [
    "predict.base_line(data)"
   ]
  },
  {
   "cell_type": "code",
   "execution_count": 49,
   "metadata": {},
   "outputs": [
    {
     "name": "stdout",
     "output_type": "stream",
     "text": [
      "training knn model...\n",
      "\n",
      "Report:\n",
      "\n",
      "                                           precision    recall  f1-score   support\n",
      "\n",
      "                                  Biology       0.81      0.89      0.84       211\n",
      "                            Biotechnology       0.67      0.60      0.63        43\n",
      "                           Brain Research       0.73      0.82      0.77       144\n",
      "Chemical, Mechanical, & Civil Engineering       0.80      0.84      0.82       189\n",
      "                                Chemistry       0.79      0.81      0.80       144\n",
      "                           Earth Sciences       0.86      0.82      0.84        95\n",
      "Electrical Engineering & Computer Science       0.81      0.86      0.83       152\n",
      "                     Health Professionals       0.82      0.73      0.77       279\n",
      "                               Humanities       0.86      0.83      0.84       136\n",
      "                      Infectious Diseases       0.73      0.65      0.69       139\n",
      "                           Math & Physics       0.89      0.76      0.82       150\n",
      "                      Medical Specialties       0.84      0.86      0.85       336\n",
      "                          Social Sciences       0.89      0.91      0.90       533\n",
      "\n",
      "                              avg / total       0.83      0.83      0.83      2551\n",
      "\n",
      "training knn model...\n",
      "\n",
      "Report:\n",
      "\n",
      "                                           precision    recall  f1-score   support\n",
      "\n",
      "                                  Biology       0.85      0.87      0.86       211\n",
      "                            Biotechnology       0.66      0.77      0.71        43\n",
      "                           Brain Research       0.80      0.81      0.80       144\n",
      "Chemical, Mechanical, & Civil Engineering       0.82      0.86      0.84       189\n",
      "                                Chemistry       0.80      0.84      0.82       144\n",
      "                           Earth Sciences       0.88      0.82      0.85        95\n",
      "Electrical Engineering & Computer Science       0.81      0.88      0.85       152\n",
      "                     Health Professionals       0.83      0.75      0.78       279\n",
      "                               Humanities       0.79      0.85      0.82       136\n",
      "                      Infectious Diseases       0.77      0.71      0.73       139\n",
      "                           Math & Physics       0.93      0.76      0.84       150\n",
      "                      Medical Specialties       0.83      0.88      0.86       336\n",
      "                          Social Sciences       0.91      0.91      0.91       533\n",
      "\n",
      "                              avg / total       0.84      0.84      0.84      2551\n",
      "\n",
      "training knn model...\n",
      "\n",
      "Report:\n",
      "\n",
      "                                           precision    recall  f1-score   support\n",
      "\n",
      "                                  Biology       0.83      0.89      0.86       211\n",
      "                            Biotechnology       0.73      0.84      0.78        43\n",
      "                           Brain Research       0.78      0.79      0.79       144\n",
      "Chemical, Mechanical, & Civil Engineering       0.83      0.86      0.84       189\n",
      "                                Chemistry       0.81      0.86      0.84       144\n",
      "                           Earth Sciences       0.89      0.82      0.85        95\n",
      "Electrical Engineering & Computer Science       0.85      0.85      0.85       152\n",
      "                     Health Professionals       0.82      0.76      0.79       279\n",
      "                               Humanities       0.79      0.85      0.82       136\n",
      "                      Infectious Diseases       0.76      0.65      0.70       139\n",
      "                           Math & Physics       0.94      0.77      0.85       150\n",
      "                      Medical Specialties       0.82      0.88      0.85       336\n",
      "                          Social Sciences       0.90      0.90      0.90       533\n",
      "\n",
      "                              avg / total       0.84      0.84      0.84      2551\n",
      "\n",
      "training knn model...\n",
      "\n",
      "Report:\n",
      "\n",
      "                                           precision    recall  f1-score   support\n",
      "\n",
      "                                  Biology       0.85      0.88      0.87       211\n",
      "                            Biotechnology       0.70      0.74      0.72        43\n",
      "                           Brain Research       0.80      0.79      0.80       144\n",
      "Chemical, Mechanical, & Civil Engineering       0.83      0.85      0.84       189\n",
      "                                Chemistry       0.81      0.88      0.84       144\n",
      "                           Earth Sciences       0.84      0.82      0.83        95\n",
      "Electrical Engineering & Computer Science       0.84      0.86      0.85       152\n",
      "                     Health Professionals       0.82      0.76      0.79       279\n",
      "                               Humanities       0.81      0.86      0.84       136\n",
      "                      Infectious Diseases       0.79      0.63      0.70       139\n",
      "                           Math & Physics       0.95      0.81      0.87       150\n",
      "                      Medical Specialties       0.80      0.90      0.85       336\n",
      "                          Social Sciences       0.91      0.91      0.91       533\n",
      "\n",
      "                              avg / total       0.84      0.84      0.84      2551\n",
      "\n",
      "training knn model...\n",
      "\n",
      "Report:\n",
      "\n",
      "                                           precision    recall  f1-score   support\n",
      "\n",
      "                                  Biology       0.83      0.89      0.86       211\n",
      "                            Biotechnology       0.67      0.77      0.72        43\n",
      "                           Brain Research       0.76      0.78      0.77       144\n",
      "Chemical, Mechanical, & Civil Engineering       0.83      0.83      0.83       189\n",
      "                                Chemistry       0.80      0.85      0.82       144\n",
      "                           Earth Sciences       0.86      0.83      0.84        95\n",
      "Electrical Engineering & Computer Science       0.84      0.85      0.84       152\n",
      "                     Health Professionals       0.80      0.73      0.76       279\n",
      "                               Humanities       0.80      0.85      0.82       136\n",
      "                      Infectious Diseases       0.77      0.60      0.68       139\n",
      "                           Math & Physics       0.94      0.77      0.85       150\n",
      "                      Medical Specialties       0.79      0.88      0.83       336\n",
      "                          Social Sciences       0.89      0.89      0.89       533\n",
      "\n",
      "                              avg / total       0.83      0.83      0.83      2551\n",
      "\n",
      "training knn model...\n",
      "\n",
      "Report:\n",
      "\n",
      "                                           precision    recall  f1-score   support\n",
      "\n",
      "                                  Biology       0.82      0.87      0.84       211\n",
      "                            Biotechnology       0.73      0.77      0.75        43\n",
      "                           Brain Research       0.76      0.76      0.76       144\n",
      "Chemical, Mechanical, & Civil Engineering       0.82      0.81      0.81       189\n",
      "                                Chemistry       0.77      0.87      0.82       144\n",
      "                           Earth Sciences       0.85      0.82      0.83        95\n",
      "Electrical Engineering & Computer Science       0.83      0.84      0.84       152\n",
      "                     Health Professionals       0.78      0.71      0.75       279\n",
      "                               Humanities       0.79      0.85      0.82       136\n",
      "                      Infectious Diseases       0.75      0.62      0.68       139\n",
      "                           Math & Physics       0.95      0.76      0.84       150\n",
      "                      Medical Specialties       0.79      0.87      0.83       336\n",
      "                          Social Sciences       0.89      0.89      0.89       533\n",
      "\n",
      "                              avg / total       0.82      0.82      0.82      2551\n",
      "\n"
     ]
    }
   ],
   "source": [
    "ks = [3, 5, 10, 15, 20, 25]\n",
    "for k in ks:\n",
    "    algo = predict.algorithm(model = 'knn', n_neighbors = k)\n",
    "    algo = algo.fit(train_feat, train_y)\n",
    "    evaluate(algo, data[train_size:])"
   ]
  },
  {
   "cell_type": "markdown",
   "metadata": {},
   "source": [
    "### Citation matrix"
   ]
  },
  {
   "cell_type": "code",
   "execution_count": 16,
   "metadata": {},
   "outputs": [],
   "source": [
    "# see `get_citation_vec_model.ipynb`\n",
    "\n",
    "h5f = h5py.File(mag.get_path('venue_citation_matrix.h5'),'r')\n",
    "matrix = h5f['matrix'][:]\n",
    "h5f.close()"
   ]
  },
  {
   "cell_type": "code",
   "execution_count": 34,
   "metadata": {},
   "outputs": [],
   "source": [
    "with open(mag.get_path('venue_citation_matrix_index.pickle'), 'rb') as file:\n",
    "    col_index2vid, vid2col_index = pickle.load(file)"
   ]
  },
  {
   "cell_type": "code",
   "execution_count": 18,
   "metadata": {},
   "outputs": [],
   "source": [
    "data_citation = data.copy()"
   ]
  },
  {
   "cell_type": "code",
   "execution_count": 19,
   "metadata": {},
   "outputs": [],
   "source": [
    "data_citation['vec'] = data_citation['jid'].apply(lambda jid: matrix[vid2col_index[jid], :])"
   ]
  },
  {
   "cell_type": "code",
   "execution_count": 20,
   "metadata": {},
   "outputs": [
    {
     "data": {
      "text/plain": [
       "(12751, 4)"
      ]
     },
     "execution_count": 20,
     "metadata": {},
     "output_type": "execute_result"
    }
   ],
   "source": [
    "data_citation.shape"
   ]
  },
  {
   "cell_type": "code",
   "execution_count": 21,
   "metadata": {},
   "outputs": [],
   "source": [
    "del matrix"
   ]
  },
  {
   "cell_type": "code",
   "execution_count": 22,
   "metadata": {},
   "outputs": [
    {
     "data": {
      "text/html": [
       "<div>\n",
       "<style scoped>\n",
       "    .dataframe tbody tr th:only-of-type {\n",
       "        vertical-align: middle;\n",
       "    }\n",
       "\n",
       "    .dataframe tbody tr th {\n",
       "        vertical-align: top;\n",
       "    }\n",
       "\n",
       "    .dataframe thead th {\n",
       "        text-align: right;\n",
       "    }\n",
       "</style>\n",
       "<table border=\"1\" class=\"dataframe\">\n",
       "  <thead>\n",
       "    <tr style=\"text-align: right;\">\n",
       "      <th></th>\n",
       "      <th>jid</th>\n",
       "      <th>vec</th>\n",
       "      <th>disc_name</th>\n",
       "      <th>disc_id</th>\n",
       "    </tr>\n",
       "  </thead>\n",
       "  <tbody>\n",
       "    <tr>\n",
       "      <th>0</th>\n",
       "      <td>064E8C6E</td>\n",
       "      <td>[0.0, 0.0, 0.0, 0.0, 0.0, 0.0, 0.0, 0.0, 0.0, ...</td>\n",
       "      <td>Chemical, Mechanical, &amp; Civil Engineering</td>\n",
       "      <td>4</td>\n",
       "    </tr>\n",
       "    <tr>\n",
       "      <th>1</th>\n",
       "      <td>0409A0BE</td>\n",
       "      <td>[0.0, 0.0, 0.0, 0.0, 7.579777154551656e-05, 0....</td>\n",
       "      <td>Social Sciences</td>\n",
       "      <td>13</td>\n",
       "    </tr>\n",
       "    <tr>\n",
       "      <th>2</th>\n",
       "      <td>0A4EC460</td>\n",
       "      <td>[0.0, 0.0, 0.0, 0.0, 0.0, 0.0, 0.0, 0.0, 0.0, ...</td>\n",
       "      <td>Biology</td>\n",
       "      <td>1</td>\n",
       "    </tr>\n",
       "    <tr>\n",
       "      <th>3</th>\n",
       "      <td>073DD5CA</td>\n",
       "      <td>[0.0, 0.0, 0.0, 0.0, 0.0, 0.0, 0.0, 0.0, 0.0, ...</td>\n",
       "      <td>Health Professionals</td>\n",
       "      <td>12</td>\n",
       "    </tr>\n",
       "    <tr>\n",
       "      <th>4</th>\n",
       "      <td>035539A0</td>\n",
       "      <td>[0.0, 0.0, 0.0, 0.0, 0.0, 0.0, 0.0, 0.0, 0.0, ...</td>\n",
       "      <td>Chemical, Mechanical, &amp; Civil Engineering</td>\n",
       "      <td>4</td>\n",
       "    </tr>\n",
       "  </tbody>\n",
       "</table>\n",
       "</div>"
      ],
      "text/plain": [
       "        jid                                                vec  \\\n",
       "0  064E8C6E  [0.0, 0.0, 0.0, 0.0, 0.0, 0.0, 0.0, 0.0, 0.0, ...   \n",
       "1  0409A0BE  [0.0, 0.0, 0.0, 0.0, 7.579777154551656e-05, 0....   \n",
       "2  0A4EC460  [0.0, 0.0, 0.0, 0.0, 0.0, 0.0, 0.0, 0.0, 0.0, ...   \n",
       "3  073DD5CA  [0.0, 0.0, 0.0, 0.0, 0.0, 0.0, 0.0, 0.0, 0.0, ...   \n",
       "4  035539A0  [0.0, 0.0, 0.0, 0.0, 0.0, 0.0, 0.0, 0.0, 0.0, ...   \n",
       "\n",
       "                                   disc_name  disc_id  \n",
       "0  Chemical, Mechanical, & Civil Engineering        4  \n",
       "1                            Social Sciences       13  \n",
       "2                                    Biology        1  \n",
       "3                       Health Professionals       12  \n",
       "4  Chemical, Mechanical, & Civil Engineering        4  "
      ]
     },
     "execution_count": 22,
     "metadata": {},
     "output_type": "execute_result"
    }
   ],
   "source": [
    "data_citation.head()"
   ]
  },
  {
   "cell_type": "code",
   "execution_count": 134,
   "metadata": {},
   "outputs": [],
   "source": [
    "train_feat, train_y = predict.get_feat_label(data_citation[:train_size])"
   ]
  },
  {
   "cell_type": "code",
   "execution_count": 139,
   "metadata": {},
   "outputs": [
    {
     "name": "stdout",
     "output_type": "stream",
     "text": [
      "training knn model...\n",
      "\n",
      "Report:\n",
      "\n",
      "                                           precision    recall  f1-score   support\n",
      "\n",
      "                                  Biology       0.80      0.87      0.83       214\n",
      "                            Biotechnology       0.19      0.51      0.28        45\n",
      "                           Brain Research       0.74      0.83      0.78       151\n",
      "Chemical, Mechanical, & Civil Engineering       0.70      0.70      0.70       178\n",
      "                                Chemistry       0.77      0.75      0.76       131\n",
      "                           Earth Sciences       0.76      0.80      0.78        85\n",
      "Electrical Engineering & Computer Science       0.81      0.78      0.80       147\n",
      "                     Health Professionals       0.78      0.70      0.74       299\n",
      "                               Humanities       0.79      0.58      0.67       130\n",
      "                      Infectious Diseases       0.77      0.73      0.75       140\n",
      "                           Math & Physics       0.87      0.77      0.81       166\n",
      "                      Medical Specialties       0.79      0.86      0.82       313\n",
      "                          Social Sciences       0.89      0.84      0.87       552\n",
      "\n",
      "                              avg / total       0.80      0.78      0.78      2551\n",
      "\n",
      "training knn model...\n",
      "\n",
      "Report:\n",
      "\n",
      "                                           precision    recall  f1-score   support\n",
      "\n",
      "                                  Biology       0.86      0.84      0.85       214\n",
      "                            Biotechnology       0.31      0.53      0.39        45\n",
      "                           Brain Research       0.79      0.81      0.80       151\n",
      "Chemical, Mechanical, & Civil Engineering       0.72      0.72      0.72       178\n",
      "                                Chemistry       0.79      0.79      0.79       131\n",
      "                           Earth Sciences       0.87      0.80      0.83        85\n",
      "Electrical Engineering & Computer Science       0.82      0.78      0.80       147\n",
      "                     Health Professionals       0.77      0.72      0.75       299\n",
      "                               Humanities       0.82      0.59      0.69       130\n",
      "                      Infectious Diseases       0.74      0.71      0.72       140\n",
      "                           Math & Physics       0.88      0.78      0.83       166\n",
      "                      Medical Specialties       0.69      0.87      0.77       313\n",
      "                          Social Sciences       0.89      0.85      0.87       552\n",
      "\n",
      "                              avg / total       0.80      0.79      0.79      2551\n",
      "\n",
      "training knn model...\n",
      "\n",
      "Report:\n",
      "\n",
      "                                           precision    recall  f1-score   support\n",
      "\n",
      "                                  Biology       0.86      0.86      0.86       214\n",
      "                            Biotechnology       0.51      0.62      0.56        45\n",
      "                           Brain Research       0.81      0.77      0.79       151\n",
      "Chemical, Mechanical, & Civil Engineering       0.76      0.70      0.73       178\n",
      "                                Chemistry       0.77      0.78      0.77       131\n",
      "                           Earth Sciences       0.87      0.81      0.84        85\n",
      "Electrical Engineering & Computer Science       0.87      0.78      0.82       147\n",
      "                     Health Professionals       0.78      0.73      0.75       299\n",
      "                               Humanities       0.81      0.55      0.65       130\n",
      "                      Infectious Diseases       0.79      0.69      0.74       140\n",
      "                           Math & Physics       0.91      0.81      0.85       166\n",
      "                      Medical Specialties       0.59      0.90      0.71       313\n",
      "                          Social Sciences       0.90      0.84      0.87       552\n",
      "\n",
      "                              avg / total       0.80      0.78      0.79      2551\n",
      "\n",
      "training knn model...\n",
      "\n",
      "Report:\n",
      "\n",
      "                                           precision    recall  f1-score   support\n",
      "\n",
      "                                  Biology       0.88      0.85      0.86       214\n",
      "                            Biotechnology       0.51      0.64      0.57        45\n",
      "                           Brain Research       0.82      0.74      0.78       151\n",
      "Chemical, Mechanical, & Civil Engineering       0.76      0.67      0.71       178\n",
      "                                Chemistry       0.76      0.79      0.77       131\n",
      "                           Earth Sciences       0.89      0.80      0.84        85\n",
      "Electrical Engineering & Computer Science       0.87      0.79      0.83       147\n",
      "                     Health Professionals       0.80      0.70      0.75       299\n",
      "                               Humanities       0.81      0.50      0.62       130\n",
      "                      Infectious Diseases       0.80      0.64      0.71       140\n",
      "                           Math & Physics       0.90      0.80      0.84       166\n",
      "                      Medical Specialties       0.53      0.92      0.67       313\n",
      "                          Social Sciences       0.90      0.83      0.86       552\n",
      "\n",
      "                              avg / total       0.80      0.77      0.78      2551\n",
      "\n",
      "training knn model...\n",
      "\n",
      "Report:\n",
      "\n",
      "                                           precision    recall  f1-score   support\n",
      "\n",
      "                                  Biology       0.88      0.82      0.85       214\n",
      "                            Biotechnology       0.48      0.64      0.55        45\n",
      "                           Brain Research       0.80      0.70      0.75       151\n",
      "Chemical, Mechanical, & Civil Engineering       0.77      0.61      0.68       178\n",
      "                                Chemistry       0.77      0.74      0.75       131\n",
      "                           Earth Sciences       0.87      0.79      0.83        85\n",
      "Electrical Engineering & Computer Science       0.89      0.79      0.83       147\n",
      "                     Health Professionals       0.79      0.68      0.73       299\n",
      "                               Humanities       0.81      0.46      0.59       130\n",
      "                      Infectious Diseases       0.80      0.62      0.70       140\n",
      "                           Math & Physics       0.91      0.77      0.84       166\n",
      "                      Medical Specialties       0.47      0.93      0.62       313\n",
      "                          Social Sciences       0.91      0.79      0.85       552\n",
      "\n",
      "                              avg / total       0.79      0.75      0.76      2551\n",
      "\n",
      "training knn model...\n",
      "\n",
      "Report:\n",
      "\n",
      "                                           precision    recall  f1-score   support\n",
      "\n",
      "                                  Biology       0.88      0.79      0.83       214\n",
      "                            Biotechnology       0.50      0.58      0.54        45\n",
      "                           Brain Research       0.81      0.69      0.74       151\n",
      "Chemical, Mechanical, & Civil Engineering       0.77      0.56      0.64       178\n",
      "                                Chemistry       0.77      0.73      0.75       131\n",
      "                           Earth Sciences       0.89      0.76      0.82        85\n",
      "Electrical Engineering & Computer Science       0.92      0.76      0.83       147\n",
      "                     Health Professionals       0.78      0.64      0.70       299\n",
      "                               Humanities       0.79      0.45      0.57       130\n",
      "                      Infectious Diseases       0.81      0.64      0.71       140\n",
      "                           Math & Physics       0.92      0.78      0.85       166\n",
      "                      Medical Specialties       0.42      0.93      0.58       313\n",
      "                          Social Sciences       0.90      0.77      0.83       552\n",
      "\n",
      "                              avg / total       0.79      0.73      0.74      2551\n",
      "\n"
     ]
    }
   ],
   "source": [
    "ks = [3, 5, 10, 15, 20, 25]\n",
    "for k in ks:\n",
    "    algo = predict.algorithm(model = 'knn', n_neighbors = k)\n",
    "    algo = algo.fit(train_feat, train_y)\n",
    "    evaluate(algo, data_citation[train_size:])"
   ]
  },
  {
   "cell_type": "markdown",
   "metadata": {},
   "source": [
    "### 5 folds validation"
   ]
  },
  {
   "cell_type": "code",
   "execution_count": 6,
   "metadata": {},
   "outputs": [],
   "source": [
    "n_folds = 5\n",
    "kfold = KFold(n_splits=n_folds, random_state=7)"
   ]
  },
  {
   "cell_type": "code",
   "execution_count": 24,
   "metadata": {},
   "outputs": [],
   "source": [
    "cv_results = {'j2v': {}, 'citation': {}}"
   ]
  },
  {
   "cell_type": "code",
   "execution_count": 25,
   "metadata": {},
   "outputs": [],
   "source": [
    "def knn_cv_report(df, ks, kfold):\n",
    "    results = defaultdict(list)\n",
    "    for train_index, test_index in kfold.split(df):\n",
    "        train_feat, train_y = predict.get_feat_label(df.loc[train_index])\n",
    "        for k in ks:\n",
    "            algo = predict.algorithm(model = 'knn', n_neighbors = k)\n",
    "            algo = algo.fit(train_feat, train_y)\n",
    "            report = evaluate(algo, df.loc[test_index], output_dict=True)\n",
    "            results[k].append(report)\n",
    "    return results"
   ]
  },
  {
   "cell_type": "code",
   "execution_count": 28,
   "metadata": {
    "scrolled": true
   },
   "outputs": [
    {
     "name": "stdout",
     "output_type": "stream",
     "text": [
      "training knn model...\n",
      "training knn model...\n",
      "training knn model...\n",
      "training knn model...\n",
      "training knn model...\n",
      "training knn model...\n",
      "training knn model...\n",
      "training knn model...\n",
      "training knn model...\n",
      "training knn model...\n",
      "training knn model...\n",
      "training knn model...\n",
      "training knn model...\n",
      "training knn model...\n",
      "training knn model...\n",
      "training knn model...\n",
      "training knn model...\n",
      "training knn model...\n",
      "training knn model...\n",
      "training knn model...\n",
      "training knn model...\n",
      "training knn model...\n",
      "training knn model...\n",
      "training knn model...\n",
      "training knn model...\n",
      "training knn model...\n",
      "training knn model...\n",
      "training knn model...\n",
      "training knn model...\n",
      "training knn model...\n"
     ]
    }
   ],
   "source": [
    "cv_results['j2v'] = knn_cv_report(data, ks, kfold)"
   ]
  },
  {
   "cell_type": "code",
   "execution_count": null,
   "metadata": {
    "scrolled": false
   },
   "outputs": [
    {
     "name": "stdout",
     "output_type": "stream",
     "text": [
      "training knn model...\n",
      "training knn model...\n",
      "training knn model...\n",
      "training knn model...\n",
      "training knn model...\n",
      "training knn model...\n",
      "training knn model...\n",
      "training knn model...\n",
      "training knn model...\n",
      "training knn model...\n",
      "training knn model...\n",
      "training knn model...\n",
      "training knn model...\n",
      "training knn model...\n",
      "training knn model...\n",
      "training knn model...\n",
      "training knn model...\n",
      "training knn model...\n",
      "training knn model...\n",
      "training knn model...\n"
     ]
    }
   ],
   "source": [
    "cv_results['citation'] = knn_cv_report(data_citation, ks, kfold)"
   ]
  },
  {
   "cell_type": "code",
   "execution_count": 36,
   "metadata": {},
   "outputs": [],
   "source": [
    "jid_disc = pd.Series(data.disc_name.values, index=data.jid).to_dict()"
   ]
  },
  {
   "cell_type": "code",
   "execution_count": 66,
   "metadata": {},
   "outputs": [],
   "source": [
    "# to reconstruct total in and out degrees.\n",
    "\n",
    "with open(mag.get_path('venue_citation_degrees.pickle'), 'rb') as file:\n",
    "    vid_out_sum, vid_in_sum = pickle.load(file)"
   ]
  },
  {
   "cell_type": "code",
   "execution_count": 73,
   "metadata": {},
   "outputs": [],
   "source": [
    "# undirected (sum of in and out)\n",
    "vote_results = []\n",
    "\n",
    "for train_index, test_index in kfold.split(data_citation):\n",
    "    test_jids = data_citation.loc[test_index]['jid'].tolist()\n",
    "    test_jids_out_deg = np.array([vid_out_sum[jid] for jid in test_jids])\n",
    "    test_jids_in_deg = np.array([vid_in_sum[jid] for jid in test_jids])\n",
    "    test_feat = np.array(data_citation.loc[test_index]['vec'].tolist())\n",
    "    # data_citation contains weighted in and out degrees.\n",
    "    # now we reconstruct the in and out degree counts for test journals.\n",
    "    test_feat[:, :len(vid2col_index)] = np.multiply(test_feat[:, :len(vid2col_index)], test_jids_out_deg[:, np.newaxis])\n",
    "    test_feat[:, len(vid2col_index):] = np.multiply(test_feat[:, len(vid2col_index):], test_jids_in_deg[:, np.newaxis])\n",
    "    train_jids = data_citation.loc[train_index]['jid'].tolist()\n",
    "    index_to_train_jids = {i: jid for i, jid in enumerate(train_jids)}\n",
    "    train_jids_ixs_out = [vid2col_index[jid] for jid in train_jids]\n",
    "    train_jids_ixs_in = [vid2col_index[jid]+len(vid2col_index) for jid in train_jids]\n",
    "    test_feat = np.add(test_feat[:, train_jids_ixs_out], test_feat[:, train_jids_ixs_in])\n",
    "    pred_index = np.argmax(test_feat, axis=1)\n",
    "    y_pred = [jid_disc[index_to_train_jids[ix]] for ix in pred_index]\n",
    "    y_true = data_citation.loc[test_index]['disc_name']\n",
    "    report = metrics.classification_report(y_true, y_pred, output_dict=True)\n",
    "    vote_results.append(report)"
   ]
  },
  {
   "cell_type": "code",
   "execution_count": 75,
   "metadata": {},
   "outputs": [],
   "source": [
    "cv_results['vote'] = vote_results"
   ]
  },
  {
   "cell_type": "code",
   "execution_count": 76,
   "metadata": {},
   "outputs": [],
   "source": [
    "# with open(mag.DATA_ROOT+'pred_disc_cv_results.pickle', 'wb') as file:\n",
    "#     pickle.dump(cv_results, file)"
   ]
  },
  {
   "cell_type": "code",
   "execution_count": 4,
   "metadata": {},
   "outputs": [],
   "source": [
    "with open(mag.DATA_ROOT+'pred_disc_cv_results.pickle', 'rb') as file:\n",
    "    cv_results = pickle.load(file)"
   ]
  },
  {
   "cell_type": "code",
   "execution_count": 32,
   "metadata": {},
   "outputs": [
    {
     "data": {
      "image/png": "[encoded data removed]",
      "text/plain": [
       "<Figure size 201.6x144 with 1 Axes>"
      ]
     },
     "metadata": {},
     "output_type": "display_data"
    }
   ],
   "source": [
    "feats = ['j2v', 'citation', 'vote']\n",
    "labels_dict = {'vote': 'citation weight', 'citation': 'cv', 'j2v': 'p2v'}\n",
    "\n",
    "cols = ['#ffa500', '#2500ff', '_']\n",
    "metric = 'f1-score' # 'precision'\n",
    "\n",
    "fig, ax = plt.subplots(figsize = (2.8, 2))\n",
    "\n",
    "for feat, col in zip(feats, cols):\n",
    "    if feat != 'vote':\n",
    "        ys = []\n",
    "        stds = []\n",
    "        for k in ks:\n",
    "            accs = []\n",
    "            for report in cv_results[feat][k]:\n",
    "                acc = report['weighted avg'][metric]\n",
    "                accs.append(acc)\n",
    "            ys.append(np.mean(accs))\n",
    "            stds.append(np.std(accs))\n",
    "        ax.errorbar(ks, ys, yerr=CIs['95']*(stds/np.sqrt(n_folds)), color=col, marker='o', markersize=1.5, linewidth=1, label=labels_dict[feat], fillstyle='full')\n",
    "    else:\n",
    "        accs = []\n",
    "        for report in cv_results[feat]:\n",
    "            acc = report['weighted avg'][metric]\n",
    "            accs.append(acc)\n",
    "        ys = [np.mean(accs)] * len(ks)\n",
    "        stds = [np.std(accs)] * len(ks)\n",
    "        ax.errorbar(ks, ys, yerr=CIs['95']*(stds/np.sqrt(n_folds)), color='gray', marker='o', markersize=0, linewidth=1, label=labels_dict[feat], fillstyle='full')\n",
    "legend = ax.legend(loc=[0.05, 0.02], numpoints=2, labelspacing = 0.15, shadow=False, frameon = False)\n",
    "ax.set_xticklabels(ks)\n",
    "ax.set_xlabel(r'Number of nearest neighbors ($k$)')\n",
    "ax.set_ylabel(r'Mean $F_1$ score')\n",
    "ax.yaxis.set_major_formatter(FormatStrFormatter('%.2f'))\n",
    "# ax.set_ylabel('mean accuracy')\n",
    "# ax.set_title('10-fold cross validation for k in KNN')\n",
    "plt.show()\n",
    "fig.savefig('knn-cv-compare-undirected.pdf', bbox_inches='tight', pad_inches=0)"
   ]
  },
  {
   "cell_type": "code",
   "execution_count": null,
   "metadata": {},
   "outputs": [],
   "source": []
  }
 ],
 "metadata": {
  "kernelspec": {
   "display_name": "Python 3",
   "language": "python",
   "name": "python3"
  },
  "language_info": {
   "codemirror_mode": {
    "name": "ipython",
    "version": 3
   },
   "file_extension": ".py",
   "mimetype": "text/x-python",
   "name": "python",
   "nbconvert_exporter": "python",
   "pygments_lexer": "ipython3",
   "version": "3.6.7"
  }
 },
 "nbformat": 4,
 "nbformat_minor": 1
}
