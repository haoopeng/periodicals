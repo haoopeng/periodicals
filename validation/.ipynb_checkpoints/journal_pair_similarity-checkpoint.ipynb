{
 "cells": [
  {
   "cell_type": "code",
   "execution_count": 81,
   "metadata": {},
   "outputs": [],
   "source": [
    "import h5py\n",
    "import math\n",
    "import pickle\n",
    "import random\n",
    "import pandas as pd\n",
    "import numpy as np\n",
    "from j2v import mag, w2v, util\n",
    "import matplotlib.pyplot as plt\n",
    "from sklearn.neighbors import KernelDensity\n",
    "from scipy.stats import entropy\n",
    "from itertools import combinations\n",
    "from scipy.stats import ks_2samp\n",
    "from scipy.stats import pearsonr, ttest_ind\n",
    "from collections import defaultdict, Counter\n",
    "from sklearn.metrics.pairwise import cosine_similarity"
   ]
  },
  {
   "cell_type": "code",
   "execution_count": 4,
   "metadata": {
    "scrolled": false
   },
   "outputs": [
    {
     "name": "stdout",
     "output_type": "stream",
     "text": [
      "14113 journals in MAG's Journal.txt were matched to UCSD data, and 29 of them are interdisciplinary journals in UCSD catelog.\n"
     ]
    }
   ],
   "source": [
    "mapping = mag.load_map_jid_discipline('journal_discipline_map.csv')"
   ]
  },
  {
   "cell_type": "code",
   "execution_count": 5,
   "metadata": {},
   "outputs": [
    {
     "name": "stdout",
     "output_type": "stream",
     "text": [
      "processing /l/nx/data/haopeng/j2v/Journals.txt...\n",
      "finished processing!\n",
      "\n",
      "processing /l/nx/data/haopeng/j2v/Conferences.txt...\n",
      "finished processing!\n",
      "\n"
     ]
    }
   ],
   "source": [
    "vid2name = mag.get_venue_dict(key='id')\n",
    "vname2vid = {name: vid for vid, name in vid2name.items()}"
   ]
  },
  {
   "cell_type": "markdown",
   "metadata": {},
   "source": [
    "### J2v"
   ]
  },
  {
   "cell_type": "code",
   "execution_count": 6,
   "metadata": {
    "scrolled": true
   },
   "outputs": [
    {
     "name": "stdout",
     "output_type": "stream",
     "text": [
      "\n",
      "model shape is: (20835, 100) \n",
      "\n"
     ]
    }
   ],
   "source": [
    "model = w2v.load_j2v(mag.get_path('100feat_50minwords_10context_2016'))"
   ]
  },
  {
   "cell_type": "code",
   "execution_count": 7,
   "metadata": {},
   "outputs": [],
   "source": [
    "vid2index = dict((vid, i) for i, vid in enumerate(model.index2word))\n",
    "index2vid = {i: vid for vid, i in vid2index.items()}"
   ]
  },
  {
   "cell_type": "markdown",
   "metadata": {},
   "source": [
    "### Citation matrix"
   ]
  },
  {
   "cell_type": "code",
   "execution_count": 8,
   "metadata": {},
   "outputs": [],
   "source": [
    "# see `get_citation_vec_model.ipynb`\n",
    "\n",
    "h5f = h5py.File(mag.get_path('venue_citation_matrix.h5'),'r')\n",
    "in_out_matrix = h5f['matrix'][:]\n",
    "h5f.close()"
   ]
  },
  {
   "cell_type": "code",
   "execution_count": 9,
   "metadata": {},
   "outputs": [],
   "source": [
    "with open(mag.get_path('venue_citation_matrix_index.pickle'), 'rb') as file:\n",
    "    col_index2vid, vid2col_index = pickle.load(file)"
   ]
  },
  {
   "cell_type": "markdown",
   "metadata": {},
   "source": [
    "### Comparison"
   ]
  },
  {
   "cell_type": "code",
   "execution_count": 10,
   "metadata": {},
   "outputs": [
    {
     "name": "stdout",
     "output_type": "stream",
     "text": [
      "This group is small, can not generate # of pairs required, return all pairs!\n"
     ]
    }
   ],
   "source": [
    "num_pairs = 100000\n",
    "\n",
    "# within-discipline\n",
    "pairs = []\n",
    "for name, group in mapping.groupby('disc_name'):\n",
    "    p = util.sample_pairs(group['jid'].tolist(), num_pairs//10)\n",
    "    pairs.extend(p)\n",
    "pairs = random.sample(pairs, num_pairs)\n",
    "\n",
    "# cross-discipline\n",
    "groups = []\n",
    "for name, group in mapping.groupby('disc_name'):\n",
    "    groups.append(group['jid'].tolist())\n",
    "accross_pairs = util.sample_cross_group_pairs(groups, num_pairs//10)\n",
    "accross_pairs = random.sample(accross_pairs, num_pairs)\n",
    "\n",
    "# within-subdiscipline\n",
    "pairs_subd = []\n",
    "for name, subd_group in mapping.groupby('subd_name'):\n",
    "    p = list(combinations(subd_group['jid'].tolist(), 2))\n",
    "    pairs_subd.extend(p)\n",
    "pairs_subd = random.sample(pairs_subd, num_pairs)\n",
    "\n",
    "# random pairs\n",
    "random_p = util.sample_pairs(mapping['jid'].tolist(), num_pairs)"
   ]
  },
  {
   "cell_type": "code",
   "execution_count": 11,
   "metadata": {},
   "outputs": [
    {
     "data": {
      "text/plain": [
       "100000"
      ]
     },
     "execution_count": 11,
     "metadata": {},
     "output_type": "execute_result"
    }
   ],
   "source": [
    "len(pairs)"
   ]
  },
  {
   "cell_type": "code",
   "execution_count": 83,
   "metadata": {},
   "outputs": [
    {
     "data": {
      "text/plain": [
       "100000"
      ]
     },
     "execution_count": 83,
     "metadata": {},
     "output_type": "execute_result"
    }
   ],
   "source": [
    "len(accross_pairs)"
   ]
  },
  {
   "cell_type": "code",
   "execution_count": 12,
   "metadata": {},
   "outputs": [
    {
     "data": {
      "text/plain": [
       "100000"
      ]
     },
     "execution_count": 12,
     "metadata": {},
     "output_type": "execute_result"
    }
   ],
   "source": [
    "len(pairs_subd)"
   ]
  },
  {
   "cell_type": "code",
   "execution_count": 13,
   "metadata": {},
   "outputs": [
    {
     "data": {
      "text/plain": [
       "100000"
      ]
     },
     "execution_count": 13,
     "metadata": {},
     "output_type": "execute_result"
    }
   ],
   "source": [
    "len(random_p)"
   ]
  },
  {
   "cell_type": "markdown",
   "metadata": {},
   "source": [
    "Rand pairs"
   ]
  },
  {
   "cell_type": "code",
   "execution_count": 14,
   "metadata": {},
   "outputs": [],
   "source": [
    "j2v_rand = []\n",
    "cite_vec_rand = []\n",
    "\n",
    "for j1, j2 in random_p:\n",
    "    try:\n",
    "        j2v_rand.append(model.similarity(j1, j2))\n",
    "        cite_vec_rand.append(cosine_similarity(in_out_matrix[vid2col_index[j1]].reshape(1, -1), in_out_matrix[vid2col_index[j2]].reshape(1, -1))[0][0])\n",
    "        # cite_vec_rand.append(cosine_similarity(Compo[vid2col_index[j1]].reshape(1, -1), Compo[vid2col_index[j2]].reshape(1, -1))[0][0])\n",
    "    except:\n",
    "        # j not in model.\n",
    "        pass"
   ]
  },
  {
   "cell_type": "code",
   "execution_count": 18,
   "metadata": {},
   "outputs": [
    {
     "data": {
      "text/plain": [
       "81961"
      ]
     },
     "execution_count": 18,
     "metadata": {},
     "output_type": "execute_result"
    }
   ],
   "source": [
    "len(j2v_rand)"
   ]
  },
  {
   "cell_type": "code",
   "execution_count": 16,
   "metadata": {
    "scrolled": true
   },
   "outputs": [
    {
     "data": {
      "text/plain": [
       "0.0710993778555213"
      ]
     },
     "execution_count": 16,
     "metadata": {},
     "output_type": "execute_result"
    }
   ],
   "source": [
    "np.mean(j2v_rand)"
   ]
  },
  {
   "cell_type": "code",
   "execution_count": 17,
   "metadata": {},
   "outputs": [
    {
     "data": {
      "text/plain": [
       "0.02376381298270486"
      ]
     },
     "execution_count": 17,
     "metadata": {},
     "output_type": "execute_result"
    }
   ],
   "source": [
    "np.mean(cite_vec_rand)"
   ]
  },
  {
   "cell_type": "code",
   "execution_count": 19,
   "metadata": {
    "scrolled": false
   },
   "outputs": [
    {
     "data": {
      "text/plain": [
       "Ttest_indResult(statistic=67.58213858224157, pvalue=0.0)"
      ]
     },
     "execution_count": 19,
     "metadata": {},
     "output_type": "execute_result"
    }
   ],
   "source": [
    "ttest_ind(j2v_rand, cite_vec_rand)"
   ]
  },
  {
   "cell_type": "markdown",
   "metadata": {},
   "source": [
    "cross disc pairs"
   ]
  },
  {
   "cell_type": "code",
   "execution_count": null,
   "metadata": {},
   "outputs": [],
   "source": [
    "j2v_simi_scores_diff = []\n",
    "cite_vec_simi_scores_diff = []\n",
    "\n",
    "for j1, j2 in accross_pairs:\n",
    "    try:\n",
    "        j2v_simi_scores_diff.append(model.similarity(j1, j2))\n",
    "        cite_vec_simi_scores_diff.append(cosine_similarity(in_out_matrix[vid2col_index[j1]].reshape(1, -1), in_out_matrix[vid2col_index[j2]].reshape(1, -1))[0][0])\n",
    "        # cite_vec_simi_scores.append(cosine_similarity(Compo[vid2col_index[j1]].reshape(1, -1), Compo[vid2col_index[j2]].reshape(1, -1))[0][0])\n",
    "    except:\n",
    "        # j not in model.\n",
    "        pass"
   ]
  },
  {
   "cell_type": "code",
   "execution_count": 85,
   "metadata": {},
   "outputs": [
    {
     "data": {
      "text/plain": [
       "83470"
      ]
     },
     "execution_count": 85,
     "metadata": {},
     "output_type": "execute_result"
    }
   ],
   "source": [
    "len(j2v_simi_scores_diff)"
   ]
  },
  {
   "cell_type": "code",
   "execution_count": 86,
   "metadata": {},
   "outputs": [
    {
     "data": {
      "text/plain": [
       "0.027808037051787284"
      ]
     },
     "execution_count": 86,
     "metadata": {},
     "output_type": "execute_result"
    }
   ],
   "source": [
    "np.mean(j2v_simi_scores_diff)"
   ]
  },
  {
   "cell_type": "code",
   "execution_count": 165,
   "metadata": {
    "scrolled": false
   },
   "outputs": [
    {
     "data": {
      "text/plain": [
       "0.029088206152779364"
      ]
     },
     "execution_count": 165,
     "metadata": {},
     "output_type": "execute_result"
    }
   ],
   "source": [
    "np.mean(cite_vec_simi_scores_diff)"
   ]
  },
  {
   "cell_type": "code",
   "execution_count": 156,
   "metadata": {},
   "outputs": [],
   "source": [
    "def KL_dist(j2v_simi_scores, j2v_rand, bd, kernel='gaussian'):\n",
    "    kde_rand = KernelDensity(kernel=kernel, bandwidth = bd).fit(np.array(j2v_rand)[:, np.newaxis])\n",
    "    logpdf_rand = kde_rand.score_samples(xs[:, np.newaxis])\n",
    "\n",
    "    kde = KernelDensity(kernel=kernel, bandwidth = bd).fit(np.array(j2v_simi_scores)[:, np.newaxis])\n",
    "    logpdf = kde.score_samples(xs[:, np.newaxis])\n",
    "\n",
    "    return entropy(pk=np.exp(logpdf), qk=np.exp(logpdf_rand))"
   ]
  },
  {
   "cell_type": "code",
   "execution_count": 152,
   "metadata": {},
   "outputs": [],
   "source": [
    "bd = 0.05\n",
    "xs = np.linspace(-1, 1, 100)"
   ]
  },
  {
   "cell_type": "code",
   "execution_count": 160,
   "metadata": {},
   "outputs": [
    {
     "data": {
      "text/plain": [
       "0.0276064379982445"
      ]
     },
     "execution_count": 160,
     "metadata": {},
     "output_type": "execute_result"
    }
   ],
   "source": [
    "KL_dist(j2v_simi_scores_diff, j2v_rand, bd)"
   ]
  },
  {
   "cell_type": "code",
   "execution_count": 161,
   "metadata": {
    "scrolled": true
   },
   "outputs": [
    {
     "data": {
      "text/plain": [
       "0.0019040854818478093"
      ]
     },
     "execution_count": 161,
     "metadata": {},
     "output_type": "execute_result"
    }
   ],
   "source": [
    "KL_dist(cite_vec_simi_scores_diff, cite_vec_rand, bd, kernel='exponential')"
   ]
  },
  {
   "cell_type": "markdown",
   "metadata": {},
   "source": [
    "Same disc"
   ]
  },
  {
   "cell_type": "code",
   "execution_count": 15,
   "metadata": {},
   "outputs": [],
   "source": [
    "j2v_simi_scores = []\n",
    "cite_vec_simi_scores = []\n",
    "\n",
    "for j1, j2 in pairs:\n",
    "    try:\n",
    "        j2v_simi_scores.append(model.similarity(j1, j2))\n",
    "        cite_vec_simi_scores.append(cosine_similarity(in_out_matrix[vid2col_index[j1]].reshape(1, -1), in_out_matrix[vid2col_index[j2]].reshape(1, -1))[0][0])\n",
    "        # cite_vec_simi_scores.append(cosine_similarity(Compo[vid2col_index[j1]].reshape(1, -1), Compo[vid2col_index[j2]].reshape(1, -1))[0][0])\n",
    "    except:\n",
    "        # j not in model.\n",
    "        pass"
   ]
  },
  {
   "cell_type": "code",
   "execution_count": 20,
   "metadata": {},
   "outputs": [
    {
     "data": {
      "text/plain": [
       "83415"
      ]
     },
     "execution_count": 20,
     "metadata": {},
     "output_type": "execute_result"
    }
   ],
   "source": [
    "len(j2v_simi_scores)"
   ]
  },
  {
   "cell_type": "code",
   "execution_count": 21,
   "metadata": {},
   "outputs": [
    {
     "data": {
      "text/plain": [
       "0.2452168541829227"
      ]
     },
     "execution_count": 21,
     "metadata": {},
     "output_type": "execute_result"
    }
   ],
   "source": [
    "np.mean(j2v_simi_scores)"
   ]
  },
  {
   "cell_type": "code",
   "execution_count": 22,
   "metadata": {
    "scrolled": true
   },
   "outputs": [
    {
     "data": {
      "text/plain": [
       "0.10022677500667838"
      ]
     },
     "execution_count": 22,
     "metadata": {},
     "output_type": "execute_result"
    }
   ],
   "source": [
    "np.mean(cite_vec_simi_scores)"
   ]
  },
  {
   "cell_type": "code",
   "execution_count": 89,
   "metadata": {},
   "outputs": [
    {
     "data": {
      "text/plain": [
       "Ks_2sampResult(statistic=0.33918899135513175, pvalue=0.0)"
      ]
     },
     "execution_count": 89,
     "metadata": {},
     "output_type": "execute_result"
    }
   ],
   "source": [
    "ks_2samp(j2v_simi_scores, j2v_rand)"
   ]
  },
  {
   "cell_type": "code",
   "execution_count": 90,
   "metadata": {
    "scrolled": true
   },
   "outputs": [
    {
     "data": {
      "text/plain": [
       "Ks_2sampResult(statistic=0.42571054193466457, pvalue=0.0)"
      ]
     },
     "execution_count": 90,
     "metadata": {},
     "output_type": "execute_result"
    }
   ],
   "source": [
    "ks_2samp(cite_vec_simi_scores, cite_vec_rand)"
   ]
  },
  {
   "cell_type": "code",
   "execution_count": 151,
   "metadata": {},
   "outputs": [
    {
     "data": {
      "text/plain": [
       "0.3391480705889872"
      ]
     },
     "execution_count": 151,
     "metadata": {},
     "output_type": "execute_result"
    }
   ],
   "source": [
    "KL_dist(j2v_simi_scores, j2v_rand, bd)"
   ]
  },
  {
   "cell_type": "code",
   "execution_count": 157,
   "metadata": {},
   "outputs": [
    {
     "data": {
      "text/plain": [
       "0.2518752775121074"
      ]
     },
     "execution_count": 157,
     "metadata": {},
     "output_type": "execute_result"
    }
   ],
   "source": [
    "KL_dist(cite_vec_simi_scores, cite_vec_rand, bd, kernel='exponential')"
   ]
  },
  {
   "cell_type": "markdown",
   "metadata": {},
   "source": [
    "Same sub disc"
   ]
  },
  {
   "cell_type": "code",
   "execution_count": 24,
   "metadata": {},
   "outputs": [],
   "source": [
    "j2v_simi_scores_sub = []\n",
    "cite_vec_simi_scores_sub = []\n",
    "\n",
    "for j1, j2 in pairs_subd:\n",
    "    try:\n",
    "        j2v_simi_scores_sub.append(model.similarity(j1, j2))\n",
    "        cite_vec_simi_scores_sub.append(cosine_similarity(in_out_matrix[vid2col_index[j1]].reshape(1, -1), in_out_matrix[vid2col_index[j2]].reshape(1, -1))[0][0])\n",
    "        # cite_vec_simi_scores.append(cosine_similarity(Compo[vid2col_index[j1]].reshape(1, -1), Compo[vid2col_index[j2]].reshape(1, -1))[0][0])\n",
    "    except:\n",
    "        # j not in model.\n",
    "        pass"
   ]
  },
  {
   "cell_type": "code",
   "execution_count": 25,
   "metadata": {},
   "outputs": [
    {
     "data": {
      "text/plain": [
       "81772"
      ]
     },
     "execution_count": 25,
     "metadata": {},
     "output_type": "execute_result"
    }
   ],
   "source": [
    "len(j2v_simi_scores_sub)"
   ]
  },
  {
   "cell_type": "code",
   "execution_count": 26,
   "metadata": {},
   "outputs": [
    {
     "data": {
      "text/plain": [
       "0.5399061331577475"
      ]
     },
     "execution_count": 26,
     "metadata": {},
     "output_type": "execute_result"
    }
   ],
   "source": [
    "np.mean(j2v_simi_scores_sub)"
   ]
  },
  {
   "cell_type": "code",
   "execution_count": 27,
   "metadata": {
    "scrolled": true
   },
   "outputs": [
    {
     "data": {
      "text/plain": [
       "0.28324345799672146"
      ]
     },
     "execution_count": 27,
     "metadata": {},
     "output_type": "execute_result"
    }
   ],
   "source": [
    "np.mean(cite_vec_simi_scores_sub)"
   ]
  },
  {
   "cell_type": "code",
   "execution_count": 28,
   "metadata": {
    "scrolled": true
   },
   "outputs": [
    {
     "data": {
      "text/plain": [
       "Ttest_indResult(statistic=221.16373929629992, pvalue=0.0)"
      ]
     },
     "execution_count": 28,
     "metadata": {},
     "output_type": "execute_result"
    }
   ],
   "source": [
    "ttest_ind(j2v_simi_scores_sub, cite_vec_simi_scores_sub)"
   ]
  },
  {
   "cell_type": "code",
   "execution_count": 91,
   "metadata": {},
   "outputs": [
    {
     "data": {
      "text/plain": [
       "Ks_2sampResult(statistic=0.7402034814296645, pvalue=0.0)"
      ]
     },
     "execution_count": 91,
     "metadata": {},
     "output_type": "execute_result"
    }
   ],
   "source": [
    "ks_2samp(j2v_simi_scores_sub, j2v_rand)"
   ]
  },
  {
   "cell_type": "code",
   "execution_count": 92,
   "metadata": {},
   "outputs": [
    {
     "data": {
      "text/plain": [
       "Ks_2sampResult(statistic=0.6882958297993916, pvalue=0.0)"
      ]
     },
     "execution_count": 92,
     "metadata": {},
     "output_type": "execute_result"
    }
   ],
   "source": [
    "ks_2samp(cite_vec_simi_scores_sub, cite_vec_rand)"
   ]
  },
  {
   "cell_type": "code",
   "execution_count": 153,
   "metadata": {},
   "outputs": [
    {
     "data": {
      "text/plain": [
       "2.0447688691209542"
      ]
     },
     "execution_count": 153,
     "metadata": {},
     "output_type": "execute_result"
    }
   ],
   "source": [
    "KL_dist(j2v_simi_scores_sub, j2v_rand, bd)"
   ]
  },
  {
   "cell_type": "code",
   "execution_count": 159,
   "metadata": {
    "scrolled": true
   },
   "outputs": [
    {
     "data": {
      "text/plain": [
       "1.5547674718195423"
      ]
     },
     "execution_count": 159,
     "metadata": {},
     "output_type": "execute_result"
    }
   ],
   "source": [
    "KL_dist(cite_vec_simi_scores_sub, cite_vec_rand, bd, kernel='exponential')"
   ]
  },
  {
   "cell_type": "markdown",
   "metadata": {},
   "source": [
    "Plot"
   ]
  },
  {
   "cell_type": "code",
   "execution_count": 33,
   "metadata": {
    "scrolled": true
   },
   "outputs": [
    {
     "data": {
      "image/png": "[encoded data removed]",
      "text/plain": [
       "<Figure size 432x288 with 2 Axes>"
      ]
     },
     "metadata": {},
     "output_type": "display_data"
    }
   ],
   "source": [
    "a = 1\n",
    "b = 40\n",
    "fig, (ax1, ax2)= plt.subplots(1, 2, figsize=(6, 4), sharex='row', sharey='row')\n",
    "\n",
    "ax1.hist(cite_vec_rand, bins = b, alpha = a, label = 'random', color = '#808080', histtype='step')\n",
    "ax1.hist(cite_vec_simi_scores, bins = b, alpha = a, label = 'within-disc',  color = '#d95f02', histtype='step')\n",
    "ax1.hist(cite_vec_simi_scores_sub, bins = b, alpha = a, label = 'within-sub',  color = '#1b9e77', histtype='step')\n",
    "ax1.set_ylabel('Number of journal pairs')\n",
    "ax1.set_xlabel('Cosine similarity')\n",
    "ax1.set_yscale('log')\n",
    "ax1.set_title('CiteVec')\n",
    "ax1.legend(loc='lower left', bbox_to_anchor=(0.45, 0.75), fontsize = 9, frameon = False)\n",
    "\n",
    "ax2.hist(j2v_rand, bins = b, alpha = a, label = 'random', color = '#808080', histtype='step')\n",
    "ax2.hist(j2v_simi_scores, bins = b, alpha = a, label = 'within-disc',  color = '#d95f02', histtype='step')\n",
    "ax2.hist(j2v_simi_scores_sub, bins = b, alpha = a, label = 'within-sub',  color = '#1b9e77', histtype='step')\n",
    "ax2.set_xlabel('Cosine similarity')\n",
    "ax2.set_title('J2v')\n",
    "\n",
    "fig.subplots_adjust(wspace=0, hspace=0)\n",
    "plt.show()\n",
    "fig.savefig('j2v_vs_cite_simi_log.pdf', bbox_inches='tight', pad_inches=0.01)"
   ]
  },
  {
   "cell_type": "code",
   "execution_count": 79,
   "metadata": {
    "scrolled": false
   },
   "outputs": [
    {
     "data": {
      "image/png": "[encoded data removed]",
      "text/plain": [
       "<Figure size 360x180 with 2 Axes>"
      ]
     },
     "metadata": {},
     "output_type": "display_data"
    }
   ],
   "source": [
    "a = 1\n",
    "b = 40\n",
    "fig, (ax1, ax2)= plt.subplots(1, 2, figsize=(5, 2.5))\n",
    "\n",
    "ax1.hist(cite_vec_rand, bins = b, alpha = a, label = 'random', color = '#808080', histtype='step')\n",
    "ax1.hist(cite_vec_simi_scores, bins = b, alpha = a, label = 'discipline',  color = '#d95f02', histtype='step')\n",
    "ax1.hist(cite_vec_simi_scores_sub, bins = b, alpha = a, label = 'sub-discipline',  color = '#1b9e77', histtype='step')\n",
    "ax1.set_ylabel('Number of journal pairs')\n",
    "ax1.set_xlabel('Cosine similarity')\n",
    "ax1.set_xlim(-0.1, 1.1)\n",
    "# ax1.set_yscale('log')\n",
    "ax1.ticklabel_format(axis='y', style='sci', scilimits=(0,0), useMathText=True)\n",
    "ax1.set_title('cv')\n",
    "\n",
    "ax2.hist(j2v_rand, bins = b, alpha = a, label = 'random', color = '#808080', histtype='step')\n",
    "ax2.hist(j2v_simi_scores, bins = b, alpha = a, label = 'discipline',  color = '#d95f02', histtype='step')\n",
    "ax2.hist(j2v_simi_scores_sub, bins = b, alpha = a, label = 'sub-discipline',  color = '#1b9e77', histtype='step')\n",
    "ax2.set_xlabel('Cosine similarity')\n",
    "ax2.set_ylabel('Number of journal pairs')\n",
    "ax2.set_title('p2v')\n",
    "ax2.ticklabel_format(axis='y', style='sci', scilimits=(0,0), useMathText=True)\n",
    "\n",
    "ax1.legend(loc='lower left', bbox_to_anchor=(0.18, 0.6), fontsize = 9, frameon = False)\n",
    "\n",
    "fig.subplots_adjust(wspace=0.3, hspace=0)\n",
    "plt.show()\n",
    "fig.savefig('j2v_vs_cite_simi.pdf', bbox_inches='tight', pad_inches=0.01)"
   ]
  },
  {
   "cell_type": "code",
   "execution_count": 130,
   "metadata": {
    "scrolled": false
   },
   "outputs": [
    {
     "data": {
      "image/png": "[encoded data removed]",
      "text/plain": [
       "<Figure size 360x180 with 2 Axes>"
      ]
     },
     "metadata": {},
     "output_type": "display_data"
    }
   ],
   "source": [
    "a = 1\n",
    "b = 40\n",
    "fig, (ax1, ax2)= plt.subplots(1, 2, figsize=(5, 2.5))\n",
    "\n",
    "ax1.hist(cite_vec_rand, bins = b, alpha = a, label = 'random', color = 'black', histtype='step')\n",
    "ax1.hist(cite_vec_simi_scores_diff, bins = b, alpha = a, label = 'cross-disc.',  color = '#808080', histtype='step')\n",
    "ax1.hist(cite_vec_simi_scores, bins = b, alpha = a, label = 'discipline',  color = '#d95f02', histtype='step')\n",
    "ax1.hist(cite_vec_simi_scores_sub, bins = b, alpha = a, label = 'sub-discipline',  color = '#1b9e77', histtype='step')\n",
    "ax1.set_ylabel('Number of journal pairs')\n",
    "ax1.set_xlabel('Cosine similarity')\n",
    "ax1.set_xlim(-0.1, 1.1)\n",
    "# ax1.set_yscale('log')\n",
    "ax1.ticklabel_format(axis='y', style='sci', scilimits=(0,0), useMathText=True)\n",
    "ax1.set_title('cv')\n",
    "\n",
    "ax2.hist(j2v_rand, bins = b, alpha = a, label = 'random', color = 'black', histtype='step')\n",
    "ax2.hist(j2v_simi_scores_diff, bins = b, alpha = a, label = 'cross-disc.',  color = '#808080', histtype='step')\n",
    "ax2.hist(j2v_simi_scores, bins = b, alpha = a, label = 'discipline',  color = '#d95f02', histtype='step')\n",
    "ax2.hist(j2v_simi_scores_sub, bins = b, alpha = a, label = 'sub-discipline',  color = '#1b9e77', histtype='step')\n",
    "ax2.set_xlabel('Cosine similarity')\n",
    "ax2.set_ylabel('Number of journal pairs')\n",
    "ax2.set_title('p2v')\n",
    "ax2.ticklabel_format(axis='y', style='sci', scilimits=(0,0), useMathText=True)\n",
    "ax2.set_ylim([0, 8.5e3])\n",
    "ax2.set_yticks([0, 2e3, 4e3, 6e3, 8e3])\n",
    "ax2.set_xticks([-0.5, 0, 0.5, 1])\n",
    "\n",
    "ax1.legend(loc='lower left', bbox_to_anchor=(0.13, 0.5), fontsize = 9, frameon = False)\n",
    "\n",
    "fig.subplots_adjust(wspace=0.3, hspace=0)\n",
    "plt.show()\n",
    "fig.savefig('j2v_vs_cite_simi.pdf', bbox_inches='tight', pad_inches=0.01)"
   ]
  },
  {
   "cell_type": "code",
   "execution_count": null,
   "metadata": {},
   "outputs": [],
   "source": []
  }
 ],
 "metadata": {
  "kernelspec": {
   "display_name": "Python 3",
   "language": "python",
   "name": "python3"
  },
  "language_info": {
   "codemirror_mode": {
    "name": "ipython",
    "version": 3
   },
   "file_extension": ".py",
   "mimetype": "text/x-python",
   "name": "python",
   "nbconvert_exporter": "python",
   "pygments_lexer": "ipython3",
   "version": "3.6.7"
  }
 },
 "nbformat": 4,
 "nbformat_minor": 1
}
