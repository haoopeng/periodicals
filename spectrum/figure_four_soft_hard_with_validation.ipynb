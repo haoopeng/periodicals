{
 "cells": [
  {
   "cell_type": "code",
   "execution_count": 1,
   "metadata": {},
   "outputs": [
    {
     "name": "stderr",
     "output_type": "stream",
     "text": [
      "Using Theano backend.\n"
     ]
    }
   ],
   "source": [
    "from j2v import mag\n",
    "from j2v import w2v\n",
    "import random\n",
    "import numpy as np\n",
    "import pandas as pd\n",
    "from collections import defaultdict\n",
    "import matplotlib.pyplot as plt\n",
    "from sklearn.metrics.pairwise import cosine_similarity\n",
    "from scipy.spatial.distance import cosine\n",
    "from scipy.stats import spearmanr, pearsonr\n",
    "%matplotlib inline"
   ]
  },
  {
   "cell_type": "code",
   "execution_count": 2,
   "metadata": {},
   "outputs": [],
   "source": [
    "CIs = {'90': 1.645, '95': 1.96, '99': 2.576}"
   ]
  },
  {
   "cell_type": "code",
   "execution_count": 3,
   "metadata": {},
   "outputs": [
    {
     "name": "stdout",
     "output_type": "stream",
     "text": [
      "\n",
      "model shape is: (20835, 100) \n",
      "\n"
     ]
    }
   ],
   "source": [
    "model = w2v.load_j2v(mag.DATA_ROOT+'/100feat_50minwords_10context_2016')"
   ]
  },
  {
   "cell_type": "code",
   "execution_count": 4,
   "metadata": {},
   "outputs": [],
   "source": [
    "vid2index = dict((vid, i) for i, vid in enumerate(model.index2word))"
   ]
  },
  {
   "cell_type": "code",
   "execution_count": 5,
   "metadata": {},
   "outputs": [
    {
     "name": "stdout",
     "output_type": "stream",
     "text": [
      "14113 journals in MAG's Journal.txt were matched to UCSD data, and 29 of them are interdisciplinary journals in UCSD catelog.\n"
     ]
    }
   ],
   "source": [
    "mapping = mag.load_map_jid_discipline('journal_discipline_map.csv')\n",
    "mapping = mapping[mapping['disc_name'] != 'Interdiscipline']\n",
    "mapping.index = range(len(mapping))"
   ]
  },
  {
   "cell_type": "code",
   "execution_count": 6,
   "metadata": {},
   "outputs": [
    {
     "data": {
      "text/html": [
       "<div>\n",
       "<style scoped>\n",
       "    .dataframe tbody tr th:only-of-type {\n",
       "        vertical-align: middle;\n",
       "    }\n",
       "\n",
       "    .dataframe tbody tr th {\n",
       "        vertical-align: top;\n",
       "    }\n",
       "\n",
       "    .dataframe thead th {\n",
       "        text-align: right;\n",
       "    }\n",
       "</style>\n",
       "<table border=\"1\" class=\"dataframe\">\n",
       "  <thead>\n",
       "    <tr style=\"text-align: right;\">\n",
       "      <th></th>\n",
       "      <th>jid</th>\n",
       "      <th>jname</th>\n",
       "      <th>ucsd_jname</th>\n",
       "      <th>subd_id</th>\n",
       "      <th>subd_name</th>\n",
       "      <th>disc_id</th>\n",
       "      <th>disc_name</th>\n",
       "      <th>color</th>\n",
       "    </tr>\n",
       "  </thead>\n",
       "  <tbody>\n",
       "    <tr>\n",
       "      <th>0</th>\n",
       "      <td>07A4F1E7</td>\n",
       "      <td>Formal Aspects of Computing</td>\n",
       "      <td>Formal Aspects Of Computing</td>\n",
       "      <td>306</td>\n",
       "      <td>Computer Systems Design</td>\n",
       "      <td>7</td>\n",
       "      <td>Electrical Engineering &amp; Computer Science</td>\n",
       "      <td>Lavender</td>\n",
       "    </tr>\n",
       "  </tbody>\n",
       "</table>\n",
       "</div>"
      ],
      "text/plain": [
       "        jid                        jname                   ucsd_jname  \\\n",
       "0  07A4F1E7  Formal Aspects of Computing  Formal Aspects Of Computing   \n",
       "\n",
       "   subd_id                subd_name  disc_id  \\\n",
       "0      306  Computer Systems Design        7   \n",
       "\n",
       "                                   disc_name     color  \n",
       "0  Electrical Engineering & Computer Science  Lavender  "
      ]
     },
     "execution_count": 6,
     "metadata": {},
     "output_type": "execute_result"
    }
   ],
   "source": [
    "mapping.head(1)"
   ]
  },
  {
   "cell_type": "code",
   "execution_count": 7,
   "metadata": {},
   "outputs": [],
   "source": [
    "disc_domain = {'Math & Physics': 'Mathematical', 'Social Sciences': 'Social', 'Humanities': 'Social'}"
   ]
  },
  {
   "cell_type": "code",
   "execution_count": 8,
   "metadata": {},
   "outputs": [
    {
     "name": "stdout",
     "output_type": "stream",
     "text": [
      "processing /l/nx/data/haopeng/j2v/Journals.txt...\n",
      "finished processing!\n",
      "\n",
      "processing /l/nx/data/haopeng/j2v/Conferences.txt...\n",
      "finished processing!\n",
      "\n"
     ]
    }
   ],
   "source": [
    "vname_vid = mag.get_venue_dict(key = 'name')\n",
    "vid_vname = {vid: vname for vname, vid in vname_vid.items()}"
   ]
  },
  {
   "cell_type": "code",
   "execution_count": 9,
   "metadata": {},
   "outputs": [],
   "source": [
    "def get_direction(model, mapping):\n",
    "    '''e.g. get direction vector from social center point to mathematical center point.'''\n",
    "    s_ix, n_ix = [], []\n",
    "    for i in range(len(mapping)):\n",
    "        jid, disc_name = mapping.iloc[i][['jid', 'disc_name']]\n",
    "        if disc_name in disc_domain:\n",
    "            if jid in vid2index:\n",
    "                ind = vid2index[jid]\n",
    "                if disc_domain[disc_name] == 'Mathematical':\n",
    "                    n_ix.append(ind)\n",
    "                else: s_ix.append(ind)\n",
    "    math_vec = np.mean(model.syn0[n_ix, :].astype('float64'), axis = 0)\n",
    "    social_vec = np.mean(model.syn0[s_ix, :].astype('float64'), axis = 0)\n",
    "    math_vec = math_vec / np.linalg.norm(math_vec)\n",
    "    social_vec = social_vec / np.linalg.norm(social_vec)\n",
    "    social2math = math_vec - social_vec\n",
    "    # it doesn't matter normalize the direction or not.\n",
    "    # social2natural = social2natural / np.linalg.norm(social2natural)\n",
    "    return social2math, social_vec, math_vec"
   ]
  },
  {
   "cell_type": "code",
   "execution_count": 14,
   "metadata": {},
   "outputs": [],
   "source": [
    "def cal_cosines(direction, model):\n",
    "    '''get cosine similarity between each j vector and the direction vector.'''\n",
    "    cosines = cosine_similarity(model.syn0, direction.reshape(1,-1)).flatten()\n",
    "    vid_cosines = [(vid, cos) for vid, cos in zip(model.index2word, cosines)]\n",
    "    return vid_cosines"
   ]
  },
  {
   "cell_type": "code",
   "execution_count": 17,
   "metadata": {
    "scrolled": true
   },
   "outputs": [],
   "source": [
    "# mean of all journal vectors in a group as the center point.\n",
    "direction, social_vec, math_vec = get_direction(model, mapping)"
   ]
  },
  {
   "cell_type": "code",
   "execution_count": 18,
   "metadata": {},
   "outputs": [],
   "source": [
    "vid_cosines = cal_cosines(direction, model)"
   ]
  },
  {
   "cell_type": "code",
   "execution_count": 19,
   "metadata": {
    "scrolled": false
   },
   "outputs": [
    {
     "name": "stdout",
     "output_type": "stream",
     "text": [
      "Mathematical Modelling of Natural Phenomena 0.5875654174567159\n",
      "Discrete and Continuous Dynamical Systems-series B 0.5727745063428251\n",
      "Esaim: Proceedings 0.5689841061168089\n",
      "Multiscale Modeling & Simulation 0.5658529699864282\n",
      "Applied Mathematics Research Express 0.5577068931562705\n",
      "Computational & Applied Mathematics 0.5569115632120807\n",
      "Biophysical Journal 0.5537987804275936\n",
      "Computational and Mathematical Methods in Medicine 0.542447060344082\n",
      "Acta Applicandae Mathematicae 0.5412082714418693\n",
      "Journal of Biological Physics 0.5398415780253678\n"
     ]
    }
   ],
   "source": [
    "for vid, cos in sorted(vid_cosines, key=lambda x: x[1], reverse=True)[:10]:\n",
    "    print(vid_vname[vid], cos)"
   ]
  },
  {
   "cell_type": "code",
   "execution_count": 20,
   "metadata": {
    "scrolled": true
   },
   "outputs": [
    {
     "name": "stdout",
     "output_type": "stream",
     "text": [
      "Journal of Pacific Rim Psychology -0.598207163955912\n",
      "SAGE Open -0.5902383536368017\n",
      "International Journal of Group Tensions -0.5845471788516086\n",
      "Psykhe (santiago) -0.5764654808826007\n",
      "Psychological Studies -0.5734391415605059\n",
      "Applied Psychology -0.5651567536413159\n",
      "Russian Education and Society -0.5649918116504176\n",
      "International Journal of Cross Cultural Management -0.5646869371648366\n",
      "Comparative Sociology -0.5621725081230928\n",
      "Russian Social Science Review -0.5609618355397676\n"
     ]
    }
   ],
   "source": [
    "for vid, cos in sorted(vid_cosines, key=lambda x: x[1], reverse=False)[:10]:\n",
    "    print(vid_vname[vid], cos)"
   ]
  },
  {
   "cell_type": "markdown",
   "metadata": {},
   "source": [
    "## Validation"
   ]
  },
  {
   "cell_type": "markdown",
   "metadata": {},
   "source": [
    "### Task 1 (validate direction within soft discs)"
   ]
  },
  {
   "cell_type": "code",
   "execution_count": 10,
   "metadata": {},
   "outputs": [],
   "source": [
    "def get_direction_subd(model, mapping, domain_bar):\n",
    "    disc_domain = {}\n",
    "    for d, li in domain_bar.items():\n",
    "        for l in li:\n",
    "            disc_domain[l] = d\n",
    "    s_ix, n_ix = [], []\n",
    "    for i in range(len(mapping)):\n",
    "        jid, disc_name = mapping.iloc[i][['jid', 'subd_name']]\n",
    "        if jid in vid2index and disc_name in disc_domain:\n",
    "            ind = vid2index[jid]\n",
    "            if disc_domain[disc_name] != 'soft':\n",
    "                n_ix.append(ind)\n",
    "            else: s_ix.append(ind)\n",
    "    natural_vec = np.mean(model.syn0[n_ix, :].astype('float64'), axis = 0)\n",
    "    social_vec = np.mean(model.syn0[s_ix, :].astype('float64'), axis = 0)\n",
    "    natural_vec = natural_vec / np.linalg.norm(natural_vec)\n",
    "    social_vec = social_vec / np.linalg.norm(social_vec)\n",
    "    social2natural = natural_vec - social_vec\n",
    "    # it doesn't matter normalize the direction or not.\n",
    "    # social2natural = social2natural / np.linalg.norm(social2natural)\n",
    "    return social2natural"
   ]
  },
  {
   "cell_type": "code",
   "execution_count": 11,
   "metadata": {},
   "outputs": [],
   "source": [
    "# within soft (Social Sciences; Humanities)\n",
    "domain_bar = {'soft': ['Sociology'],\n",
    "              'hard': ['Finance']}"
   ]
  },
  {
   "cell_type": "code",
   "execution_count": 12,
   "metadata": {
    "scrolled": true
   },
   "outputs": [],
   "source": [
    "direction_bar = get_direction_subd(model, mapping, domain_bar)"
   ]
  },
  {
   "cell_type": "code",
   "execution_count": 15,
   "metadata": {
    "scrolled": true
   },
   "outputs": [],
   "source": [
    "vid_cosines_bar = cal_cosines(direction_bar, model)"
   ]
  },
  {
   "cell_type": "code",
   "execution_count": 21,
   "metadata": {
    "scrolled": true
   },
   "outputs": [
    {
     "data": {
      "text/plain": [
       "SpearmanrResult(correlation=0.7301501712510297, pvalue=0.0)"
      ]
     },
     "execution_count": 21,
     "metadata": {},
     "output_type": "execute_result"
    }
   ],
   "source": [
    "spearmanr([cos for vid, cos in vid_cosines], [cos for vid, cos in vid_cosines_bar])"
   ]
  },
  {
   "cell_type": "markdown",
   "metadata": {},
   "source": [
    "systematic"
   ]
  },
  {
   "cell_type": "code",
   "execution_count": 241,
   "metadata": {},
   "outputs": [],
   "source": [
    "domain_bar = {'soft': ['Leadership & Organizational Behavior', 'Law', 'Social Psychology'],\n",
    "              'hard': ['Finance', 'Operations Research', 'Statistics']}"
   ]
  },
  {
   "cell_type": "code",
   "execution_count": 249,
   "metadata": {
    "scrolled": true
   },
   "outputs": [
    {
     "name": "stdout",
     "output_type": "stream",
     "text": [
      "Leadership & Organizational Behavior Finance 0.6559682387699799\n",
      "Leadership & Organizational Behavior Operations Research 0.7956364176744286\n",
      "Leadership & Organizational Behavior Statistics 0.7901756600642613\n",
      "Law Finance 0.7377827384451418\n",
      "Law Operations Research 0.7726801949900357\n",
      "Law Statistics 0.7542940695263493\n",
      "Social Psychology Finance 0.5881618321823292\n",
      "Social Psychology Operations Research 0.7012001932540053\n",
      "Social Psychology Statistics 0.7852224080247707\n"
     ]
    }
   ],
   "source": [
    "corrs = []\n",
    "for sub1 in domain_bar['soft']:\n",
    "    for sub2 in domain_bar['hard']:\n",
    "        barbar = {'soft': [sub1], 'hard': [sub2]}\n",
    "        direction_bar = get_direction_subd(model, mapping, barbar)\n",
    "        vid_cosines_bar = cal_cosines(direction_bar, model)\n",
    "        corr, p = spearmanr([cos for vid, cos in vid_cosines], [cos for vid, cos in vid_cosines_bar])\n",
    "        corrs.append(corr)\n",
    "        print(sub1, sub2, corr)"
   ]
  },
  {
   "cell_type": "code",
   "execution_count": 251,
   "metadata": {},
   "outputs": [
    {
     "data": {
      "text/plain": [
       "0.7312357503257002"
      ]
     },
     "execution_count": 251,
     "metadata": {},
     "output_type": "execute_result"
    }
   ],
   "source": [
    "np.mean(corrs)"
   ]
  },
  {
   "cell_type": "code",
   "execution_count": 256,
   "metadata": {},
   "outputs": [],
   "source": [
    "delta = CIs['95'] * np.std(corrs) / np.sqrt(len(corrs))"
   ]
  },
  {
   "cell_type": "code",
   "execution_count": 258,
   "metadata": {},
   "outputs": [
    {
     "data": {
      "text/plain": [
       "(0.6877534360570542, 0.7747180645943462)"
      ]
     },
     "execution_count": 258,
     "metadata": {},
     "output_type": "execute_result"
    }
   ],
   "source": [
    "(np.mean(corrs) - delta, np.mean(corrs) + delta)"
   ]
  },
  {
   "cell_type": "markdown",
   "metadata": {},
   "source": [
    "### Task 2 (subset of journals)"
   ]
  },
  {
   "cell_type": "code",
   "execution_count": 182,
   "metadata": {},
   "outputs": [],
   "source": [
    "def get_direction_subset(num):\n",
    "    n_ix = random.sample(hard_jids, num)\n",
    "    n_ix = [vid2index[jid] for jid in n_ix]                        \n",
    "    s_ix = random.sample(soft_jids, num)\n",
    "    s_ix = [vid2index[jid] for jid in s_ix]\n",
    "    math_vec = np.mean(model.syn0[n_ix, :].astype('float64'), axis = 0)\n",
    "    social_vec = np.mean(model.syn0[s_ix, :].astype('float64'), axis = 0)\n",
    "    math_vec = math_vec / np.linalg.norm(math_vec)\n",
    "    social_vec = social_vec / np.linalg.norm(social_vec)\n",
    "    social2math = math_vec - social_vec\n",
    "    # it doesn't matter normalize the direction or not.\n",
    "    # social2natural = social2natural / np.linalg.norm(social2natural)\n",
    "    return social2math"
   ]
  },
  {
   "cell_type": "code",
   "execution_count": 174,
   "metadata": {},
   "outputs": [],
   "source": [
    "soft_jids = mapping.loc[(mapping.jid.isin(vid2index)) & (mapping.disc_name.isin(['Social Sciences', 'Humanities']))]['jid'].tolist()\n",
    "hard_jids = mapping.loc[(mapping.jid.isin(vid2index)) & (mapping.disc_name=='Math & Physics')]['jid'].tolist()"
   ]
  },
  {
   "cell_type": "code",
   "execution_count": 175,
   "metadata": {},
   "outputs": [
    {
     "data": {
      "text/plain": [
       "3366"
      ]
     },
     "execution_count": 175,
     "metadata": {},
     "output_type": "execute_result"
    }
   ],
   "source": [
    "len(soft_jids)"
   ]
  },
  {
   "cell_type": "code",
   "execution_count": 176,
   "metadata": {},
   "outputs": [
    {
     "data": {
      "text/plain": [
       "738"
      ]
     },
     "execution_count": 176,
     "metadata": {},
     "output_type": "execute_result"
    }
   ],
   "source": [
    "len(hard_jids)"
   ]
  },
  {
   "cell_type": "code",
   "execution_count": 183,
   "metadata": {
    "scrolled": true
   },
   "outputs": [],
   "source": [
    "direction_subset = get_direction_subset(num=10)"
   ]
  },
  {
   "cell_type": "code",
   "execution_count": 184,
   "metadata": {},
   "outputs": [],
   "source": [
    "vid_cosines_subset = cal_cosines(direction_subset, model)"
   ]
  },
  {
   "cell_type": "code",
   "execution_count": 185,
   "metadata": {
    "scrolled": true
   },
   "outputs": [
    {
     "data": {
      "text/plain": [
       "SpearmanrResult(correlation=0.9533914097374737, pvalue=0.0)"
      ]
     },
     "execution_count": 185,
     "metadata": {},
     "output_type": "execute_result"
    }
   ],
   "source": [
    "spearmanr([cos for vid, cos in vid_cosines], [cos for vid, cos in vid_cosines_subset])"
   ]
  },
  {
   "cell_type": "code",
   "execution_count": 188,
   "metadata": {},
   "outputs": [],
   "source": [
    "nums = list(range(10, 60, 10))\n",
    "repeat = 100\n",
    "corr_vals = defaultdict(list)\n",
    "\n",
    "for num in nums:\n",
    "    for i in range(repeat):\n",
    "        direction_subset = get_direction_subset(num)\n",
    "        vid_cosines_subset = cal_cosines(direction_subset, model)\n",
    "        val, p = spearmanr([cos for vid, cos in vid_cosines], [cos for vid, cos in vid_cosines_subset])\n",
    "        corr_vals[num].append(val)"
   ]
  },
  {
   "cell_type": "code",
   "execution_count": 261,
   "metadata": {},
   "outputs": [
    {
     "data": {
      "image/png": "[encoded data removed]",
      "text/plain": [
       "<Figure size 216x158.4 with 1 Axes>"
      ]
     },
     "metadata": {},
     "output_type": "display_data"
    }
   ],
   "source": [
    "fig, ax = plt.subplots(figsize = (3, 2.2))\n",
    "\n",
    "ys = []\n",
    "stds = []\n",
    "for num in nums:\n",
    "    ys.append(np.mean(corr_vals[num]))\n",
    "    stds.append(np.std(corr_vals[num]))\n",
    "ax.errorbar(nums, ys, yerr=CIs['95']*(stds/np.sqrt(repeat)), color='k', marker='o', markersize=1.5, linewidth=1, fillstyle='full')\n",
    "\n",
    "ax.set_xlabel('Number of journals')\n",
    "ax.set_ylabel('Mean rank correlation')\n",
    "ax.set_title('soft-hard axis')\n",
    "ax.set_ylim([0, 1.1])\n",
    "\n",
    "plt.show()\n",
    "fig.savefig('soft-hard-stability.pdf', bbox_inches='tight', pad_inches=0)"
   ]
  },
  {
   "cell_type": "markdown",
   "metadata": {},
   "source": [
    "## Plot"
   ]
  },
  {
   "cell_type": "code",
   "execution_count": 31,
   "metadata": {},
   "outputs": [],
   "source": [
    "def get_conference_abbr():\n",
    "    '''return a mapping dictionary from conf name to abbreviation'''\n",
    "    cname2abbr = {}\n",
    "    li = set()\n",
    "    for row in mag.yield_one_line(mag.MAG_Conferences_FILE):\n",
    "        cid, abbr, cname = row\n",
    "        if cname in li:\n",
    "            try:\n",
    "                del cname2abbr[cname]\n",
    "                continue\n",
    "            except: continue\n",
    "        li.add(cname)\n",
    "        cname2abbr[cname] = abbr\n",
    "    return cname2abbr"
   ]
  },
  {
   "cell_type": "code",
   "execution_count": 32,
   "metadata": {},
   "outputs": [],
   "source": [
    "def journal_spectrum(vname_vid, model, direction):\n",
    "    dic = {}\n",
    "    for name in vname_vid:\n",
    "        try:\n",
    "            dic[name] = 1 - cosine(direction, model[vname_vid[name]])\n",
    "        except: continue\n",
    "    return dic"
   ]
  },
  {
   "cell_type": "code",
   "execution_count": 93,
   "metadata": {},
   "outputs": [],
   "source": [
    "def text_annotate(ax, j_c):\n",
    "    jnames = ['Science', 'JAMA', 'Cell', 'Psychological Bulletin', 'Chemical Reviews', 'Knowledge Discovery and Data Mining', \\\n",
    "          'Cancer', 'Proceedings of the National Academy of Sciences of the United States of America', \\\n",
    "          'International Conference on Weblogs and Social Media', 'Quarterly Journal of Economics', 'Nature', 'Annual Review of Sociology',\\\n",
    "            'Physical Review Letters', 'PLOS ONE', 'International World Wide Web Conferences', 'Meeting of the Association for Computational Linguistics', \\\n",
    "         'Empirical Methods in Natural Language Processing']\n",
    "    cname2abbr = get_conference_abbr()\n",
    "    print('spectrum value:\\n')\n",
    "    for jname, cos in j_c.items():\n",
    "        if jname not in jnames:\n",
    "            continue\n",
    "        yy = (0.1 if cos > 0 else -0.1)\n",
    "        if jname in cname2abbr:\n",
    "            jname = cname2abbr[jname]\n",
    "        if jname == 'Proceedings of the National Academy of Sciences of the United States of America':\n",
    "            jname = 'PNAS'\n",
    "            height = 0.3\n",
    "        if jname == 'Quarterly Journal of Economics':\n",
    "            yy = 0.1\n",
    "            height = 0.3\n",
    "            jname = 'QJE'\n",
    "        if jname == 'Physical Review Letters':\n",
    "            yy = -0.1\n",
    "            height = -0.5\n",
    "            jname = 'PRL'\n",
    "        if jname == 'PLOS ONE':\n",
    "            yy = -0.1\n",
    "            height = -0.8\n",
    "        if jname == 'JAMA':\n",
    "            yy = 0.1\n",
    "            height = 0.5\n",
    "        if jname == 'EMNLP':\n",
    "            yy = -0.1\n",
    "            height = -0.8\n",
    "        if jname == 'Psychological Bulletin':\n",
    "            yy = -0.1\n",
    "            height = -0.8\n",
    "        if jname == 'ACL':\n",
    "            height = -0.5\n",
    "        if jname == 'WWW':\n",
    "            yy = 0.1\n",
    "            height = 0.5\n",
    "        if jname == 'Nature':\n",
    "            yy = -0.1\n",
    "            height = -0.8\n",
    "        if jname == \"Science\":\n",
    "            height = 0.5\n",
    "        if jname == 'Cell':\n",
    "            yy = -0.1\n",
    "            height = -0.5\n",
    "        if jname == 'Cancer':\n",
    "            yy = 0.1\n",
    "            height = 0.3\n",
    "        if jname == 'KDD':\n",
    "            yy = -0.1\n",
    "            height = -0.5\n",
    "        if jname == 'ICWSM':\n",
    "            yy = 0.1\n",
    "            height = 0.9\n",
    "        if jname == 'Annual Review of Sociology':\n",
    "            yy = 0.1\n",
    "            height = 0.9\n",
    "        if jname == 'Chemical Reviews': height = 0.9\n",
    "        print('{:>80}:\\t{:6.5f}'.format(jname, cos))\n",
    "        if cos < 0:\n",
    "            c = \"y\"\n",
    "        else:\n",
    "            c = \"g\"\n",
    "        bbox_props = dict(boxstyle=\"round\", fc=c, ec=\"1\", alpha = abs(cos))\n",
    "        if jname in [\"ACL\", \"KDD\", \"JAMA\", \"QJE\", \"WWW\", \"ICWSM\", \"Psychological Bulletin\", \"PNAS\", \"PRL\", \"Science\", \"Chemical Reviews\"]:\n",
    "            arrow_props = dict(arrowstyle=\"-|>\", connectionstyle=\"angle,angleA=0,angleB=-90,rad=10\", fc=\"w\")\n",
    "            label_xpos = cos - 0.05\n",
    "            haligh = \"right\"\n",
    "            if jname in [\"WWW\", \"ICWSM\", \"PRL\", \"PNAS\", \"Science\", \"Chemical Reviews\"]:\n",
    "                label_xpos = cos + 0.05\n",
    "                haligh = \"left\"\n",
    "            ax.annotate(jname, xy=(cos, yy), xycoords = 'data', xytext=(label_xpos, height), textcoords = 'data', ha=haligh, va=\"center\",\\\n",
    "                    size=12, bbox = bbox_props, arrowprops = arrow_props)\n",
    "        else:\n",
    "            arrow_props = dict(arrowstyle=\"-|>\", connectionstyle=\"arc3,rad=0.\", fc=\"w\")\n",
    "            ax.annotate(jname, xy=(cos, yy), xycoords = 'data', xytext=(cos, height), textcoords = 'data', ha='center', va=\"center\",\\\n",
    "                        size=12, bbox = bbox_props, arrowprops = arrow_props)"
   ]
  },
  {
   "cell_type": "code",
   "execution_count": 35,
   "metadata": {},
   "outputs": [],
   "source": [
    "j_cosine = journal_spectrum(vname_vid, model, direction)\n",
    "jname2color = mapping[['jname', 'color']].set_index('jname').to_dict(orient='dict')['color']"
   ]
  },
  {
   "cell_type": "code",
   "execution_count": 50,
   "metadata": {},
   "outputs": [],
   "source": [
    "xmin, xmax = -0.6, 0.6"
   ]
  },
  {
   "cell_type": "code",
   "execution_count": 95,
   "metadata": {},
   "outputs": [],
   "source": [
    "def plot_box(ax):\n",
    "    # plot left, right and top border line.\n",
    "    ax.plot((xmin, xmax), (0.1, 0.1), color = 'k')\n",
    "    ax.plot((xmin, xmin), (-0.1, 0.1), color = 'k')\n",
    "    ax.plot((xmax, xmax), (-0.1, 0.1), color = 'k')\n",
    "    ax.plot((xmin, xmax), (-0.1, -0.1), color = 'k')\n",
    "    \n",
    "def plot_annotator(ax, j_cosine, cosine_hex):\n",
    "    ax.set_xlim(xmin-0.01, xmax+0.01)\n",
    "    ax.set_ylim(-1.2, 1)\n",
    "    ax.spines['right'].set_visible(False)\n",
    "    ax.spines['left'].set_visible(False)\n",
    "    ax.spines['top'].set_visible(False)\n",
    "    ax.spines['bottom'].set_position('center')\n",
    "    ax.yaxis.set_visible(False)\n",
    "    ax.xaxis.set_ticks_position('bottom')\n",
    "    for cos, hex_c in cosine_hex.items():\n",
    "        ax.plot((cos, cos), (-0.1, 0.1), color = hex_c, linewidth = 0.01)\n",
    "    plot_box(ax)\n",
    "    # mean_D = np.mean(list(j_cosine.values()))\n",
    "    # ax.plot([mean_D, mean_D], [-3.60, 0.1], clip_on = False, ls = '--', color = 'k', linewidth = 1)\n",
    "    ax.text(xmax+0.025, 0, 'Hard', ha = 'left', va = 'center', fontsize = 15) # Math & Physics\n",
    "    ax.text(xmin-0.025, 0, 'Soft', ha = 'right', va = 'center', fontsize = 15) # Social Science\n",
    "    ax.arrow(xmax, -0.1, 0.15, 0, width=0.0035, color=\"k\", clip_on=False, head_width=0.05, head_length=0.08)\n",
    "    ax.arrow(xmin, -0.1, -0.15, 0, width=0.0035, color=\"k\", clip_on=False, head_width=0.05, head_length=0.08)\n",
    "    text_annotate(ax, j_cosine)"
   ]
  },
  {
   "cell_type": "code",
   "execution_count": 96,
   "metadata": {},
   "outputs": [
    {
     "name": "stdout",
     "output_type": "stream",
     "text": [
      "processing /l/nx/data/MicrosoftAcademicGraph/Conferences.txt...\n",
      "finished processing!\n",
      "\n",
      "spectrum value:\n",
      "\n",
      "                                                          Psychological Bulletin:\t-0.25010\n",
      "                                                                          Nature:\t0.28391\n",
      "                                                                Chemical Reviews:\t0.12477\n",
      "                                                                             QJE:\t-0.22548\n",
      "                                                      Annual Review of Sociology:\t-0.41640\n",
      "                                                                        PLOS ONE:\t0.11110\n",
      "                                                                            Cell:\t0.23333\n",
      "                                                                         Science:\t0.21875\n",
      "                                                                          Cancer:\t-0.02415\n",
      "                                                                            PNAS:\t0.33276\n",
      "                                                                            JAMA:\t-0.19428\n",
      "                                                                             PRL:\t0.34630\n",
      "                                                                             WWW:\t-0.09287\n",
      "                                                                             KDD:\t0.08583\n",
      "                                                                           ICWSM:\t-0.14185\n",
      "                                                                           EMNLP:\t-0.05850\n",
      "                                                                             ACL:\t-0.09682\n"
     ]
    },
    {
     "data": {
      "image/png": "[encoded data removed]",
      "text/plain": [
       "<Figure size 648x792 with 14 Axes>"
      ]
     },
     "metadata": {},
     "output_type": "display_data"
    }
   ],
   "source": [
    "fig = plt.figure(figsize=(9, 11))\n",
    "fig.subplots_adjust(left = 0.08, bottom = 0.05, right = 0.8)\n",
    "\n",
    "# order discipline by mean cosine value\n",
    "hex_cosine = defaultdict(list)\n",
    "cosine_hex = dict()\n",
    "for name in j_cosine.keys():\n",
    "    try:\n",
    "        col = jname2color[name]\n",
    "        hex_c = w2v.color2hex[col]\n",
    "        cosine_hex[j_cosine[name]] = hex_c\n",
    "        hex_cosine[hex_c].append(j_cosine[name])\n",
    "    except: continue\n",
    "hex_cosine = list(sorted(hex_cosine.items(), key = lambda x: np.mean(x[1])))\n",
    "\n",
    "annotator_rows = 12\n",
    "\n",
    "# create axes for second part\n",
    "axes = []\n",
    "for i in range(13):\n",
    "    axes.append(plt.subplot2grid((25,1), (annotator_rows + i, 0), rowspan=1, colspan=1))\n",
    "\n",
    "# plot second part\n",
    "w2v.color2dis['Lavender'] = 'EE & CS'\n",
    "w2v.color2dis['SkyBlue'] = 'Engineering'\n",
    "for i in range(len(hex_cosine)):\n",
    "    hex_c, cosine_list = hex_cosine[i]\n",
    "    axes[i].set_xlim(xmin-0.01, xmax+0.01)\n",
    "    # if set to (-0.1, 0.1), then the bottom border line will be thinner as it overlap with axis even if we hide axis.\n",
    "    axes[i].set_ylim(-0.11, 0.11)\n",
    "    for cos in cosine_list:\n",
    "        axes[i].plot((cos, cos), (-0.1, 0.1), color = hex_c, linewidth = 0.5)\n",
    "    axes[i].plot((np.mean(cosine_list), np.mean(cosine_list)), (-0.1, 0.1), color = 'k', linewidth = 2)\n",
    "    plot_box(axes[i])\n",
    "    axes[i].spines['right'].set_visible(False)\n",
    "    axes[i].spines['left'].set_visible(False)\n",
    "    axes[i].spines['top'].set_visible(False)\n",
    "    axes[i].spines['bottom'].set_visible(False)\n",
    "    axes[i].yaxis.set_ticks([])\n",
    "    if i != 12:\n",
    "        axes[i].xaxis.set_ticks([])\n",
    "    else: axes[i].xaxis.set_ticks_position('bottom')\n",
    "    axes[i].text(xmax+0.02, -0.04, w2v.color2dis[w2v.hex2color[hex_c]], fontsize = 15)\n",
    "\n",
    "# plot first part\n",
    "ax_annotator = plt.subplot2grid((25,1), (0,0), rowspan=annotator_rows, colspan=1)\n",
    "plot_annotator(ax_annotator, j_cosine, cosine_hex)\n",
    "\n",
    "plt.show()\n",
    "fig.savefig(\"spectrum-social-math.pdf\", bbox_inches='tight', pad_inches=0.1, dpi = 300)"
   ]
  },
  {
   "cell_type": "code",
   "execution_count": null,
   "metadata": {
    "collapsed": true
   },
   "outputs": [],
   "source": []
  }
 ],
 "metadata": {
  "kernelspec": {
   "display_name": "Python 3",
   "language": "python",
   "name": "python3"
  },
  "language_info": {
   "codemirror_mode": {
    "name": "ipython",
    "version": 3
   },
   "file_extension": ".py",
   "mimetype": "text/x-python",
   "name": "python",
   "nbconvert_exporter": "python",
   "pygments_lexer": "ipython3",
   "version": "3.6.7"
  }
 },
 "nbformat": 4,
 "nbformat_minor": 1
}
