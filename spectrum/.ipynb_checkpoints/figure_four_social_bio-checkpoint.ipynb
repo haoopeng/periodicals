{
 "cells": [
  {
   "cell_type": "code",
   "execution_count": 1,
   "metadata": {
    "scrolled": true
   },
   "outputs": [
    {
     "name": "stderr",
     "output_type": "stream",
     "text": [
      "Using Theano backend.\n"
     ]
    }
   ],
   "source": [
    "# use gensim==3.0.0\n",
    "from j2v import mag\n",
    "from j2v import w2v\n",
    "\n",
    "import numpy as np\n",
    "import pandas as pd\n",
    "from collections import defaultdict\n",
    "import matplotlib.pyplot as plt\n",
    "from sklearn.metrics.pairwise import cosine_similarity\n",
    "from scipy.spatial.distance import cosine\n",
    "%matplotlib inline"
   ]
  },
  {
   "cell_type": "code",
   "execution_count": 2,
   "metadata": {},
   "outputs": [
    {
     "name": "stdout",
     "output_type": "stream",
     "text": [
      "\n",
      "model shape is: (20835, 100) \n",
      "\n"
     ]
    }
   ],
   "source": [
    "model = w2v.load_j2v(mag.DATA_ROOT + '100feat_50minwords_10context_2016')"
   ]
  },
  {
   "cell_type": "code",
   "execution_count": 3,
   "metadata": {},
   "outputs": [
    {
     "name": "stdout",
     "output_type": "stream",
     "text": [
      "processing /l/nx/data/MicrosoftAcademicGraph/Journals.txt...\n",
      "finished processing!\n",
      "\n",
      "processing /l/nx/data/MicrosoftAcademicGraph/Conferences.txt...\n",
      "finished processing!\n",
      "\n",
      "For journal: Nature\n",
      "The most similar journals or Conferences are:\n",
      "\n",
      "                                                                         Science:\t0.89135\n",
      " Proceedings of the National Academy of Sciences of the United States of America:\t0.87215\n",
      "                             Cold Spring Harbor Symposia on Quantitative Biology:\t0.76463\n",
      "                                                           Nature Communications:\t0.72159\n",
      "                                                                       BioEssays:\t0.70812\n",
      "                                                                 Current Biology:\t0.69989\n",
      "                                                                    PLOS Biology:\t0.69118\n",
      "                                                              Trends in Genetics:\t0.67314\n",
      "                                                                     BMC Biology:\t0.67196\n",
      "                                       Current Opinion in Genetics & Development:\t0.67053\n",
      "\n"
     ]
    }
   ],
   "source": [
    "w2v.most_close_in_vname(model, ['Nature'], by = 'name')"
   ]
  },
  {
   "cell_type": "code",
   "execution_count": 4,
   "metadata": {},
   "outputs": [
    {
     "name": "stdout",
     "output_type": "stream",
     "text": [
      "14113 journals in MAG's Journal.txt were matched to UCSD data, and 29 of them are interdisciplinary journals in UCSD catelog.\n"
     ]
    }
   ],
   "source": [
    "mapping = mag.load_map_jid_discipline('journal_discipline_map.csv')"
   ]
  },
  {
   "cell_type": "code",
   "execution_count": 5,
   "metadata": {},
   "outputs": [],
   "source": [
    "mapping = mapping[mapping['disc_name'] != 'Interdiscipline']\n",
    "mapping.index = range(len(mapping))"
   ]
  },
  {
   "cell_type": "code",
   "execution_count": 12,
   "metadata": {},
   "outputs": [
    {
     "name": "stdout",
     "output_type": "stream",
     "text": [
      "processing /l/nx/data/MicrosoftAcademicGraph/Journals.txt...\n",
      "finished processing!\n",
      "\n",
      "processing /l/nx/data/MicrosoftAcademicGraph/Conferences.txt...\n",
      "finished processing!\n",
      "\n"
     ]
    }
   ],
   "source": [
    "vname_vid = mag.get_venue_dict(key = 'name')\n",
    "vid_vname = {vid: vname for vname, vid in vname_vid.items()}"
   ]
  },
  {
   "cell_type": "code",
   "execution_count": 6,
   "metadata": {},
   "outputs": [],
   "source": [
    "domain = {'biological science': \n",
    "          ['Medical Specialties', 'Health Professionals', 'Biology', 'Biotechnology', 'Infectious Diseases'],\n",
    "          'social science': ['Social Sciences', 'Humanities']}"
   ]
  },
  {
   "cell_type": "code",
   "execution_count": 7,
   "metadata": {},
   "outputs": [],
   "source": [
    "def get_direction(model, mapping, domain):\n",
    "    disc_domain = {}\n",
    "    for d, li in domain.items():\n",
    "        for l in li:\n",
    "            disc_domain[l] = d\n",
    "    vid2index = dict((vid, i) for i, vid in enumerate(model.index2word))\n",
    "    s_ix, n_ix = [], []\n",
    "    for i in range(len(mapping)):\n",
    "        jid,  disc_name = mapping.iloc[i][['jid', 'disc_name']]\n",
    "        if jid in vid2index and disc_name in disc_domain:\n",
    "            ind = vid2index[jid]\n",
    "            if disc_domain[disc_name] != 'social science':\n",
    "                n_ix.append(ind)\n",
    "            else: s_ix.append(ind)\n",
    "    natural_vec = np.mean(model.syn0[n_ix, :].astype('float64'), axis = 0)\n",
    "    social_vec = np.mean(model.syn0[s_ix, :].astype('float64'), axis = 0)\n",
    "    natural_vec = natural_vec / np.linalg.norm(natural_vec)\n",
    "    social_vec = social_vec / np.linalg.norm(social_vec)\n",
    "    social2natural = natural_vec - social_vec\n",
    "    # it doesn't matter normalize the direction or not.\n",
    "    # social2natural = social2natural / np.linalg.norm(social2natural)\n",
    "    return social2natural\n",
    "\n",
    "def cal_cosines(direction, model):\n",
    "    '''get cosine similarity between each j vector and the direction vector.'''\n",
    "    cosines = cosine_similarity(model.syn0, direction.reshape(1,-1)).flatten()\n",
    "    vid_cosines = [(vid, cos) for vid, cos in zip(model.index2word, cosines)]\n",
    "    return vid_cosines"
   ]
  },
  {
   "cell_type": "code",
   "execution_count": 8,
   "metadata": {
    "scrolled": true
   },
   "outputs": [],
   "source": [
    "direction = get_direction(model, mapping, domain)"
   ]
  },
  {
   "cell_type": "code",
   "execution_count": 10,
   "metadata": {},
   "outputs": [],
   "source": [
    "vid_cosines = cal_cosines(direction, model)"
   ]
  },
  {
   "cell_type": "code",
   "execution_count": 13,
   "metadata": {
    "scrolled": true
   },
   "outputs": [
    {
     "name": "stdout",
     "output_type": "stream",
     "text": [
      "Journal of Clinical Investigation 0.6691499160045192\n",
      "European Review for Medical and Pharmacological Sciences 0.6543361060446868\n",
      "Archives of Medical Research 0.6445035590935599\n",
      "International Journal of Medical Sciences 0.6337217425577509\n",
      "International Journal of Clinical and Experimental Medicine 0.6327517183396544\n",
      "International Journal of Experimental Pathology 0.6306714920053094\n",
      "Critical Reviews in Clinical Laboratory Sciences 0.6239487363515153\n",
      "International Journal of Molecular Medicine 0.6231628456272074\n",
      "Mediators of Inflammation 0.6222904361740049\n",
      "Advances in Medical Sciences 0.6151178380531375\n",
      "Medical Science Monitor 0.6099880557563027\n",
      "Current Molecular Medicine 0.5996375709993036\n",
      "Journal of Laboratory and Clinical Medicine 0.5987718028094943\n",
      "Biomarker Insights 0.5971709083296115\n",
      "Pathobiology 0.5959249371505203\n",
      "Biomedicine & Pharmacotherapy 0.5934095279955034\n",
      "Journal of Inflammation 0.5932494735333891\n",
      "Journal of Biological Chemistry 0.5915866122429119\n",
      "Molecular Medicine Reports 0.5904277374183984\n",
      "Experimental and Therapeutic Medicine 0.5879194743128907\n",
      "European Journal of Medical Research 0.5836249160621382\n",
      "Inflammation 0.5819373294579302\n",
      "Frontiers in Bioscience 0.57966781891576\n",
      "Pathologie Biologie 0.5793282535193178\n",
      "European Cytokine Network 0.5790221568539066\n",
      "International Journal of Biological Sciences 0.5771617496238002\n",
      "Molecular Aspects of Medicine 0.5733437919008855\n",
      "Molecular and Cellular Biochemistry 0.5730323844712208\n",
      "Archives of Medical Science 0.5729018574190865\n",
      "Molecular Medicine 0.5713378791939058\n",
      "Biochemical and Biophysical Research Communications 0.5706367166058337\n",
      "Turkish Journal of Medical Sciences 0.567107740318666\n",
      "Biochemical Journal 0.5670517593501877\n",
      "Annals of Clinical and Laboratory Science 0.5631982746898467\n",
      "International Archives of Allergy and Immunology 0.56298348840058\n",
      "Cytokine 0.5628882290839665\n",
      "Journal of Interferon and Cytokine Research 0.5612913064937404\n",
      "Frontiers of Medicine in China 0.5611187132733156\n",
      "Indian Journal of Clinical Biochemistry 0.5601196877459822\n",
      "Asian Pacific Journal of Tropical Medicine 0.5556380815164415\n",
      "Journal of Biomedical Science 0.5521521491305919\n",
      "Molecular Biology Reports 0.5518521582086056\n",
      "in Vivo 0.5518193279890404\n",
      "Disease Markers 0.5509648679576087\n",
      "Clinical Medicine & Research 0.5487683590214367\n",
      "Iranian Journal of Medical Sciences 0.5482713631938578\n",
      "Cell Biochemistry and Function 0.5474235221469279\n",
      "Clinical Science 0.5464551780017293\n",
      "Biomarkers 0.5453526721603751\n",
      "Journal of Clinical Pathology 0.5443816164493676\n",
      "Cell Stress & Chaperones 0.5438506143961258\n",
      "Laboratory Investigation 0.5424962966107985\n",
      "The International Journal of Biochemistry & Cell Biology 0.5423272409441007\n",
      "International Immunopharmacology 0.5420029948099511\n",
      "Immunopharmacology and Immunotoxicology 0.5415287051753965\n",
      "Journal of Immunology 0.5414054807480895\n",
      "Acta Medica Lituanica 0.539731665865965\n",
      "Journal of Biochemistry 0.5395836586025086\n",
      "American Journal of Biomedical Sciences 0.5395664273047199\n",
      "Advances in Experimental Medicine and Biology 0.5395429023371358\n",
      "Investigacion Clinica 0.5391730464037493\n",
      "Journal of Molecular Medicine 0.5384693471323079\n",
      "European Journal of Clinical Investigation 0.5376702741973881\n",
      "Biologics: Targets & Therapy 0.5368283739271981\n",
      "Annals of Medicine 0.5366424799668587\n",
      "Asian Biomedicine 0.5365509937376942\n",
      "Netherlands Journal of Medicine 0.5332328543313076\n",
      "Proceedings of the Association of American Physicians 0.5332013045153166\n",
      "Annual Review of Pathology-mechanisms of Disease 0.532387732295595\n",
      "Lipids in Health and Disease 0.5320826201419215\n",
      "American Journal of Immunology 0.5307621119859742\n",
      "Archivum Immunologiae Et Therapiae Experimentalis 0.5298992948690946\n",
      "Clinical and Investigative Medicine 0.5279210158507905\n",
      "American Journal of Translational Research 0.527661147057077\n",
      "Journal of Nanjing Medical University 0.525928620304073\n",
      "Clinical and Experimental Immunology 0.5253554441450058\n",
      "Biochemistry and Cell Biology 0.5243964084058037\n",
      "Biomedical and Environmental Sciences 0.5243512081971023\n",
      "Experimental Biology and Medicine 0.5242199647549693\n",
      "Critical Reviews in Immunology 0.5238473921260143\n",
      "Alternative Medicine Review 0.5236488303872108\n",
      "Advances in Clinical Chemistry 0.523571442337583\n",
      "Annual Review of Medicine 0.523290789849251\n",
      "Molecular Diagnosis & Therapy 0.5231551260471816\n",
      "Clinical Biochemistry 0.5225950044917586\n",
      "Immunology 0.5217753667432895\n",
      "American Journal of Pathology 0.521629808891261\n",
      "Acta Haematologica 0.5215498780276002\n",
      "International Journal of Immunopathology and Pharmacology 0.5212102439926971\n",
      "Journal of Clinical Pathology-molecular Pathology 0.5209086381124278\n",
      "Current Opinion in Internal Medicine 0.5206982224889201\n",
      "Biofactors 0.5203636544811104\n",
      "Expert Reviews in Molecular Medicine 0.5201204218296022\n",
      "Journal of Biomedical Research 0.5200615046723374\n",
      "Advances in Bioscience and Biotechnology 0.5198236617556931\n",
      "Indian Journal of Medical Research 0.5176531491725538\n",
      "Journal of Bangladesh Society of Physiologist 0.5167391556287643\n",
      "Journal of Medicinal Food 0.5156738011355282\n",
      "DNA and Cell Biology 0.5149411617759555\n",
      "Journal of Lipid Research 0.5148107237408532\n"
     ]
    }
   ],
   "source": [
    "for vid, cos in sorted(vid_cosines, key=lambda x: x[1], reverse=True)[:100]:\n",
    "    print(vid_vname[vid], cos)"
   ]
  },
  {
   "cell_type": "code",
   "execution_count": 14,
   "metadata": {
    "scrolled": true
   },
   "outputs": [
    {
     "name": "stdout",
     "output_type": "stream",
     "text": [
      "European Journal of Economic and Social Systems -0.6487250971138216\n",
      "Journal Des Economistes Et Des Etudes Humaines -0.647218357673757\n",
      "Interdisciplinary Description of Complex Systems -0.6462309892043767\n",
      "Journal of Balkan and Near Eastern Studies -0.6398248958747914\n",
      "Democracy and Security -0.6335023397484602\n",
      "Nispacee Journal of Public Administration and Policy -0.6281184420379982\n",
      "Theory in Action -0.6265455650486016\n",
      "Gestion Y Politica Publica -0.6257942319202088\n",
      "International Journal of Politics, Culture and Society -0.6216388523653809\n",
      "Dissent -0.619688315590676\n",
      "Journal of Social, Political, and Economic Studies -0.6186223925477647\n",
      "Organisational Transformation and Social Change -0.6157544405550848\n",
      "Middle East Quarterly -0.614484063310939\n",
      "Global Business and Economics Review -0.6141087784452479\n",
      "The Open Political Science Journal -0.6134886625996901\n",
      "Israel Studies Forum -0.6127202471322581\n",
      "International Journal of Innovation and Regional Development -0.6117293009399107\n",
      "European Journal of Law Reform -0.6110577270873611\n",
      "International Journal of Electronic Governance -0.6109458283062367\n",
      "Journal of Critical Realism -0.6100162558160365\n",
      "International Conference on E-Business and E-Government -0.6095803657212222\n",
      "Brazilian Political Science Review (online) -0.6082509749772632\n",
      "Polish Sociological Review -0.6078872309329787\n",
      "Asia-pacific Social Science Review -0.6076297733926781\n",
      "Archives Europeennes De Sociologie -0.6073798719589573\n",
      "New Criminal Law Review -0.606953741284745\n",
      "Journal of Business Ethics Education -0.6065382590691624\n",
      "University of Pennsylvania Journal of Constitutional Law -0.6056789895392879\n",
      "Revista De Derecho (valdivia) -0.6053613049642965\n",
      "Journal of Power -0.604729879164047\n",
      "The George Washington International Law Review -0.6044384294951377\n",
      "Journal of Engineering Studies -0.6043508185375975\n",
      "Capitalism and Society -0.6034545092803896\n",
      "European Business Law Review -0.602650617303977\n",
      "Hague Journal on The Rule of Law -0.6021673857881923\n",
      "Michigan Telecommunications and Technology Law Review -0.6021461030864899\n",
      "New Labor Forum -0.6006512460635102\n",
      "Terrorism and Political Violence -0.6001159566676484\n",
      "Supreme Court Review -0.6000212853175801\n",
      "Politica Y Gobierno -0.5988411192924774\n",
      "American Foreign Policy Interests -0.598326033101688\n",
      "Asian Journal of Comparative Law -0.5979307126048674\n",
      "Russian Politics and Law -0.5978425122445461\n",
      "Cultura -0.5973502268536509\n",
      "Trends in Communication -0.5964378257695815\n",
      "Political Insight -0.5951215489803146\n",
      "Hungarian Studies -0.5947639559647369\n",
      "Rationality and Society -0.5941010195234961\n",
      "Russian Social Science Review -0.5936626303445824\n",
      "Journal of East Asian Studies -0.5934960659255575\n",
      "Inquiry: An Interdisciplinary Journal of Philosophy -0.5932620240747406\n",
      "Drustvena Istrazivanja -0.593146488366572\n",
      "American Politics Quarterly -0.592738862191775\n",
      "Perfiles Latinoamericanos -0.5925625399736889\n",
      "Business and Politics -0.5925149184193018\n",
      "World Affairs -0.5924845769014568\n",
      "India Quarterly: A Journal of International Affairs -0.5923989573728617\n",
      "International Journal of Management Concepts and Philosophy -0.5921986298908141\n",
      "The Hague Journal of Diplomacy -0.5917198721345442\n",
      "Periodica Polytechnica Social and Management Sciences -0.5917080670709458\n",
      "Soziologische Revue -0.59122702864649\n",
      "Social Sciences in China -0.5904701510818803\n",
      "Ethics & Global Politics -0.590187512912631\n",
      "Journal of Political Ideologies -0.5899182326473515\n",
      "PRism -0.5898908845434626\n",
      "Communal\\/plural: Journal of Transnational & Cross-cultural Studies -0.589680537463456\n",
      "Human Affairs -0.5893092382701535\n",
      "Journal of World-Systems Research -0.5892931210375207\n",
      "Texas International Law Journal -0.5890459219754027\n",
      "Eastern European Countryside -0.5888281514383487\n",
      "Fordham Intellectual Property, Media & Entertainment Law Journal -0.5887151188594077\n",
      "Synthesis Philosophica -0.5886080882638012\n",
      "Studia Socjologiczne -0.5880764893091106\n",
      "Sociologija -0.5875864389843127\n",
      "International Journal of Discrimination and the Law -0.5872301010545716\n",
      "Theoretical Inquiries in Law -0.5872288123859682\n",
      "India Review -0.5869994898374783\n",
      "World Review of Entrepreneurship, Management and Sustainable Development -0.5861235600435464\n",
      "South Asian Survey -0.5861189842445921\n",
      "Philippine Political Science Journal -0.585908201218521\n",
      "Jahrbucher Fur Nationalokonomie Und Statistik -0.5856125307076792\n",
      "Academic Questions -0.585537637240884\n",
      "Case Western Reserve Journal of International Law -0.5853749717048202\n",
      "Perspectives on Political Science -0.5851979679510928\n",
      "North Korean Review -0.5848749892181042\n",
      "International Review of Sociology -0.5847570690848818\n",
      "Homo Oeconomicus -0.5845379230659788\n",
      "Revista De Economia Mundial -0.584281779801804\n",
      "Mind & Society -0.5841924029322827\n",
      "Cultural Values -0.5838600836648966\n",
      "Sociological Research -0.5837233727485014\n",
      "Socialist Studies -0.5836169061425351\n",
      "Legal Issues of Economic Integration -0.5834767999449908\n",
      "Georgetown Journal of International Law -0.5834576224090448\n",
      "Itnow -0.583455847330722\n",
      "Baltic Journal of Law & Politics -0.5833666060152345\n",
      "Interactions: Studies in Communication & Culture -0.5829088985003941\n",
      "Revista De Estudios Politicos -0.5826925581354431\n",
      "European Constitutional Law Review -0.5824411155539047\n",
      "Business Research -0.5823961403554856\n"
     ]
    }
   ],
   "source": [
    "for vid, cos in sorted(vid_cosines, key=lambda x: x[1], reverse=False)[:100]:\n",
    "    print(vid_vname[vid], cos)"
   ]
  },
  {
   "cell_type": "code",
   "execution_count": 15,
   "metadata": {},
   "outputs": [],
   "source": [
    "def get_conference_abbr():\n",
    "    '''return a mapping dictionary from conf name to abbreviation'''\n",
    "    cname2abbr = {}\n",
    "    li = set()\n",
    "    for row in mag.yield_one_line(mag.MAG_Conferences_FILE):\n",
    "        cid, abbr, cname = row\n",
    "        if cname in li:\n",
    "            try:\n",
    "                del cname2abbr[cname]\n",
    "                continue\n",
    "            except: continue\n",
    "        li.add(cname)\n",
    "        cname2abbr[cname] = abbr\n",
    "    return cname2abbr"
   ]
  },
  {
   "cell_type": "code",
   "execution_count": 16,
   "metadata": {},
   "outputs": [],
   "source": [
    "def journal_spectrum(vname_vid, model, direction):\n",
    "    dic = {}\n",
    "    for name in vname_vid:\n",
    "        try:\n",
    "            dic[name] = 1 - cosine(direction, model[vname_vid[name]])\n",
    "        except: continue\n",
    "    return dic"
   ]
  },
  {
   "cell_type": "code",
   "execution_count": 65,
   "metadata": {},
   "outputs": [],
   "source": [
    "def text_annotate(ax, j_c):\n",
    "    jnames = ['Science', 'JAMA', 'Cell', 'Psychological Bulletin', 'Chemical Reviews', 'Knowledge Discovery and Data Mining', \\\n",
    "          'Cancer', 'Proceedings of the National Academy of Sciences of the United States of America', \\\n",
    "          'International Conference on Weblogs and Social Media', 'Quarterly Journal of Economics', 'Nature', 'Annual Review of Sociology',\\\n",
    "            'Physical Review Letters', 'PLOS ONE', 'International World Wide Web Conferences', 'Meeting of the Association for Computational Linguistics', \\\n",
    "         'Empirical Methods in Natural Language Processing']\n",
    "    cname2abbr = get_conference_abbr()\n",
    "    print('spectrum value:\\n')\n",
    "    for jname, cos in j_c.items():\n",
    "        if jname not in jnames:\n",
    "            continue\n",
    "        yy = (0.1 if cos > 0 else -0.1)\n",
    "        if jname in cname2abbr:\n",
    "            jname = cname2abbr[jname]\n",
    "        if jname == 'Proceedings of the National Academy of Sciences of the United States of America':\n",
    "            jname = 'PNAS'\n",
    "            height = 0.5\n",
    "        if jname == 'Quarterly Journal of Economics':\n",
    "            yy = 0.1\n",
    "            height = 0.3\n",
    "            jname = 'QJE'\n",
    "        if jname == 'Physical Review Letters':\n",
    "            yy = 0.1\n",
    "            height = 0.7\n",
    "            jname = 'PRL'\n",
    "        if jname == 'PLOS ONE':\n",
    "            yy = 0.1\n",
    "            height = 0.7\n",
    "        if jname == 'JAMA':\n",
    "            yy = -0.1\n",
    "            height = -0.8\n",
    "        if jname == 'EMNLP':\n",
    "            yy = -0.1\n",
    "            height = -0.5\n",
    "        if jname == 'Psychological Bulletin':\n",
    "            yy = 0.1\n",
    "            height = 0.9\n",
    "        if jname == 'ACL':\n",
    "            yy = 0.1\n",
    "            height = 0.3\n",
    "        if jname == 'WWW':\n",
    "            yy = 0.1\n",
    "            height = 0.5\n",
    "        if jname == 'Nature':\n",
    "            yy = 0.1\n",
    "            height = 0.9\n",
    "        if jname == \"Science\":\n",
    "            height = 0.3\n",
    "        if jname == 'Cell':\n",
    "            yy = -0.1\n",
    "            height = -0.5\n",
    "        if jname == 'Cancer':\n",
    "            yy = -0.1\n",
    "            height = -0.5\n",
    "        if jname == 'KDD':\n",
    "            yy = 0.1\n",
    "            height = 0.5\n",
    "        if jname == 'ICWSM':\n",
    "            yy = 0.1\n",
    "            height = 0.7\n",
    "        if jname == 'Annual Review of Sociology':\n",
    "            height = -0.8\n",
    "        if jname == 'Chemical Reviews':\n",
    "            yy = 0.1\n",
    "            height = 0.9\n",
    "        print('{:>80}:\\t{:6.5f}'.format(jname, cos))\n",
    "        if cos < 0:\n",
    "            c = \"y\"\n",
    "        else:\n",
    "            c = \"g\"\n",
    "        bbox_props = dict(boxstyle=\"round\", fc=c, ec=\"1\", alpha = abs(cos))\n",
    "        if jname in [\"QJE\", \"WWW\", \"Psychological Bulletin\", \"ACL\", \"KDD\", \"PRL\", \"PNAS\", \"Science\", \"Cancer\", \"Nature\"]:\n",
    "            arrow_props = dict(arrowstyle=\"-|>\", connectionstyle=\"angle,angleA=0,angleB=-90,rad=10\", fc=\"w\")\n",
    "            label_xpos = cos + 0.05\n",
    "            haligh = \"left\"\n",
    "            if jname in [\"QJE\", \"WWW\", \"Psychological Bulletin\", \"Cancer\"]:\n",
    "                label_xpos = cos - 0.05\n",
    "                haligh = \"right\"\n",
    "            ax.annotate(jname, xy=(cos, yy), xycoords = 'data', xytext=(label_xpos, height), textcoords = 'data', ha=haligh, va=\"center\",\\\n",
    "                    size=12, bbox = bbox_props, arrowprops = arrow_props)\n",
    "        else:\n",
    "            arrow_props = dict(arrowstyle=\"-|>\", connectionstyle=\"arc3,rad=0.\", fc=\"w\")\n",
    "            ax.annotate(jname, xy=(cos, yy), xycoords = 'data', xytext=(cos, height), textcoords = 'data', ha='center', va=\"center\",\\\n",
    "                        size=12, bbox = bbox_props, arrowprops = arrow_props)"
   ]
  },
  {
   "cell_type": "code",
   "execution_count": 18,
   "metadata": {},
   "outputs": [],
   "source": [
    "j_cosine = journal_spectrum(vname_vid, model, direction)\n",
    "jname2color = mapping[['jname', 'color']].set_index('jname').to_dict(orient='dict')['color']"
   ]
  },
  {
   "cell_type": "code",
   "execution_count": 23,
   "metadata": {},
   "outputs": [
    {
     "data": {
      "text/plain": [
       "-0.6487251079883616"
      ]
     },
     "execution_count": 23,
     "metadata": {},
     "output_type": "execute_result"
    }
   ],
   "source": [
    "min(j_cosine.values())"
   ]
  },
  {
   "cell_type": "code",
   "execution_count": 22,
   "metadata": {},
   "outputs": [
    {
     "data": {
      "text/plain": [
       "0.6691498495230351"
      ]
     },
     "execution_count": 22,
     "metadata": {},
     "output_type": "execute_result"
    }
   ],
   "source": [
    "max(j_cosine.values())"
   ]
  },
  {
   "cell_type": "code",
   "execution_count": 21,
   "metadata": {},
   "outputs": [],
   "source": [
    "xmax = 0.67\n",
    "xmin = -0.65"
   ]
  },
  {
   "cell_type": "code",
   "execution_count": 67,
   "metadata": {},
   "outputs": [],
   "source": [
    "def plot_box(ax):\n",
    "    ax.plot((xmin, xmax), (0.1, 0.1), color = 'k')\n",
    "    ax.plot((xmin, xmin), (-0.1, 0.1), color = 'k')\n",
    "    ax.plot((xmax, xmax), (-0.1, 0.1), color = 'k')\n",
    "    ax.plot((xmin, xmax), (-0.1, -0.1), color = 'k')\n",
    "    \n",
    "def plot_annotator(ax, j_cosine, cosine_hex):\n",
    "    ax.set_xlim(xmin-0.01, xmax+0.01)\n",
    "    ax.set_ylim(-1.2, 1)\n",
    "    ax.spines['right'].set_visible(False)\n",
    "    ax.spines['left'].set_visible(False)\n",
    "    ax.spines['top'].set_visible(False)\n",
    "    ax.spines['bottom'].set_position('center')\n",
    "    ax.yaxis.set_visible(False)\n",
    "    ax.xaxis.set_ticks_position('bottom')\n",
    "    for cos, hex_c in cosine_hex.items():\n",
    "        ax.plot((cos, cos), (-0.1, 0.1), color = hex_c, linewidth = 0.01)\n",
    "    plot_box(ax)\n",
    "    # mean_D = np.mean(list(j_cosine.values()))\n",
    "    # ax.plot([mean_D, mean_D], [-3.60, 0.1], clip_on = False, ls = '--', color = 'k', linewidth = 1)\n",
    "    ax.text(xmax+0.025, 0, 'Biological', ha = 'left', va = 'center', fontsize = 15)\n",
    "    ax.text(xmin-0.025, 0, 'Social', ha = 'right', va = 'center', fontsize = 15)\n",
    "    ax.arrow(xmax, -0.1, 0.26, 0, width=0.0035, color=\"k\", clip_on=False, head_width=0.05, head_length=0.08)\n",
    "    ax.arrow(xmin, -0.1, -0.18, 0, width=0.0035, color=\"k\", clip_on=False, head_width=0.05, head_length=0.08)\n",
    "    text_annotate(ax, j_cosine)"
   ]
  },
  {
   "cell_type": "code",
   "execution_count": 68,
   "metadata": {},
   "outputs": [
    {
     "name": "stdout",
     "output_type": "stream",
     "text": [
      "processing /l/nx/data/MicrosoftAcademicGraph/Conferences.txt...\n",
      "finished processing!\n",
      "\n",
      "spectrum value:\n",
      "\n",
      "                                                          Psychological Bulletin:\t-0.21806\n",
      "                                                                          Nature:\t0.30476\n",
      "                                                                Chemical Reviews:\t0.01775\n",
      "                                                                             QJE:\t-0.38642\n",
      "                                                      Annual Review of Sociology:\t-0.48815\n",
      "                                                                        PLOS ONE:\t0.19099\n",
      "                                                                            Cell:\t0.34501\n",
      "                                                                         Science:\t0.38987\n",
      "                                                                          Cancer:\t0.26654\n",
      "                                                                            PNAS:\t0.33457\n",
      "                                                                            JAMA:\t0.28926\n",
      "                                                                             PRL:\t-0.18544\n",
      "                                                                             WWW:\t-0.37110\n",
      "                                                                             KDD:\t-0.17181\n",
      "                                                                           ICWSM:\t-0.36132\n",
      "                                                                           EMNLP:\t-0.27696\n",
      "                                                                             ACL:\t-0.16439\n"
     ]
    },
    {
     "data": {
      "image/png": "[encoded data removed]",
      "text/plain": [
       "<Figure size 648x792 with 14 Axes>"
      ]
     },
     "metadata": {},
     "output_type": "display_data"
    }
   ],
   "source": [
    "fig = plt.figure(figsize=(9, 11))\n",
    "fig.subplots_adjust(left = 0.08, bottom = 0.05, right = 0.8)\n",
    "\n",
    "# order discipline by mean cosine value\n",
    "hex_cosine = defaultdict(list)\n",
    "cosine_hex = dict()\n",
    "for name in j_cosine.keys():\n",
    "    try:\n",
    "        col = jname2color[name]\n",
    "        hex_c = w2v.color2hex[col]\n",
    "        cosine_hex[j_cosine[name]] = hex_c\n",
    "        hex_cosine[hex_c].append(j_cosine[name])\n",
    "    except: continue\n",
    "hex_cosine = list(sorted(hex_cosine.items(), key = lambda x: np.mean(x[1])))\n",
    "\n",
    "annotator_rows = 12\n",
    "\n",
    "# create axes for second part\n",
    "axes = []\n",
    "for i in range(13):\n",
    "    axes.append(plt.subplot2grid((25,1), (annotator_rows + i, 0), rowspan=1, colspan=1))\n",
    "\n",
    "# plot second part\n",
    "w2v.color2dis['Lavender'] = 'EE & CS'\n",
    "w2v.color2dis['SkyBlue'] = 'Engineering'\n",
    "for i in range(len(hex_cosine)):\n",
    "    hex_c, cosine_list = hex_cosine[i]\n",
    "    axes[i].set_xlim(xmin-0.01, xmax+0.01)\n",
    "    # if set to (-0.1, 0.1), then the bottom border line will be thinner as it overlap with axis even if we hide axis.\n",
    "    axes[i].set_ylim(-0.11, 0.11)\n",
    "    for cos in cosine_list:\n",
    "        axes[i].plot((cos, cos), (-0.1, 0.1), color = hex_c, linewidth = 0.5)\n",
    "    axes[i].plot((np.mean(cosine_list), np.mean(cosine_list)), (-0.1, 0.1), color = 'k', linewidth = 2)\n",
    "    plot_box(axes[i])\n",
    "    axes[i].spines['right'].set_visible(False)\n",
    "    axes[i].spines['left'].set_visible(False)\n",
    "    axes[i].spines['top'].set_visible(False)\n",
    "    axes[i].spines['bottom'].set_visible(False)\n",
    "    axes[i].yaxis.set_ticks([])\n",
    "    if i != 12:\n",
    "        axes[i].xaxis.set_ticks([])\n",
    "    else: axes[i].xaxis.set_ticks_position('bottom')\n",
    "    axes[i].text(xmax+0.02, -0.04, w2v.color2dis[w2v.hex2color[hex_c]], fontsize = 15)\n",
    "\n",
    "# plot first part\n",
    "ax_annotator = plt.subplot2grid((25,1), (0,0), rowspan=annotator_rows, colspan=1)\n",
    "plot_annotator(ax_annotator, j_cosine, cosine_hex)\n",
    "\n",
    "plt.show()\n",
    "fig.savefig(\"spectrum-social-bio.pdf\", bbox_inches='tight', pad_inches=0.1, dpi = 300)"
   ]
  },
  {
   "cell_type": "code",
   "execution_count": null,
   "metadata": {
    "collapsed": true
   },
   "outputs": [],
   "source": []
  }
 ],
 "metadata": {
  "kernelspec": {
   "display_name": "Python 3",
   "language": "python",
   "name": "python3"
  },
  "language_info": {
   "codemirror_mode": {
    "name": "ipython",
    "version": 3
   },
   "file_extension": ".py",
   "mimetype": "text/x-python",
   "name": "python",
   "nbconvert_exporter": "python",
   "pygments_lexer": "ipython3",
   "version": "3.6.7"
  }
 },
 "nbformat": 4,
 "nbformat_minor": 1
}
