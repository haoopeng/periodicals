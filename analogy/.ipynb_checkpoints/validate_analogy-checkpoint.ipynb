{
 "cells": [
  {
   "cell_type": "code",
   "execution_count": 1,
   "metadata": {},
   "outputs": [
    {
     "name": "stderr",
     "output_type": "stream",
     "text": [
      "Using Theano backend.\n"
     ]
    }
   ],
   "source": [
    "import h5py\n",
    "import pickle\n",
    "import matplotlib\n",
    "import numpy as np\n",
    "import pandas as pd\n",
    "import networkx as nx\n",
    "import seaborn as sns\n",
    "from pprint import pprint\n",
    "import matplotlib as mpl\n",
    "import matplotlib.pyplot as plt\n",
    "from j2v import mag, w2v, predict\n",
    "from itertools import combinations\n",
    "from collections import defaultdict\n",
    "from scipy.stats import ttest_ind\n",
    "from scipy.spatial.distance import cosine\n",
    "from sklearn.metrics.pairwise import cosine_similarity\n",
    "%matplotlib inline"
   ]
  },
  {
   "cell_type": "code",
   "execution_count": 3,
   "metadata": {},
   "outputs": [
    {
     "name": "stdout",
     "output_type": "stream",
     "text": [
      "\n",
      "model shape is: (20835, 100) \n",
      "\n"
     ]
    }
   ],
   "source": [
    "# j2v model\n",
    "model = w2v.load_j2v(mag.DATA_ROOT + '100feat_50minwords_10context_2016')\n",
    "\n",
    "# venue id -> model index. \n",
    "vid2index = dict((vid, i) for i, vid in enumerate(model.index2word))"
   ]
  },
  {
   "cell_type": "code",
   "execution_count": 4,
   "metadata": {},
   "outputs": [],
   "source": [
    "p_col = '#FA8072'\n",
    "n_col = '#1a8fcf'"
   ]
  },
  {
   "cell_type": "code",
   "execution_count": 5,
   "metadata": {
    "scrolled": false
   },
   "outputs": [
    {
     "name": "stdout",
     "output_type": "stream",
     "text": [
      "14113 journals in MAG's Journal.txt were matched to UCSD data, and 29 of them are interdisciplinary journals in UCSD catelog.\n",
      "processing /l/nx/data/haopeng/j2v/Journals.txt...\n",
      "finished processing!\n",
      "\n",
      "processing /l/nx/data/haopeng/j2v/Conferences.txt...\n",
      "finished processing!\n",
      "\n"
     ]
    }
   ],
   "source": [
    "mapping = mag.load_map_jid_discipline('journal_discipline_map.csv')\n",
    "vid2name = mag.get_venue_dict(key='id')\n",
    "vname2vid = {name: vid for vid, name in vid2name.items()}"
   ]
  },
  {
   "cell_type": "markdown",
   "metadata": {},
   "source": [
    "## Venues' authors"
   ]
  },
  {
   "cell_type": "code",
   "execution_count": 8,
   "metadata": {
    "scrolled": true
   },
   "outputs": [
    {
     "name": "stdout",
     "output_type": "stream",
     "text": [
      "processing /l/nx/data/haopeng/j2v/Papers_J_C.csv...\n",
      "processed 1000000 lines...\n",
      "processed 2000000 lines...\n",
      "processed 3000000 lines...\n",
      "processed 4000000 lines...\n",
      "processed 5000000 lines...\n",
      "processed 6000000 lines...\n",
      "processed 7000000 lines...\n",
      "processed 8000000 lines...\n",
      "processed 9000000 lines...\n",
      "processed 10000000 lines...\n",
      "processed 11000000 lines...\n",
      "processed 12000000 lines...\n",
      "processed 13000000 lines...\n",
      "processed 14000000 lines...\n",
      "processed 15000000 lines...\n",
      "processed 16000000 lines...\n",
      "processed 17000000 lines...\n",
      "processed 18000000 lines...\n",
      "processed 19000000 lines...\n",
      "processed 20000000 lines...\n",
      "processed 21000000 lines...\n",
      "processed 22000000 lines...\n",
      "processed 23000000 lines...\n",
      "processed 24000000 lines...\n",
      "processed 25000000 lines...\n",
      "processed 26000000 lines...\n",
      "processed 27000000 lines...\n",
      "processed 28000000 lines...\n",
      "processed 29000000 lines...\n",
      "processed 30000000 lines...\n",
      "processed 31000000 lines...\n",
      "processed 32000000 lines...\n",
      "processed 33000000 lines...\n",
      "processed 34000000 lines...\n",
      "processed 35000000 lines...\n",
      "processed 36000000 lines...\n",
      "processed 37000000 lines...\n",
      "processed 38000000 lines...\n",
      "processed 39000000 lines...\n",
      "processed 40000000 lines...\n",
      "processed 41000000 lines...\n",
      "processed 42000000 lines...\n",
      "processed 43000000 lines...\n",
      "processed 44000000 lines...\n",
      "processed 45000000 lines...\n",
      "processed 46000000 lines...\n",
      "processed 47000000 lines...\n",
      "processed 48000000 lines...\n",
      "processed 49000000 lines...\n",
      "processed 50000000 lines...\n",
      "processed 51000000 lines...\n",
      "processed 52000000 lines...\n",
      "processed 53000000 lines...\n",
      "finished processing!\n",
      "\n"
     ]
    }
   ],
   "source": [
    "vid_pids = defaultdict(list)\n",
    "\n",
    "for row in mag.yield_one_line('Papers_J_C.csv', ','):\n",
    "    pid, year, jid, cid = row\n",
    "    vid = jid if jid != '' else cid\n",
    "    if vid in vid2index:\n",
    "        vid_pids[vid].append(pid)"
   ]
  },
  {
   "cell_type": "code",
   "execution_count": 9,
   "metadata": {},
   "outputs": [
    {
     "data": {
      "text/plain": [
       "20835"
      ]
     },
     "execution_count": 9,
     "metadata": {},
     "output_type": "execute_result"
    }
   ],
   "source": [
    "len(vid_pids)"
   ]
  },
  {
   "cell_type": "code",
   "execution_count": 10,
   "metadata": {},
   "outputs": [],
   "source": [
    "cand_pids = set()\n",
    "for vid in vid_pids:\n",
    "    for pid in vid_pids[vid]:\n",
    "        cand_pids.add(pid)"
   ]
  },
  {
   "cell_type": "code",
   "execution_count": 11,
   "metadata": {},
   "outputs": [
    {
     "data": {
      "text/plain": [
       "52930265"
      ]
     },
     "execution_count": 11,
     "metadata": {},
     "output_type": "execute_result"
    }
   ],
   "source": [
    "len(cand_pids)"
   ]
  },
  {
   "cell_type": "code",
   "execution_count": 12,
   "metadata": {},
   "outputs": [
    {
     "name": "stdout",
     "output_type": "stream",
     "text": [
      "processing /l/nx/data/haopeng/j2v/PaperAuthorAffiliations.txt...\n",
      "processed 1000000 lines...\n",
      "processed 2000000 lines...\n",
      "processed 3000000 lines...\n",
      "processed 4000000 lines...\n",
      "processed 5000000 lines...\n",
      "processed 6000000 lines...\n",
      "processed 7000000 lines...\n",
      "processed 8000000 lines...\n",
      "processed 9000000 lines...\n",
      "processed 10000000 lines...\n",
      "processed 11000000 lines...\n",
      "processed 12000000 lines...\n",
      "processed 13000000 lines...\n",
      "processed 14000000 lines...\n",
      "processed 15000000 lines...\n",
      "processed 16000000 lines...\n",
      "processed 17000000 lines...\n",
      "processed 18000000 lines...\n",
      "processed 19000000 lines...\n",
      "processed 20000000 lines...\n",
      "processed 21000000 lines...\n",
      "processed 22000000 lines...\n",
      "processed 23000000 lines...\n",
      "processed 24000000 lines...\n",
      "processed 25000000 lines...\n",
      "processed 26000000 lines...\n",
      "processed 27000000 lines...\n",
      "processed 28000000 lines...\n",
      "processed 29000000 lines...\n",
      "processed 30000000 lines...\n",
      "processed 31000000 lines...\n",
      "processed 32000000 lines...\n",
      "processed 33000000 lines...\n",
      "processed 34000000 lines...\n",
      "processed 35000000 lines...\n",
      "processed 36000000 lines...\n",
      "processed 37000000 lines...\n",
      "processed 38000000 lines...\n",
      "processed 39000000 lines...\n",
      "processed 40000000 lines...\n",
      "processed 41000000 lines...\n",
      "processed 42000000 lines...\n",
      "processed 43000000 lines...\n",
      "processed 44000000 lines...\n",
      "processed 45000000 lines...\n",
      "processed 46000000 lines...\n",
      "processed 47000000 lines...\n",
      "processed 48000000 lines...\n",
      "processed 49000000 lines...\n",
      "processed 50000000 lines...\n",
      "processed 51000000 lines...\n",
      "processed 52000000 lines...\n",
      "processed 53000000 lines...\n",
      "processed 54000000 lines...\n",
      "processed 55000000 lines...\n",
      "processed 56000000 lines...\n",
      "processed 57000000 lines...\n",
      "processed 58000000 lines...\n",
      "processed 59000000 lines...\n",
      "processed 60000000 lines...\n",
      "processed 61000000 lines...\n",
      "processed 62000000 lines...\n",
      "processed 63000000 lines...\n",
      "processed 64000000 lines...\n",
      "processed 65000000 lines...\n",
      "processed 66000000 lines...\n",
      "processed 67000000 lines...\n",
      "processed 68000000 lines...\n",
      "processed 69000000 lines...\n",
      "processed 70000000 lines...\n",
      "processed 71000000 lines...\n",
      "processed 72000000 lines...\n",
      "processed 73000000 lines...\n",
      "processed 74000000 lines...\n",
      "processed 75000000 lines...\n",
      "processed 76000000 lines...\n",
      "processed 77000000 lines...\n",
      "processed 78000000 lines...\n",
      "processed 79000000 lines...\n",
      "processed 80000000 lines...\n",
      "processed 81000000 lines...\n",
      "processed 82000000 lines...\n",
      "processed 83000000 lines...\n",
      "processed 84000000 lines...\n",
      "processed 85000000 lines...\n",
      "processed 86000000 lines...\n",
      "processed 87000000 lines...\n",
      "processed 88000000 lines...\n",
      "processed 89000000 lines...\n",
      "processed 90000000 lines...\n",
      "processed 91000000 lines...\n",
      "processed 92000000 lines...\n",
      "processed 93000000 lines...\n",
      "processed 94000000 lines...\n",
      "processed 95000000 lines...\n",
      "processed 96000000 lines...\n",
      "processed 97000000 lines...\n",
      "processed 98000000 lines...\n",
      "processed 99000000 lines...\n",
      "processed 100000000 lines...\n",
      "processed 101000000 lines...\n",
      "processed 102000000 lines...\n",
      "processed 103000000 lines...\n",
      "processed 104000000 lines...\n",
      "processed 105000000 lines...\n",
      "processed 106000000 lines...\n",
      "processed 107000000 lines...\n",
      "processed 108000000 lines...\n",
      "processed 109000000 lines...\n",
      "processed 110000000 lines...\n",
      "processed 111000000 lines...\n",
      "processed 112000000 lines...\n",
      "processed 113000000 lines...\n",
      "processed 114000000 lines...\n",
      "processed 115000000 lines...\n",
      "processed 116000000 lines...\n",
      "processed 117000000 lines...\n",
      "processed 118000000 lines...\n",
      "processed 119000000 lines...\n",
      "processed 120000000 lines...\n",
      "processed 121000000 lines...\n",
      "processed 122000000 lines...\n",
      "processed 123000000 lines...\n",
      "processed 124000000 lines...\n",
      "processed 125000000 lines...\n",
      "processed 126000000 lines...\n",
      "processed 127000000 lines...\n",
      "processed 128000000 lines...\n",
      "processed 129000000 lines...\n",
      "processed 130000000 lines...\n",
      "processed 131000000 lines...\n",
      "processed 132000000 lines...\n",
      "processed 133000000 lines...\n",
      "processed 134000000 lines...\n",
      "processed 135000000 lines...\n",
      "processed 136000000 lines...\n",
      "processed 137000000 lines...\n",
      "processed 138000000 lines...\n",
      "processed 139000000 lines...\n",
      "processed 140000000 lines...\n",
      "processed 141000000 lines...\n",
      "processed 142000000 lines...\n",
      "processed 143000000 lines...\n",
      "processed 144000000 lines...\n",
      "processed 145000000 lines...\n",
      "processed 146000000 lines...\n",
      "processed 147000000 lines...\n",
      "processed 148000000 lines...\n",
      "processed 149000000 lines...\n",
      "processed 150000000 lines...\n",
      "processed 151000000 lines...\n",
      "processed 152000000 lines...\n",
      "processed 153000000 lines...\n",
      "processed 154000000 lines...\n",
      "processed 155000000 lines...\n",
      "processed 156000000 lines...\n",
      "processed 157000000 lines...\n",
      "processed 158000000 lines...\n",
      "processed 159000000 lines...\n",
      "processed 160000000 lines...\n",
      "processed 161000000 lines...\n",
      "processed 162000000 lines...\n",
      "processed 163000000 lines...\n",
      "processed 164000000 lines...\n",
      "processed 165000000 lines...\n",
      "processed 166000000 lines...\n",
      "processed 167000000 lines...\n",
      "processed 168000000 lines...\n",
      "processed 169000000 lines...\n",
      "processed 170000000 lines...\n",
      "processed 171000000 lines...\n",
      "processed 172000000 lines...\n",
      "processed 173000000 lines...\n",
      "processed 174000000 lines...\n",
      "processed 175000000 lines...\n",
      "processed 176000000 lines...\n",
      "processed 177000000 lines...\n",
      "processed 178000000 lines...\n",
      "processed 179000000 lines...\n",
      "processed 180000000 lines...\n",
      "processed 181000000 lines...\n",
      "processed 182000000 lines...\n",
      "processed 183000000 lines...\n",
      "processed 184000000 lines...\n",
      "processed 185000000 lines...\n",
      "processed 186000000 lines...\n",
      "processed 187000000 lines...\n",
      "processed 188000000 lines...\n",
      "processed 189000000 lines...\n",
      "processed 190000000 lines...\n",
      "processed 191000000 lines...\n",
      "processed 192000000 lines...\n",
      "processed 193000000 lines...\n",
      "processed 194000000 lines...\n",
      "processed 195000000 lines...\n",
      "processed 196000000 lines...\n",
      "processed 197000000 lines...\n",
      "processed 198000000 lines...\n",
      "processed 199000000 lines...\n",
      "processed 200000000 lines...\n",
      "processed 201000000 lines...\n",
      "processed 202000000 lines...\n",
      "processed 203000000 lines...\n",
      "processed 204000000 lines...\n",
      "processed 205000000 lines...\n",
      "processed 206000000 lines...\n",
      "processed 207000000 lines...\n",
      "processed 208000000 lines...\n",
      "processed 209000000 lines...\n",
      "processed 210000000 lines...\n",
      "processed 211000000 lines...\n",
      "processed 212000000 lines...\n",
      "processed 213000000 lines...\n",
      "processed 214000000 lines...\n",
      "processed 215000000 lines...\n",
      "processed 216000000 lines...\n",
      "processed 217000000 lines...\n",
      "processed 218000000 lines...\n",
      "processed 219000000 lines...\n",
      "processed 220000000 lines...\n",
      "processed 221000000 lines...\n",
      "processed 222000000 lines...\n",
      "processed 223000000 lines...\n",
      "processed 224000000 lines...\n",
      "processed 225000000 lines...\n",
      "processed 226000000 lines...\n",
      "processed 227000000 lines...\n",
      "processed 228000000 lines...\n",
      "processed 229000000 lines...\n",
      "processed 230000000 lines...\n",
      "processed 231000000 lines...\n",
      "processed 232000000 lines...\n",
      "processed 233000000 lines...\n",
      "processed 234000000 lines...\n",
      "processed 235000000 lines...\n",
      "processed 236000000 lines...\n",
      "processed 237000000 lines...\n",
      "processed 238000000 lines...\n",
      "processed 239000000 lines...\n",
      "processed 240000000 lines...\n",
      "processed 241000000 lines...\n",
      "processed 242000000 lines...\n",
      "processed 243000000 lines...\n",
      "processed 244000000 lines...\n",
      "processed 245000000 lines...\n",
      "processed 246000000 lines...\n",
      "processed 247000000 lines...\n",
      "processed 248000000 lines...\n",
      "processed 249000000 lines...\n",
      "processed 250000000 lines...\n",
      "processed 251000000 lines...\n",
      "processed 252000000 lines...\n",
      "processed 253000000 lines...\n",
      "processed 254000000 lines...\n",
      "processed 255000000 lines...\n",
      "processed 256000000 lines...\n",
      "processed 257000000 lines...\n",
      "processed 258000000 lines...\n",
      "processed 259000000 lines...\n",
      "processed 260000000 lines...\n",
      "processed 261000000 lines...\n",
      "processed 262000000 lines...\n",
      "processed 263000000 lines...\n",
      "processed 264000000 lines...\n",
      "processed 265000000 lines...\n",
      "processed 266000000 lines...\n",
      "processed 267000000 lines...\n",
      "processed 268000000 lines...\n",
      "processed 269000000 lines...\n",
      "processed 270000000 lines...\n",
      "processed 271000000 lines...\n",
      "processed 272000000 lines...\n",
      "processed 273000000 lines...\n",
      "processed 274000000 lines...\n",
      "processed 275000000 lines...\n",
      "processed 276000000 lines...\n",
      "processed 277000000 lines...\n",
      "processed 278000000 lines...\n",
      "processed 279000000 lines...\n",
      "processed 280000000 lines...\n",
      "processed 281000000 lines...\n",
      "processed 282000000 lines...\n",
      "processed 283000000 lines...\n",
      "processed 284000000 lines...\n"
     ]
    },
    {
     "name": "stdout",
     "output_type": "stream",
     "text": [
      "processed 285000000 lines...\n",
      "processed 286000000 lines...\n",
      "processed 287000000 lines...\n",
      "processed 288000000 lines...\n",
      "processed 289000000 lines...\n",
      "processed 290000000 lines...\n",
      "processed 291000000 lines...\n",
      "processed 292000000 lines...\n",
      "processed 293000000 lines...\n",
      "processed 294000000 lines...\n",
      "processed 295000000 lines...\n",
      "processed 296000000 lines...\n",
      "processed 297000000 lines...\n",
      "processed 298000000 lines...\n",
      "processed 299000000 lines...\n",
      "processed 300000000 lines...\n",
      "processed 301000000 lines...\n",
      "processed 302000000 lines...\n",
      "processed 303000000 lines...\n",
      "processed 304000000 lines...\n",
      "processed 305000000 lines...\n",
      "processed 306000000 lines...\n",
      "processed 307000000 lines...\n",
      "processed 308000000 lines...\n",
      "processed 309000000 lines...\n",
      "processed 310000000 lines...\n",
      "processed 311000000 lines...\n",
      "processed 312000000 lines...\n",
      "processed 313000000 lines...\n",
      "processed 314000000 lines...\n",
      "processed 315000000 lines...\n",
      "processed 316000000 lines...\n",
      "processed 317000000 lines...\n",
      "processed 318000000 lines...\n",
      "processed 319000000 lines...\n",
      "processed 320000000 lines...\n",
      "processed 321000000 lines...\n",
      "processed 322000000 lines...\n",
      "processed 323000000 lines...\n",
      "processed 324000000 lines...\n",
      "processed 325000000 lines...\n",
      "processed 326000000 lines...\n",
      "processed 327000000 lines...\n",
      "processed 328000000 lines...\n",
      "processed 329000000 lines...\n",
      "processed 330000000 lines...\n",
      "processed 331000000 lines...\n",
      "processed 332000000 lines...\n",
      "processed 333000000 lines...\n",
      "processed 334000000 lines...\n",
      "processed 335000000 lines...\n",
      "processed 336000000 lines...\n",
      "processed 337000000 lines...\n",
      "finished processing!\n",
      "\n"
     ]
    }
   ],
   "source": [
    "pid_aids = defaultdict(list)\n",
    "\n",
    "for row in mag.yield_one_line('PaperAuthorAffiliations.txt', '\\t'):\n",
    "    pid, aid = row[:2]\n",
    "    if pid in cand_pids:\n",
    "        pid_aids[pid].append(aid)"
   ]
  },
  {
   "cell_type": "code",
   "execution_count": 13,
   "metadata": {},
   "outputs": [
    {
     "data": {
      "text/plain": [
       "52930265"
      ]
     },
     "execution_count": 13,
     "metadata": {},
     "output_type": "execute_result"
    }
   ],
   "source": [
    "len(pid_aids)"
   ]
  },
  {
   "cell_type": "code",
   "execution_count": 14,
   "metadata": {},
   "outputs": [],
   "source": [
    "vid_aids = defaultdict(set)\n",
    "\n",
    "for vid, pids in vid_pids.items():\n",
    "    for pid in pids:\n",
    "        for aid in pid_aids[pid]:\n",
    "            vid_aids[vid].add(aid)"
   ]
  },
  {
   "cell_type": "code",
   "execution_count": 15,
   "metadata": {},
   "outputs": [
    {
     "data": {
      "text/plain": [
       "20835"
      ]
     },
     "execution_count": 15,
     "metadata": {},
     "output_type": "execute_result"
    }
   ],
   "source": [
    "len(vid_aids)"
   ]
  },
  {
   "cell_type": "code",
   "execution_count": 16,
   "metadata": {},
   "outputs": [
    {
     "data": {
      "text/plain": [
       "3100"
      ]
     },
     "execution_count": 16,
     "metadata": {},
     "output_type": "execute_result"
    }
   ],
   "source": [
    "len(vid_aids[vname2vid['Journal of Machine Learning Research']])"
   ]
  },
  {
   "cell_type": "code",
   "execution_count": 17,
   "metadata": {},
   "outputs": [
    {
     "data": {
      "text/plain": [
       "19661"
      ]
     },
     "execution_count": 17,
     "metadata": {},
     "output_type": "execute_result"
    }
   ],
   "source": [
    "len(vid_aids[vname2vid['American Sociological Review']])"
   ]
  },
  {
   "cell_type": "code",
   "execution_count": 18,
   "metadata": {},
   "outputs": [],
   "source": [
    "del vid_pids, cand_pids, pid_aids"
   ]
  },
  {
   "cell_type": "markdown",
   "metadata": {},
   "source": [
    "## Draw analogy graph - bfs"
   ]
  },
  {
   "cell_type": "code",
   "execution_count": 8,
   "metadata": {},
   "outputs": [],
   "source": [
    "def expand_with_step(model, j1, j2, target, step = 5):\n",
    "    pairs = defaultdict(list)\n",
    "    visited = set()\n",
    "    jids = [(vname2vid[target], 0)]\n",
    "    j1_id = vname2vid[j1]\n",
    "    j2_id = vname2vid[j2]\n",
    "    while (len(jids) > 0):\n",
    "        target_id, hop = jids.pop()\n",
    "        if target_id not in visited and hop < step:\n",
    "            a1 = model.most_similar(positive=[j1_id, target_id], negative=[j2_id])[0][0]\n",
    "            a2 = model.most_similar(positive=[j2_id, target_id], negative=[j1_id])[0][0]\n",
    "            try: # a1 may not in vid2name\n",
    "                pairs[(j2, j1)].append((vid2name[target_id], vid2name[a1]))\n",
    "                pairs[(j1, j2)].append((vid2name[target_id], vid2name[a2]))\n",
    "            except:\n",
    "                pass\n",
    "            if a1 not in visited:\n",
    "                jids.insert(0, (a1, hop + 1))\n",
    "            if a2 not in visited:\n",
    "                jids.insert(0, (a2, hop + 1))\n",
    "            visited.add(target_id)\n",
    "    return pairs\n",
    "\n",
    "def correct_edges(pairs):\n",
    "    total_correct, total_correct_1, total_correct_2 = 0, 0, 0\n",
    "    total_acyclic_pair = 0\n",
    "    # m: n ~ s : t\n",
    "    for (m, n), li in pairs.items():\n",
    "        mid = vname2vid[m]\n",
    "        nid = vname2vid[n]\n",
    "        for (s, t) in li:\n",
    "            if (t, s) not in li:\n",
    "                sid = vname2vid[s]\n",
    "                tid = vname2vid[t]\n",
    "                # if sid or tid has no authors.\n",
    "                try:\n",
    "                    sm = len(vid_aids[sid].intersection(vid_aids[mid]))\n",
    "                    tm = len(vid_aids[tid].intersection(vid_aids[mid]))\n",
    "                    sn = len(vid_aids[sid].intersection(vid_aids[nid]))\n",
    "                    tn = len(vid_aids[tid].intersection(vid_aids[nid]))\n",
    "                except:\n",
    "                    continue\n",
    "                # if (sm/sn) > (tm/tn):\n",
    "                if sm * tn > tm * sn:\n",
    "                    total_correct += 1\n",
    "                total_acyclic_pair += 1\n",
    "    if total_acyclic_pair == 0:\n",
    "        return 'zero acyclic edge'\n",
    "    else:\n",
    "        return total_correct/total_acyclic_pair"
   ]
  },
  {
   "cell_type": "markdown",
   "metadata": {},
   "source": [
    "## Find journals in the same discipline"
   ]
  },
  {
   "cell_type": "code",
   "execution_count": 17,
   "metadata": {},
   "outputs": [],
   "source": [
    "tem = pd.read_csv(mag.DATA_ROOT+'jid_2d_projection.csv', header = 0)\n",
    "jid_disc = mapping[mapping.jid.isin(set(tem.jid.tolist()))][['jid', 'disc_name']].set_index('jid').to_dict()['disc_name']"
   ]
  },
  {
   "cell_type": "code",
   "execution_count": 18,
   "metadata": {},
   "outputs": [
    {
     "data": {
      "text/plain": [
       "12780"
      ]
     },
     "execution_count": 18,
     "metadata": {},
     "output_type": "execute_result"
    }
   ],
   "source": [
    "len(jid_disc)"
   ]
  },
  {
   "cell_type": "code",
   "execution_count": 19,
   "metadata": {},
   "outputs": [],
   "source": [
    "def get_most_simi_same_disc(model, pos, neg, target_id):\n",
    "    for jid, cos in model.most_similar(positive=[pos, target_id], negative=[neg], topn=model.syn0.shape[0]):\n",
    "        if jid in jid_disc:\n",
    "            if jid_disc[jid] == jid_disc[target_id]:\n",
    "                return jid\n",
    "\n",
    "def expand_same_disc_with_step(model, j1, j2, target, step = 5):\n",
    "    pairs = defaultdict(list)\n",
    "    visited = set()\n",
    "    tar_id = vname2vid[target]\n",
    "    jids = [(tar_id, 0)]\n",
    "    j1_id = vname2vid[j1]\n",
    "    j2_id = vname2vid[j2]\n",
    "    while (len(jids) > 0):\n",
    "        target_id, hop = jids.pop()\n",
    "        if target_id not in visited and hop < step:\n",
    "            a1 = get_most_simi_same_disc(model, j1_id, j2_id, target_id)\n",
    "            a2 = get_most_simi_same_disc(model, j2_id, j1_id, target_id)\n",
    "            pairs[(j2, j1)].append((vid2name[target_id], vid2name[a1]))\n",
    "            pairs[(j1, j2)].append((vid2name[target_id], vid2name[a2]))\n",
    "            if a1 not in visited:\n",
    "                jids.insert(0, (a1, hop + 1))\n",
    "            if a2 not in visited:\n",
    "                jids.insert(0, (a2, hop + 1))\n",
    "            visited.add(target_id)\n",
    "    return pairs"
   ]
  },
  {
   "cell_type": "markdown",
   "metadata": {},
   "source": [
    "## Systematic validation"
   ]
  },
  {
   "cell_type": "code",
   "execution_count": 20,
   "metadata": {},
   "outputs": [],
   "source": [
    "def heatmap(data, row_labels, col_labels, cbarlabel, vmin, vmax, col='RdBu'):\n",
    "    fig, ax = plt.subplots(figsize = (8, 6.5))\n",
    "    cm = plt.cm.get_cmap(col)\n",
    "    im = ax.imshow(data, cmap=cm, vmin=vmin, vmax=vmax)\n",
    "    cbar = fig.colorbar(im, ax=ax, fraction=0.1, pad=0.02)#, format=\"%0.2f\")\n",
    "    cbar.ax.set_ylabel(cbarlabel, rotation=-90, va=\"bottom\")\n",
    "    cbar.ax.tick_params(axis='y', direction='in')\n",
    "    \n",
    "    # We want to show all ticks...\n",
    "    ax.set_xticks(np.arange(data.shape[1]))\n",
    "    ax.set_yticks(np.arange(data.shape[0]))\n",
    "    # ... and label them with the respective list entries.\n",
    "    ax.set_xticklabels(col_labels)\n",
    "    ax.set_yticklabels(row_labels)\n",
    "\n",
    "    # Let the horizontal axes labeling appear on top.\n",
    "    ax.tick_params(top=True, bottom=False,\n",
    "                   labeltop=True, labelbottom=False)\n",
    "\n",
    "    # Rotate the tick labels and set their alignment.\n",
    "    plt.setp(ax.get_xticklabels(), rotation=-30, ha=\"right\",\n",
    "             rotation_mode=\"anchor\")\n",
    "\n",
    "    # Turn spines off and create white grid.\n",
    "    for edge, spine in ax.spines.items():\n",
    "        spine.set_visible(False)\n",
    "\n",
    "    ax.set_xticks(np.arange(data.shape[1]+1)-.5, minor=True)\n",
    "    ax.set_yticks(np.arange(data.shape[0]+1)-.5, minor=True)\n",
    "    ax.grid(which=\"minor\", color=\"w\", linestyle='-', linewidth=3)\n",
    "    ax.tick_params(which=\"minor\", bottom=False, left=False)\n",
    "\n",
    "    return fig, im\n",
    "\n",
    "def annotate_heatmap(im, data=None, valfmt=\"{x:.2f}\",\n",
    "                     textcolors=[\"black\", \"white\"],\n",
    "                     threshold=None, **textkw):\n",
    "    \"\"\"\n",
    "    A function to annotate a heatmap.\n",
    "\n",
    "    Parameters\n",
    "    ----------\n",
    "    im\n",
    "        The AxesImage to be labeled.\n",
    "    data\n",
    "        Data used to annotate.  If None, the image's data is used.  Optional.\n",
    "    valfmt\n",
    "        The format of the annotations inside the heatmap.  This should either\n",
    "        use the string format method, e.g. \"$ {x:.2f}\", or be a\n",
    "        `matplotlib.ticker.Formatter`.  Optional.\n",
    "    textcolors\n",
    "        A list or array of two color specifications.  The first is used for\n",
    "        values below a threshold, the second for those above.  Optional.\n",
    "    threshold\n",
    "        Value in data units according to which the colors from textcolors are\n",
    "        applied.  If None (the default) uses the middle of the colormap as\n",
    "        separation.  Optional.\n",
    "    **kwargs\n",
    "        All other arguments are forwarded to each call to `text` used to create\n",
    "        the text labels.\n",
    "    \"\"\"\n",
    "\n",
    "    if not isinstance(data, (list, np.ndarray)):\n",
    "        data = im.get_array()\n",
    "\n",
    "    # Normalize the threshold to the images color range.\n",
    "    if threshold is not None:\n",
    "        threshold = im.norm(threshold)\n",
    "    else:\n",
    "        threshold = im.norm(data.max())/2.\n",
    "\n",
    "    # Set default alignment to center, but allow it to be\n",
    "    # overwritten by textkw.\n",
    "    kw = dict(horizontalalignment=\"center\",\n",
    "              verticalalignment=\"center\")\n",
    "    kw.update(textkw)\n",
    "\n",
    "    # Get the formatter in case a string is supplied\n",
    "    if isinstance(valfmt, str):\n",
    "        valfmt = matplotlib.ticker.StrMethodFormatter(valfmt)\n",
    "\n",
    "    # Loop over the data and create a `Text` for each \"pixel\".\n",
    "    # Change the text's color depending on the data.\n",
    "    texts = []\n",
    "    for i in range(data.shape[0]):\n",
    "        for j in range(data.shape[1]):\n",
    "            kw.update(color=textcolors[int(im.norm(data[i, j]) > threshold)])\n",
    "            if i == j:\n",
    "                text = im.axes.text(j, i, '-', **kw)\n",
    "            else:\n",
    "                text = im.axes.text(j, i, valfmt(data[i, j], None), **kw)\n",
    "            texts.append(text)\n",
    "\n",
    "    return texts"
   ]
  },
  {
   "cell_type": "markdown",
   "metadata": {},
   "source": [
    "### compare with citation vec"
   ]
  },
  {
   "cell_type": "code",
   "execution_count": 21,
   "metadata": {},
   "outputs": [],
   "source": [
    "# see `../validation/get_citation_vec_model.ipynb`.\n",
    "h5f = h5py.File(mag.get_path('venue_citation_matrix.h5'),'r')\n",
    "in_out_matrix = h5f['matrix'][:]\n",
    "h5f.close()"
   ]
  },
  {
   "cell_type": "code",
   "execution_count": 22,
   "metadata": {},
   "outputs": [],
   "source": [
    "with open(mag.get_path('venue_citation_matrix_index.pickle'), 'rb') as file:\n",
    "    col_index2vid, vid2col_index = pickle.load(file)"
   ]
  },
  {
   "cell_type": "code",
   "execution_count": 24,
   "metadata": {},
   "outputs": [
    {
     "name": "stdout",
     "output_type": "stream",
     "text": [
      "\n",
      "model shape is: (20835, 100) \n",
      "\n"
     ]
    }
   ],
   "source": [
    "# reuse the j2v model structure.\n",
    "model_cite_vec = w2v.load_j2v(mag.DATA_ROOT + '100feat_50minwords_10context_2016')"
   ]
  },
  {
   "cell_type": "code",
   "execution_count": 25,
   "metadata": {},
   "outputs": [],
   "source": [
    "for ix, vid in enumerate(model_cite_vec.index2word):\n",
    "    model_cite_vec.wv.syn0[ix] = in_out_matrix[vid2col_index[vid], :]"
   ]
  },
  {
   "cell_type": "code",
   "execution_count": 26,
   "metadata": {},
   "outputs": [],
   "source": [
    "top_n = 10"
   ]
  },
  {
   "cell_type": "code",
   "execution_count": 27,
   "metadata": {},
   "outputs": [],
   "source": [
    "top_journals = pd.read_csv(mag.DATA_ROOT+'top_journals.csv')"
   ]
  },
  {
   "cell_type": "code",
   "execution_count": 28,
   "metadata": {},
   "outputs": [],
   "source": [
    "def get_scores(d1, d2, d3, same_disc = False):\n",
    "    scores_j2v = []\n",
    "    scores_cite = []\n",
    "    for j1 in d1:\n",
    "        for j2 in d2:\n",
    "            for seed in d3:\n",
    "                if seed != j1 and seed != j2:\n",
    "                    if same_disc:\n",
    "                        pairs_j2v = expand_same_disc_with_step(model, j1, j2, seed)\n",
    "                        pairs_cite = expand_same_disc_with_step(model_cite_vec, j1, j2, seed)\n",
    "                    else:\n",
    "                        pairs_j2v = expand_with_step(model, j1, j2, seed, step=4)\n",
    "                        pairs_cite = expand_with_step(model_cite_vec, j1, j2, seed, step=4)\n",
    "                    acc0 = correct_edges(pairs_j2v)\n",
    "                    acc00 = correct_edges(pairs_cite)\n",
    "                    if acc0 != 'zero acyclic edge':\n",
    "                        scores_j2v.append(acc0)\n",
    "                    if acc00 != 'zero acyclic edge':\n",
    "                        scores_cite.append(acc00)\n",
    "    return scores_j2v, scores_cite"
   ]
  },
  {
   "cell_type": "markdown",
   "metadata": {},
   "source": [
    "### All pairs of disciplines (seeds are in the same disc as poles)"
   ]
  },
  {
   "cell_type": "code",
   "execution_count": 29,
   "metadata": {},
   "outputs": [],
   "source": [
    "discs = list(set(mapping.disc_name))\n",
    "discs.remove('Interdiscipline')"
   ]
  },
  {
   "cell_type": "code",
   "execution_count": null,
   "metadata": {
    "scrolled": true
   },
   "outputs": [],
   "source": [
    "disc_pair_scores = {}\n",
    "\n",
    "for d1, d2 in combinations(discs, 2):\n",
    "    dkey = sorted((d1, d2))\n",
    "    dkey = '-'.join(dkey)\n",
    "    if dkey not in disc_pair_scores:\n",
    "        top_d1 = top_journals.loc[top_journals.disc_name==d1]['jname'].tolist()[:top_n]\n",
    "        top_d2 = top_journals.loc[top_journals.disc_name==d2]['jname'].tolist()[:top_n]\n",
    "        scores_j2v, scores_cite = get_scores(top_d1, top_d2, top_d1 + top_d2)\n",
    "        disc_pair_scores[dkey] = (scores_j2v, scores_cite)"
   ]
  },
  {
   "cell_type": "code",
   "execution_count": 35,
   "metadata": {},
   "outputs": [
    {
     "data": {
      "text/plain": [
       "78"
      ]
     },
     "execution_count": 35,
     "metadata": {},
     "output_type": "execute_result"
    }
   ],
   "source": [
    "len(disc_pair_scores)"
   ]
  },
  {
   "cell_type": "code",
   "execution_count": 68,
   "metadata": {},
   "outputs": [],
   "source": [
    "dis_name_abbr = {'Brain Research': 'Brain', 'Medical Specialties': 'Med.', 'Health Professionals': 'Health', 'Social Sciences': 'Social', 'Earth Sciences': 'Earth', 'Biology': 'Bio.', 'Chemical, Mechanical, & Civil Engineering': 'Eng.', 'Chemistry': 'Chem.', 'Biotechnology': 'Biotech.', 'Infectious Diseases': 'Infect. Dis.', 'Math & Physics': 'Math', 'Humanities': 'Hum.', 'Electrical Engineering & Computer Science': 'EE & CS'}\n",
    "names = list(dis_name_abbr.values())"
   ]
  },
  {
   "cell_type": "code",
   "execution_count": 69,
   "metadata": {},
   "outputs": [],
   "source": [
    "matrix = pd.DataFrame(np.nan, index = names, columns = names)\n",
    "matrix_j2v = pd.DataFrame(np.nan, index = names, columns = names)\n",
    "\n",
    "for d1 in discs:\n",
    "    for d2 in discs:\n",
    "        dkey = sorted((d1, d2))\n",
    "        dkey = '-'.join(dkey)\n",
    "        if d1 == d2:\n",
    "            val = 0\n",
    "            val_j2v = 0\n",
    "        else:\n",
    "            scores_j2v, scores_cite = disc_pair_scores[dkey]\n",
    "            val = np.mean(scores_j2v) - np.mean(scores_cite)\n",
    "            val_j2v = np.mean(scores_j2v)\n",
    "        matrix.loc[dis_name_abbr[d1], dis_name_abbr[d2]] = val\n",
    "        matrix_j2v.loc[dis_name_abbr[d1], dis_name_abbr[d2]] = val_j2v"
   ]
  },
  {
   "cell_type": "code",
   "execution_count": 70,
   "metadata": {},
   "outputs": [
    {
     "data": {
      "text/html": [
       "<div>\n",
       "<style scoped>\n",
       "    .dataframe tbody tr th:only-of-type {\n",
       "        vertical-align: middle;\n",
       "    }\n",
       "\n",
       "    .dataframe tbody tr th {\n",
       "        vertical-align: top;\n",
       "    }\n",
       "\n",
       "    .dataframe thead th {\n",
       "        text-align: right;\n",
       "    }\n",
       "</style>\n",
       "<table border=\"1\" class=\"dataframe\">\n",
       "  <thead>\n",
       "    <tr style=\"text-align: right;\">\n",
       "      <th></th>\n",
       "      <th>Brain</th>\n",
       "      <th>Med.</th>\n",
       "      <th>Health</th>\n",
       "      <th>Social</th>\n",
       "      <th>Earth</th>\n",
       "      <th>Bio.</th>\n",
       "      <th>Eng.</th>\n",
       "      <th>Chem.</th>\n",
       "      <th>Biotech.</th>\n",
       "      <th>Infect. Dis.</th>\n",
       "      <th>Math</th>\n",
       "      <th>Hum.</th>\n",
       "      <th>EE &amp; CS</th>\n",
       "    </tr>\n",
       "  </thead>\n",
       "  <tbody>\n",
       "    <tr>\n",
       "      <th>Brain</th>\n",
       "      <td>0.000000</td>\n",
       "      <td>0.069644</td>\n",
       "      <td>0.058151</td>\n",
       "      <td>0.075689</td>\n",
       "      <td>0.077289</td>\n",
       "      <td>0.086189</td>\n",
       "      <td>0.042114</td>\n",
       "      <td>0.074625</td>\n",
       "      <td>0.081432</td>\n",
       "      <td>0.070060</td>\n",
       "      <td>0.061914</td>\n",
       "      <td>0.090787</td>\n",
       "      <td>0.033653</td>\n",
       "    </tr>\n",
       "    <tr>\n",
       "      <th>Med.</th>\n",
       "      <td>0.069644</td>\n",
       "      <td>0.000000</td>\n",
       "      <td>0.066093</td>\n",
       "      <td>0.099577</td>\n",
       "      <td>0.096052</td>\n",
       "      <td>0.093619</td>\n",
       "      <td>0.024835</td>\n",
       "      <td>0.055302</td>\n",
       "      <td>0.054136</td>\n",
       "      <td>0.049487</td>\n",
       "      <td>0.052547</td>\n",
       "      <td>0.136506</td>\n",
       "      <td>0.049250</td>\n",
       "    </tr>\n",
       "    <tr>\n",
       "      <th>Health</th>\n",
       "      <td>0.058151</td>\n",
       "      <td>0.066093</td>\n",
       "      <td>0.000000</td>\n",
       "      <td>0.057310</td>\n",
       "      <td>0.088134</td>\n",
       "      <td>0.075535</td>\n",
       "      <td>0.019813</td>\n",
       "      <td>0.064937</td>\n",
       "      <td>0.102051</td>\n",
       "      <td>0.073992</td>\n",
       "      <td>0.047586</td>\n",
       "      <td>0.063605</td>\n",
       "      <td>0.062126</td>\n",
       "    </tr>\n",
       "    <tr>\n",
       "      <th>Social</th>\n",
       "      <td>0.075689</td>\n",
       "      <td>0.099577</td>\n",
       "      <td>0.057310</td>\n",
       "      <td>0.000000</td>\n",
       "      <td>0.112219</td>\n",
       "      <td>0.089339</td>\n",
       "      <td>0.095912</td>\n",
       "      <td>0.085543</td>\n",
       "      <td>0.119325</td>\n",
       "      <td>0.106836</td>\n",
       "      <td>0.093126</td>\n",
       "      <td>0.101067</td>\n",
       "      <td>0.076083</td>\n",
       "    </tr>\n",
       "    <tr>\n",
       "      <th>Earth</th>\n",
       "      <td>0.077289</td>\n",
       "      <td>0.096052</td>\n",
       "      <td>0.088134</td>\n",
       "      <td>0.112219</td>\n",
       "      <td>0.000000</td>\n",
       "      <td>0.038490</td>\n",
       "      <td>0.052821</td>\n",
       "      <td>0.058732</td>\n",
       "      <td>0.109234</td>\n",
       "      <td>0.104834</td>\n",
       "      <td>0.068147</td>\n",
       "      <td>0.098287</td>\n",
       "      <td>0.052091</td>\n",
       "    </tr>\n",
       "    <tr>\n",
       "      <th>Bio.</th>\n",
       "      <td>0.086189</td>\n",
       "      <td>0.093619</td>\n",
       "      <td>0.075535</td>\n",
       "      <td>0.089339</td>\n",
       "      <td>0.038490</td>\n",
       "      <td>0.000000</td>\n",
       "      <td>0.036020</td>\n",
       "      <td>0.071009</td>\n",
       "      <td>0.083517</td>\n",
       "      <td>0.096577</td>\n",
       "      <td>0.058942</td>\n",
       "      <td>0.070087</td>\n",
       "      <td>0.074651</td>\n",
       "    </tr>\n",
       "    <tr>\n",
       "      <th>Eng.</th>\n",
       "      <td>0.042114</td>\n",
       "      <td>0.024835</td>\n",
       "      <td>0.019813</td>\n",
       "      <td>0.095912</td>\n",
       "      <td>0.052821</td>\n",
       "      <td>0.036020</td>\n",
       "      <td>0.000000</td>\n",
       "      <td>0.013275</td>\n",
       "      <td>0.047317</td>\n",
       "      <td>0.019634</td>\n",
       "      <td>0.023915</td>\n",
       "      <td>0.075908</td>\n",
       "      <td>0.014497</td>\n",
       "    </tr>\n",
       "    <tr>\n",
       "      <th>Chem.</th>\n",
       "      <td>0.074625</td>\n",
       "      <td>0.055302</td>\n",
       "      <td>0.064937</td>\n",
       "      <td>0.085543</td>\n",
       "      <td>0.058732</td>\n",
       "      <td>0.071009</td>\n",
       "      <td>0.013275</td>\n",
       "      <td>0.000000</td>\n",
       "      <td>0.048628</td>\n",
       "      <td>0.060836</td>\n",
       "      <td>0.055033</td>\n",
       "      <td>0.090304</td>\n",
       "      <td>0.040520</td>\n",
       "    </tr>\n",
       "    <tr>\n",
       "      <th>Biotech.</th>\n",
       "      <td>0.081432</td>\n",
       "      <td>0.054136</td>\n",
       "      <td>0.102051</td>\n",
       "      <td>0.119325</td>\n",
       "      <td>0.109234</td>\n",
       "      <td>0.083517</td>\n",
       "      <td>0.047317</td>\n",
       "      <td>0.048628</td>\n",
       "      <td>0.000000</td>\n",
       "      <td>0.064615</td>\n",
       "      <td>0.063598</td>\n",
       "      <td>0.086321</td>\n",
       "      <td>0.058565</td>\n",
       "    </tr>\n",
       "    <tr>\n",
       "      <th>Infect. Dis.</th>\n",
       "      <td>0.070060</td>\n",
       "      <td>0.049487</td>\n",
       "      <td>0.073992</td>\n",
       "      <td>0.106836</td>\n",
       "      <td>0.104834</td>\n",
       "      <td>0.096577</td>\n",
       "      <td>0.019634</td>\n",
       "      <td>0.060836</td>\n",
       "      <td>0.064615</td>\n",
       "      <td>0.000000</td>\n",
       "      <td>0.037748</td>\n",
       "      <td>0.100387</td>\n",
       "      <td>0.046144</td>\n",
       "    </tr>\n",
       "    <tr>\n",
       "      <th>Math</th>\n",
       "      <td>0.061914</td>\n",
       "      <td>0.052547</td>\n",
       "      <td>0.047586</td>\n",
       "      <td>0.093126</td>\n",
       "      <td>0.068147</td>\n",
       "      <td>0.058942</td>\n",
       "      <td>0.023915</td>\n",
       "      <td>0.055033</td>\n",
       "      <td>0.063598</td>\n",
       "      <td>0.037748</td>\n",
       "      <td>0.000000</td>\n",
       "      <td>0.086863</td>\n",
       "      <td>0.021596</td>\n",
       "    </tr>\n",
       "    <tr>\n",
       "      <th>Hum.</th>\n",
       "      <td>0.090787</td>\n",
       "      <td>0.136506</td>\n",
       "      <td>0.063605</td>\n",
       "      <td>0.101067</td>\n",
       "      <td>0.098287</td>\n",
       "      <td>0.070087</td>\n",
       "      <td>0.075908</td>\n",
       "      <td>0.090304</td>\n",
       "      <td>0.086321</td>\n",
       "      <td>0.100387</td>\n",
       "      <td>0.086863</td>\n",
       "      <td>0.000000</td>\n",
       "      <td>0.066867</td>\n",
       "    </tr>\n",
       "    <tr>\n",
       "      <th>EE &amp; CS</th>\n",
       "      <td>0.033653</td>\n",
       "      <td>0.049250</td>\n",
       "      <td>0.062126</td>\n",
       "      <td>0.076083</td>\n",
       "      <td>0.052091</td>\n",
       "      <td>0.074651</td>\n",
       "      <td>0.014497</td>\n",
       "      <td>0.040520</td>\n",
       "      <td>0.058565</td>\n",
       "      <td>0.046144</td>\n",
       "      <td>0.021596</td>\n",
       "      <td>0.066867</td>\n",
       "      <td>0.000000</td>\n",
       "    </tr>\n",
       "  </tbody>\n",
       "</table>\n",
       "</div>"
      ],
      "text/plain": [
       "                 Brain      Med.    Health    Social     Earth      Bio.  \\\n",
       "Brain         0.000000  0.069644  0.058151  0.075689  0.077289  0.086189   \n",
       "Med.          0.069644  0.000000  0.066093  0.099577  0.096052  0.093619   \n",
       "Health        0.058151  0.066093  0.000000  0.057310  0.088134  0.075535   \n",
       "Social        0.075689  0.099577  0.057310  0.000000  0.112219  0.089339   \n",
       "Earth         0.077289  0.096052  0.088134  0.112219  0.000000  0.038490   \n",
       "Bio.          0.086189  0.093619  0.075535  0.089339  0.038490  0.000000   \n",
       "Eng.          0.042114  0.024835  0.019813  0.095912  0.052821  0.036020   \n",
       "Chem.         0.074625  0.055302  0.064937  0.085543  0.058732  0.071009   \n",
       "Biotech.      0.081432  0.054136  0.102051  0.119325  0.109234  0.083517   \n",
       "Infect. Dis.  0.070060  0.049487  0.073992  0.106836  0.104834  0.096577   \n",
       "Math          0.061914  0.052547  0.047586  0.093126  0.068147  0.058942   \n",
       "Hum.          0.090787  0.136506  0.063605  0.101067  0.098287  0.070087   \n",
       "EE & CS       0.033653  0.049250  0.062126  0.076083  0.052091  0.074651   \n",
       "\n",
       "                  Eng.     Chem.  Biotech.  Infect. Dis.      Math      Hum.  \\\n",
       "Brain         0.042114  0.074625  0.081432      0.070060  0.061914  0.090787   \n",
       "Med.          0.024835  0.055302  0.054136      0.049487  0.052547  0.136506   \n",
       "Health        0.019813  0.064937  0.102051      0.073992  0.047586  0.063605   \n",
       "Social        0.095912  0.085543  0.119325      0.106836  0.093126  0.101067   \n",
       "Earth         0.052821  0.058732  0.109234      0.104834  0.068147  0.098287   \n",
       "Bio.          0.036020  0.071009  0.083517      0.096577  0.058942  0.070087   \n",
       "Eng.          0.000000  0.013275  0.047317      0.019634  0.023915  0.075908   \n",
       "Chem.         0.013275  0.000000  0.048628      0.060836  0.055033  0.090304   \n",
       "Biotech.      0.047317  0.048628  0.000000      0.064615  0.063598  0.086321   \n",
       "Infect. Dis.  0.019634  0.060836  0.064615      0.000000  0.037748  0.100387   \n",
       "Math          0.023915  0.055033  0.063598      0.037748  0.000000  0.086863   \n",
       "Hum.          0.075908  0.090304  0.086321      0.100387  0.086863  0.000000   \n",
       "EE & CS       0.014497  0.040520  0.058565      0.046144  0.021596  0.066867   \n",
       "\n",
       "               EE & CS  \n",
       "Brain         0.033653  \n",
       "Med.          0.049250  \n",
       "Health        0.062126  \n",
       "Social        0.076083  \n",
       "Earth         0.052091  \n",
       "Bio.          0.074651  \n",
       "Eng.          0.014497  \n",
       "Chem.         0.040520  \n",
       "Biotech.      0.058565  \n",
       "Infect. Dis.  0.046144  \n",
       "Math          0.021596  \n",
       "Hum.          0.066867  \n",
       "EE & CS       0.000000  "
      ]
     },
     "execution_count": 70,
     "metadata": {},
     "output_type": "execute_result"
    }
   ],
   "source": [
    "matrix"
   ]
  },
  {
   "cell_type": "code",
   "execution_count": 71,
   "metadata": {},
   "outputs": [
    {
     "data": {
      "text/plain": [
       "0.13650646821913814"
      ]
     },
     "execution_count": 71,
     "metadata": {},
     "output_type": "execute_result"
    }
   ],
   "source": [
    "np.max(matrix.values)"
   ]
  },
  {
   "cell_type": "code",
   "execution_count": 72,
   "metadata": {},
   "outputs": [
    {
     "data": {
      "text/plain": [
       "0.0"
      ]
     },
     "execution_count": 72,
     "metadata": {},
     "output_type": "execute_result"
    }
   ],
   "source": [
    "np.min(matrix.values)"
   ]
  },
  {
   "cell_type": "code",
   "execution_count": 73,
   "metadata": {
    "scrolled": false
   },
   "outputs": [
    {
     "data": {
      "image/png": "[encoded data removed]",
      "text/plain": [
       "<Figure size 576x468 with 2 Axes>"
      ]
     },
     "metadata": {},
     "output_type": "display_data"
    }
   ],
   "source": [
    "fig, im = heatmap(matrix, names, names, vmin=-0.15, vmax=0.15, cbarlabel=\"Difference in the mean fraction (p2v vs. cv)\")\n",
    "texts = annotate_heatmap(im, threshold = 0, valfmt=\"{x:.2f}\")\n",
    "fig.tight_layout()\n",
    "plt.show()\n",
    "fig.savefig('analogy_heatmap.pdf', bbox_inches='tight', pad_inches=0.01)"
   ]
  },
  {
   "cell_type": "code",
   "execution_count": 45,
   "metadata": {},
   "outputs": [],
   "source": [
    "for dkey in disc_pair_scores:\n",
    "    scores_j2v, scores_cite = disc_pair_scores[dkey]\n",
    "    _, pval = ttest_ind(scores_j2v, scores_cite)\n",
    "    if pval >= 0.001:\n",
    "        print(dkey)"
   ]
  },
  {
   "cell_type": "markdown",
   "metadata": {},
   "source": [
    "### Heatmap of mean values for j2v"
   ]
  },
  {
   "cell_type": "code",
   "execution_count": 74,
   "metadata": {},
   "outputs": [
    {
     "data": {
      "text/html": [
       "<div>\n",
       "<style scoped>\n",
       "    .dataframe tbody tr th:only-of-type {\n",
       "        vertical-align: middle;\n",
       "    }\n",
       "\n",
       "    .dataframe tbody tr th {\n",
       "        vertical-align: top;\n",
       "    }\n",
       "\n",
       "    .dataframe thead th {\n",
       "        text-align: right;\n",
       "    }\n",
       "</style>\n",
       "<table border=\"1\" class=\"dataframe\">\n",
       "  <thead>\n",
       "    <tr style=\"text-align: right;\">\n",
       "      <th></th>\n",
       "      <th>Brain</th>\n",
       "      <th>Med.</th>\n",
       "      <th>Health</th>\n",
       "      <th>Social</th>\n",
       "      <th>Earth</th>\n",
       "      <th>Bio.</th>\n",
       "      <th>Eng.</th>\n",
       "      <th>Chem.</th>\n",
       "      <th>Biotech.</th>\n",
       "      <th>Infect. Dis.</th>\n",
       "      <th>Math</th>\n",
       "      <th>Hum.</th>\n",
       "      <th>EE &amp; CS</th>\n",
       "    </tr>\n",
       "  </thead>\n",
       "  <tbody>\n",
       "    <tr>\n",
       "      <th>Brain</th>\n",
       "      <td>0.000000</td>\n",
       "      <td>0.906603</td>\n",
       "      <td>0.875999</td>\n",
       "      <td>0.853336</td>\n",
       "      <td>0.875753</td>\n",
       "      <td>0.890168</td>\n",
       "      <td>0.870188</td>\n",
       "      <td>0.899988</td>\n",
       "      <td>0.917943</td>\n",
       "      <td>0.898708</td>\n",
       "      <td>0.889909</td>\n",
       "      <td>0.794937</td>\n",
       "      <td>0.858289</td>\n",
       "    </tr>\n",
       "    <tr>\n",
       "      <th>Med.</th>\n",
       "      <td>0.906603</td>\n",
       "      <td>0.000000</td>\n",
       "      <td>0.902736</td>\n",
       "      <td>0.872243</td>\n",
       "      <td>0.873019</td>\n",
       "      <td>0.886783</td>\n",
       "      <td>0.869168</td>\n",
       "      <td>0.884090</td>\n",
       "      <td>0.894974</td>\n",
       "      <td>0.883369</td>\n",
       "      <td>0.879420</td>\n",
       "      <td>0.834717</td>\n",
       "      <td>0.876813</td>\n",
       "    </tr>\n",
       "    <tr>\n",
       "      <th>Health</th>\n",
       "      <td>0.875999</td>\n",
       "      <td>0.902736</td>\n",
       "      <td>0.000000</td>\n",
       "      <td>0.832750</td>\n",
       "      <td>0.893636</td>\n",
       "      <td>0.895755</td>\n",
       "      <td>0.856890</td>\n",
       "      <td>0.890375</td>\n",
       "      <td>0.918699</td>\n",
       "      <td>0.904041</td>\n",
       "      <td>0.863654</td>\n",
       "      <td>0.766258</td>\n",
       "      <td>0.881640</td>\n",
       "    </tr>\n",
       "    <tr>\n",
       "      <th>Social</th>\n",
       "      <td>0.853336</td>\n",
       "      <td>0.872243</td>\n",
       "      <td>0.832750</td>\n",
       "      <td>0.000000</td>\n",
       "      <td>0.871704</td>\n",
       "      <td>0.853760</td>\n",
       "      <td>0.869190</td>\n",
       "      <td>0.867237</td>\n",
       "      <td>0.895336</td>\n",
       "      <td>0.879664</td>\n",
       "      <td>0.861263</td>\n",
       "      <td>0.774131</td>\n",
       "      <td>0.837572</td>\n",
       "    </tr>\n",
       "    <tr>\n",
       "      <th>Earth</th>\n",
       "      <td>0.875753</td>\n",
       "      <td>0.873019</td>\n",
       "      <td>0.893636</td>\n",
       "      <td>0.871704</td>\n",
       "      <td>0.000000</td>\n",
       "      <td>0.853620</td>\n",
       "      <td>0.844203</td>\n",
       "      <td>0.860880</td>\n",
       "      <td>0.884425</td>\n",
       "      <td>0.888427</td>\n",
       "      <td>0.849930</td>\n",
       "      <td>0.779172</td>\n",
       "      <td>0.845098</td>\n",
       "    </tr>\n",
       "    <tr>\n",
       "      <th>Bio.</th>\n",
       "      <td>0.890168</td>\n",
       "      <td>0.886783</td>\n",
       "      <td>0.895755</td>\n",
       "      <td>0.853760</td>\n",
       "      <td>0.853620</td>\n",
       "      <td>0.000000</td>\n",
       "      <td>0.870264</td>\n",
       "      <td>0.888727</td>\n",
       "      <td>0.902662</td>\n",
       "      <td>0.892334</td>\n",
       "      <td>0.873080</td>\n",
       "      <td>0.783498</td>\n",
       "      <td>0.882025</td>\n",
       "    </tr>\n",
       "    <tr>\n",
       "      <th>Eng.</th>\n",
       "      <td>0.870188</td>\n",
       "      <td>0.869168</td>\n",
       "      <td>0.856890</td>\n",
       "      <td>0.869190</td>\n",
       "      <td>0.844203</td>\n",
       "      <td>0.870264</td>\n",
       "      <td>0.000000</td>\n",
       "      <td>0.853459</td>\n",
       "      <td>0.893617</td>\n",
       "      <td>0.872801</td>\n",
       "      <td>0.832246</td>\n",
       "      <td>0.753221</td>\n",
       "      <td>0.852286</td>\n",
       "    </tr>\n",
       "    <tr>\n",
       "      <th>Chem.</th>\n",
       "      <td>0.899988</td>\n",
       "      <td>0.884090</td>\n",
       "      <td>0.890375</td>\n",
       "      <td>0.867237</td>\n",
       "      <td>0.860880</td>\n",
       "      <td>0.888727</td>\n",
       "      <td>0.853459</td>\n",
       "      <td>0.000000</td>\n",
       "      <td>0.892017</td>\n",
       "      <td>0.886936</td>\n",
       "      <td>0.864862</td>\n",
       "      <td>0.783153</td>\n",
       "      <td>0.860267</td>\n",
       "    </tr>\n",
       "    <tr>\n",
       "      <th>Biotech.</th>\n",
       "      <td>0.917943</td>\n",
       "      <td>0.894974</td>\n",
       "      <td>0.918699</td>\n",
       "      <td>0.895336</td>\n",
       "      <td>0.884425</td>\n",
       "      <td>0.902662</td>\n",
       "      <td>0.893617</td>\n",
       "      <td>0.892017</td>\n",
       "      <td>0.000000</td>\n",
       "      <td>0.898166</td>\n",
       "      <td>0.897893</td>\n",
       "      <td>0.817783</td>\n",
       "      <td>0.887063</td>\n",
       "    </tr>\n",
       "    <tr>\n",
       "      <th>Infect. Dis.</th>\n",
       "      <td>0.898708</td>\n",
       "      <td>0.883369</td>\n",
       "      <td>0.904041</td>\n",
       "      <td>0.879664</td>\n",
       "      <td>0.888427</td>\n",
       "      <td>0.892334</td>\n",
       "      <td>0.872801</td>\n",
       "      <td>0.886936</td>\n",
       "      <td>0.898166</td>\n",
       "      <td>0.000000</td>\n",
       "      <td>0.878151</td>\n",
       "      <td>0.842714</td>\n",
       "      <td>0.873548</td>\n",
       "    </tr>\n",
       "    <tr>\n",
       "      <th>Math</th>\n",
       "      <td>0.889909</td>\n",
       "      <td>0.879420</td>\n",
       "      <td>0.863654</td>\n",
       "      <td>0.861263</td>\n",
       "      <td>0.849930</td>\n",
       "      <td>0.873080</td>\n",
       "      <td>0.832246</td>\n",
       "      <td>0.864862</td>\n",
       "      <td>0.897893</td>\n",
       "      <td>0.878151</td>\n",
       "      <td>0.000000</td>\n",
       "      <td>0.799157</td>\n",
       "      <td>0.828740</td>\n",
       "    </tr>\n",
       "    <tr>\n",
       "      <th>Hum.</th>\n",
       "      <td>0.794937</td>\n",
       "      <td>0.834717</td>\n",
       "      <td>0.766258</td>\n",
       "      <td>0.774131</td>\n",
       "      <td>0.779172</td>\n",
       "      <td>0.783498</td>\n",
       "      <td>0.753221</td>\n",
       "      <td>0.783153</td>\n",
       "      <td>0.817783</td>\n",
       "      <td>0.842714</td>\n",
       "      <td>0.799157</td>\n",
       "      <td>0.000000</td>\n",
       "      <td>0.731148</td>\n",
       "    </tr>\n",
       "    <tr>\n",
       "      <th>EE &amp; CS</th>\n",
       "      <td>0.858289</td>\n",
       "      <td>0.876813</td>\n",
       "      <td>0.881640</td>\n",
       "      <td>0.837572</td>\n",
       "      <td>0.845098</td>\n",
       "      <td>0.882025</td>\n",
       "      <td>0.852286</td>\n",
       "      <td>0.860267</td>\n",
       "      <td>0.887063</td>\n",
       "      <td>0.873548</td>\n",
       "      <td>0.828740</td>\n",
       "      <td>0.731148</td>\n",
       "      <td>0.000000</td>\n",
       "    </tr>\n",
       "  </tbody>\n",
       "</table>\n",
       "</div>"
      ],
      "text/plain": [
       "                 Brain      Med.    Health    Social     Earth      Bio.  \\\n",
       "Brain         0.000000  0.906603  0.875999  0.853336  0.875753  0.890168   \n",
       "Med.          0.906603  0.000000  0.902736  0.872243  0.873019  0.886783   \n",
       "Health        0.875999  0.902736  0.000000  0.832750  0.893636  0.895755   \n",
       "Social        0.853336  0.872243  0.832750  0.000000  0.871704  0.853760   \n",
       "Earth         0.875753  0.873019  0.893636  0.871704  0.000000  0.853620   \n",
       "Bio.          0.890168  0.886783  0.895755  0.853760  0.853620  0.000000   \n",
       "Eng.          0.870188  0.869168  0.856890  0.869190  0.844203  0.870264   \n",
       "Chem.         0.899988  0.884090  0.890375  0.867237  0.860880  0.888727   \n",
       "Biotech.      0.917943  0.894974  0.918699  0.895336  0.884425  0.902662   \n",
       "Infect. Dis.  0.898708  0.883369  0.904041  0.879664  0.888427  0.892334   \n",
       "Math          0.889909  0.879420  0.863654  0.861263  0.849930  0.873080   \n",
       "Hum.          0.794937  0.834717  0.766258  0.774131  0.779172  0.783498   \n",
       "EE & CS       0.858289  0.876813  0.881640  0.837572  0.845098  0.882025   \n",
       "\n",
       "                  Eng.     Chem.  Biotech.  Infect. Dis.      Math      Hum.  \\\n",
       "Brain         0.870188  0.899988  0.917943      0.898708  0.889909  0.794937   \n",
       "Med.          0.869168  0.884090  0.894974      0.883369  0.879420  0.834717   \n",
       "Health        0.856890  0.890375  0.918699      0.904041  0.863654  0.766258   \n",
       "Social        0.869190  0.867237  0.895336      0.879664  0.861263  0.774131   \n",
       "Earth         0.844203  0.860880  0.884425      0.888427  0.849930  0.779172   \n",
       "Bio.          0.870264  0.888727  0.902662      0.892334  0.873080  0.783498   \n",
       "Eng.          0.000000  0.853459  0.893617      0.872801  0.832246  0.753221   \n",
       "Chem.         0.853459  0.000000  0.892017      0.886936  0.864862  0.783153   \n",
       "Biotech.      0.893617  0.892017  0.000000      0.898166  0.897893  0.817783   \n",
       "Infect. Dis.  0.872801  0.886936  0.898166      0.000000  0.878151  0.842714   \n",
       "Math          0.832246  0.864862  0.897893      0.878151  0.000000  0.799157   \n",
       "Hum.          0.753221  0.783153  0.817783      0.842714  0.799157  0.000000   \n",
       "EE & CS       0.852286  0.860267  0.887063      0.873548  0.828740  0.731148   \n",
       "\n",
       "               EE & CS  \n",
       "Brain         0.858289  \n",
       "Med.          0.876813  \n",
       "Health        0.881640  \n",
       "Social        0.837572  \n",
       "Earth         0.845098  \n",
       "Bio.          0.882025  \n",
       "Eng.          0.852286  \n",
       "Chem.         0.860267  \n",
       "Biotech.      0.887063  \n",
       "Infect. Dis.  0.873548  \n",
       "Math          0.828740  \n",
       "Hum.          0.731148  \n",
       "EE & CS       0.000000  "
      ]
     },
     "execution_count": 74,
     "metadata": {},
     "output_type": "execute_result"
    }
   ],
   "source": [
    "matrix_j2v"
   ]
  },
  {
   "cell_type": "code",
   "execution_count": 75,
   "metadata": {
    "scrolled": false
   },
   "outputs": [
    {
     "data": {
      "image/png": "[encoded data removed]",
      "text/plain": [
       "<Figure size 576x468 with 2 Axes>"
      ]
     },
     "metadata": {},
     "output_type": "display_data"
    }
   ],
   "source": [
    "fig, im = heatmap(matrix_j2v, names, names, vmin=0, vmax=1, cbarlabel=\"Mean fraction of acyclic edges (based on p2v) that meet the criterion\", col='Blues')\n",
    "texts = annotate_heatmap(im, threshold = 0, valfmt=\"{x:.2f}\")\n",
    "fig.tight_layout()\n",
    "plt.show()\n",
    "fig.savefig('analogy_heatmap_j2v.pdf', bbox_inches='tight', pad_inches=0.01)"
   ]
  },
  {
   "cell_type": "markdown",
   "metadata": {},
   "source": [
    "### Social - EECS  (seeds are also in Social or EECS)"
   ]
  },
  {
   "cell_type": "code",
   "execution_count": 69,
   "metadata": {},
   "outputs": [],
   "source": [
    "top_ss = top_journals.loc[top_journals.disc_name=='Social Sciences']['jname'].tolist()[:top_n]\n",
    "top_eecs = top_journals.loc[top_journals.disc_name=='Electrical Engineering & Computer Science']['jname'].tolist()[:top_n]\n"
   ]
  },
  {
   "cell_type": "code",
   "execution_count": 53,
   "metadata": {},
   "outputs": [],
   "source": [
    "scores_j2v, scores_cite = disc_pair_scores['Electrical Engineering & Computer Science-Social Sciences']"
   ]
  },
  {
   "cell_type": "code",
   "execution_count": 67,
   "metadata": {},
   "outputs": [
    {
     "data": {
      "image/png": "[encoded data removed]",
      "text/plain": [
       "<Figure size 288x216 with 1 Axes>"
      ]
     },
     "metadata": {},
     "output_type": "display_data"
    }
   ],
   "source": [
    "fig, ax = plt.subplots(figsize=(4, 3))\n",
    "ax.hist(scores_j2v, bins = 10, facecolor='blue', alpha=0.8, label = 'p2v')\n",
    "ax.hist(scores_cite, bins = 10, facecolor='red', alpha=0.8, label = 'cv')\n",
    "legend = ax.legend(loc=[0.1, 0.75], numpoints=2, labelspacing = 0.2, shadow=False, frameon = False)\n",
    "ax.set_xticks(np.arange(0.2, 1.2, 0.2))\n",
    "ax.set_ylabel('Number of analogy graphs')\n",
    "ax.set_title('Social Sciences - EE & CS')\n",
    "ax.set_xlabel('Frac. of satisfied acyclic edges per graph')\n",
    "plt.show()\n",
    "fig.savefig('analogy_validate_a.pdf', bbox_inches='tight', pad_inches=0.01)"
   ]
  },
  {
   "cell_type": "code",
   "execution_count": 55,
   "metadata": {
    "scrolled": true
   },
   "outputs": [
    {
     "data": {
      "text/plain": [
       "0.83757235902301"
      ]
     },
     "execution_count": 55,
     "metadata": {},
     "output_type": "execute_result"
    }
   ],
   "source": [
    "np.mean(scores_j2v)"
   ]
  },
  {
   "cell_type": "code",
   "execution_count": 56,
   "metadata": {},
   "outputs": [
    {
     "data": {
      "text/plain": [
       "0.7614890951224045"
      ]
     },
     "execution_count": 56,
     "metadata": {},
     "output_type": "execute_result"
    }
   ],
   "source": [
    "np.mean(scores_cite)"
   ]
  },
  {
   "cell_type": "code",
   "execution_count": 57,
   "metadata": {
    "scrolled": true
   },
   "outputs": [
    {
     "data": {
      "text/plain": [
       "Ttest_indResult(statistic=16.989143265387586, pvalue=2.5150750289828104e-62)"
      ]
     },
     "execution_count": 57,
     "metadata": {},
     "output_type": "execute_result"
    }
   ],
   "source": [
    "ttest_ind(scores_j2v, scores_cite)"
   ]
  },
  {
   "cell_type": "code",
   "execution_count": null,
   "metadata": {},
   "outputs": [],
   "source": []
  }
 ],
 "metadata": {
  "kernelspec": {
   "display_name": "Python 3",
   "language": "python",
   "name": "python3"
  },
  "language_info": {
   "codemirror_mode": {
    "name": "ipython",
    "version": 3
   },
   "file_extension": ".py",
   "mimetype": "text/x-python",
   "name": "python",
   "nbconvert_exporter": "python",
   "pygments_lexer": "ipython3",
   "version": "3.6.7"
  }
 },
 "nbformat": 4,
 "nbformat_minor": 1
}
