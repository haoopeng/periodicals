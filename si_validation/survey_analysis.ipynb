{
 "cells": [
  {
   "cell_type": "code",
   "execution_count": 2,
   "metadata": {},
   "outputs": [],
   "source": [
    "from j2v import mag\n",
    "from j2v import w2v\n",
    "\n",
    "import re\n",
    "import csv\n",
    "import json\n",
    "import random\n",
    "import numpy as np\n",
    "import pandas as pd\n",
    "from collections import defaultdict\n",
    "from itertools import combinations\n",
    "import matplotlib.pyplot as plt\n",
    "from sklearn.preprocessing import normalize\n",
    "from sklearn.metrics.pairwise import cosine_similarity\n",
    "%matplotlib inline"
   ]
  },
  {
   "cell_type": "code",
   "execution_count": 3,
   "metadata": {},
   "outputs": [],
   "source": [
    "def cal_kendall_tau(list_1 , list_2):\n",
    "    length = len(list_1)\n",
    "    if length != len(list_2):\n",
    "        return 'bad'\n",
    "    set_1 = set()\n",
    "    set_2 = set()\n",
    "    for i in range(length):\n",
    "        for j in range(i+1,length):\n",
    "            set_1.add( (list_1[i],list_1[j]) )\n",
    "            set_2.add( (list_2[i],list_2[j]) )\n",
    "    concordant = len(set_1 & set_2)\n",
    "    # (concordant - discordant) / total_pair\n",
    "    return concordant * 2 / ((length * (length-1)) / 2) - 1"
   ]
  },
  {
   "cell_type": "code",
   "execution_count": 4,
   "metadata": {},
   "outputs": [
    {
     "data": {
      "text/plain": [
       "-1.0"
      ]
     },
     "execution_count": 4,
     "metadata": {},
     "output_type": "execute_result"
    }
   ],
   "source": [
    "list_1 = ['e','f','g','h']\n",
    "list_2 = ['a','b','g','h']\n",
    "list_3 = list_1[:]\n",
    "list_3.reverse()\n",
    "cal_kendall_tau(list_3, list_1)"
   ]
  },
  {
   "cell_type": "code",
   "execution_count": 4,
   "metadata": {},
   "outputs": [],
   "source": [
    "top = pd.read_csv(mag.get_path('top_journal_rank_all_candidate.csv'), header=0)"
   ]
  },
  {
   "cell_type": "code",
   "execution_count": 5,
   "metadata": {},
   "outputs": [],
   "source": [
    "raw = pd.read_csv(\"./j2v-6-10.csv\", header=0, low_memory=False)"
   ]
  },
  {
   "cell_type": "code",
   "execution_count": 6,
   "metadata": {
    "scrolled": true
   },
   "outputs": [],
   "source": [
    "cols = raw.columns\n",
    "col_target = {}\n",
    "for col in cols:\n",
    "    if re.search(r\"Q\\d{1,2}\\.0_\\d\", col):\n",
    "        question_text = raw.iloc[0][col]\n",
    "        target = question_text.split(\" - \")[1]\n",
    "        col_target[col] = target"
   ]
  },
  {
   "cell_type": "code",
   "execution_count": 7,
   "metadata": {
    "scrolled": true
   },
   "outputs": [
    {
     "data": {
      "text/plain": [
       "260"
      ]
     },
     "execution_count": 7,
     "metadata": {},
     "output_type": "execute_result"
    }
   ],
   "source": [
    "len(col_target)"
   ]
  },
  {
   "cell_type": "code",
   "execution_count": 8,
   "metadata": {},
   "outputs": [],
   "source": [
    "raw = raw.iloc[2:, :]\n",
    "raw.index = range(len(raw))"
   ]
  },
  {
   "cell_type": "code",
   "execution_count": 9,
   "metadata": {},
   "outputs": [
    {
     "data": {
      "text/plain": [
       "(367, 6048)"
      ]
     },
     "execution_count": 9,
     "metadata": {},
     "output_type": "execute_result"
    }
   ],
   "source": [
    "raw.shape"
   ]
  },
  {
   "cell_type": "markdown",
   "metadata": {},
   "source": [
    "### 1. Unfinished"
   ]
  },
  {
   "cell_type": "code",
   "execution_count": 10,
   "metadata": {},
   "outputs": [],
   "source": [
    "unfinish = raw.loc[raw['Finished'] == \"False\", :]\n",
    "unfinish.index = range(len(unfinish))"
   ]
  },
  {
   "cell_type": "code",
   "execution_count": 11,
   "metadata": {
    "scrolled": true
   },
   "outputs": [
    {
     "name": "stdout",
     "output_type": "stream",
     "text": [
      "[ID]\t [# J.]\t [Selected Discipline]\n",
      "1 \t 0 \t Electrical Engineering & Computer Science\n",
      "2 \t 0 \t Health Professionals\n",
      "3 \t 0 \t Social Sciences\n",
      "4 \t 0 \t Electrical Engineering & Computer Science\n",
      "5 \t 0 \t Electrical Engineering & Computer Science\n",
      "6 \t 12 \t Social Sciences\n",
      "7 \t 0 \t Math & Physics\n",
      "8 \t 0 \t Electrical Engineering & Computer Science\n",
      "9 \t 0 \t Electrical Engineering & Computer Science\n",
      "10 \t 0 \t Humanities\n",
      "11 \t 0 \t Social Sciences\n",
      "12 \t 8 \t Social Sciences\n",
      "13 \t 0 \t Social Sciences\n",
      "14 \t 0 \t nan\n",
      "15 \t 4 \t Electrical Engineering & Computer Science\n",
      "16 \t 6 \t Social Sciences\n",
      "17 \t 0 \t Electrical Engineering & Computer Science\n",
      "18 \t 0 \t Electrical Engineering & Computer Science\n",
      "19 \t 12 \t Social Sciences\n",
      "20 \t 0 \t Social Sciences\n",
      "21 \t 0 \t nan\n",
      "22 \t 0 \t Social Sciences\n",
      "23 \t 0 \t Social Sciences\n",
      "24 \t 0 \t Electrical Engineering & Computer Science\n",
      "25 \t 7 \t Earth Sciences\n",
      "26 \t 0 \t Social Sciences\n",
      "27 \t 0 \t Health Professionals\n",
      "28 \t 0 \t Electrical Engineering & Computer Science\n",
      "29 \t 0 \t Humanities\n",
      "30 \t 0 \t Electrical Engineering & Computer Science\n",
      "31 \t 0 \t Electrical Engineering & Computer Science\n",
      "32 \t 0 \t Earth Sciences\n",
      "33 \t 0 \t Chemical, Mechanical, & Civil Engineering\n",
      "34 \t 0 \t Chemical, Mechanical, & Civil Engineering\n",
      "35 \t 0 \t Chemical, Mechanical, & Civil Engineering\n",
      "36 \t 0 \t Chemical, Mechanical, & Civil Engineering\n",
      "37 \t 0 \t Chemical, Mechanical, & Civil Engineering\n",
      "38 \t 0 \t Chemical, Mechanical, & Civil Engineering\n",
      "39 \t 0 \t Electrical Engineering & Computer Science\n",
      "40 \t 0 \t Chemical, Mechanical, & Civil Engineering\n",
      "41 \t 0 \t Electrical Engineering & Computer Science\n",
      "42 \t 0 \t Electrical Engineering & Computer Science\n",
      "43 \t 0 \t Chemical, Mechanical, & Civil Engineering\n",
      "44 \t 7 \t Electrical Engineering & Computer Science\n",
      "45 \t 3 \t Chemical, Mechanical, & Civil Engineering\n",
      "46 \t 0 \t Math & Physics\n",
      "47 \t 20 \t Electrical Engineering & Computer Science\n",
      "48 \t 14 \t Chemistry\n",
      "49 \t 0 \t Chemical, Mechanical, & Civil Engineering\n",
      "50 \t 0 \t nan\n",
      "51 \t 0 \t Electrical Engineering & Computer Science\n",
      "52 \t 11 \t Electrical Engineering & Computer Science\n",
      "53 \t 7 \t Electrical Engineering & Computer Science\n",
      "54 \t 0 \t Electrical Engineering & Computer Science\n",
      "55 \t 0 \t Electrical Engineering & Computer Science\n",
      "56 \t 0 \t Electrical Engineering & Computer Science\n",
      "57 \t 11 \t Electrical Engineering & Computer Science\n",
      "58 \t 12 \t Electrical Engineering & Computer Science\n",
      "59 \t 0 \t nan\n",
      "60 \t 13 \t Electrical Engineering & Computer Science\n",
      "61 \t 0 \t nan\n",
      "62 \t 3 \t Electrical Engineering & Computer Science\n",
      "63 \t 0 \t Electrical Engineering & Computer Science\n",
      "64 \t 0 \t nan\n",
      "65 \t 4 \t Electrical Engineering & Computer Science\n",
      "66 \t 3 \t Electrical Engineering & Computer Science\n",
      "67 \t 0 \t Brain Research\n",
      "68 \t 5 \t Electrical Engineering & Computer Science\n",
      "69 \t 6 \t Electrical Engineering & Computer Science\n",
      "70 \t 6 \t Electrical Engineering & Computer Science\n",
      "71 \t 4 \t Electrical Engineering & Computer Science\n",
      "72 \t 0 \t Electrical Engineering & Computer Science\n",
      "73 \t 3 \t Electrical Engineering & Computer Science\n",
      "74 \t 0 \t Math & Physics\n",
      "75 \t 0 \t nan\n",
      "76 \t 20 \t Electrical Engineering & Computer Science\n",
      "77 \t 0 \t nan\n",
      "78 \t 0 \t Chemical, Mechanical, & Civil Engineering\n",
      "79 \t 0 \t Biology\n",
      "80 \t 0 \t Biotechnology\n",
      "81 \t 0 \t Math & Physics\n",
      "82 \t 6 \t Chemical, Mechanical, & Civil Engineering\n",
      "83 \t 8 \t Biotechnology\n",
      "84 \t 0 \t nan\n",
      "85 \t 6 \t Chemical, Mechanical, & Civil Engineering\n",
      "86 \t 0 \t Electrical Engineering & Computer Science\n",
      "87 \t 7 \t Earth Sciences\n",
      "88 \t 0 \t Chemical, Mechanical, & Civil Engineering\n",
      "89 \t 0 \t nan\n",
      "90 \t 0 \t Chemical, Mechanical, & Civil Engineering\n",
      "91 \t 0 \t Chemical, Mechanical, & Civil Engineering\n",
      "92 \t 6 \t Chemical, Mechanical, & Civil Engineering\n",
      "93 \t 10 \t Chemical, Mechanical, & Civil Engineering\n",
      "94 \t 0 \t nan\n",
      "95 \t 0 \t Chemical, Mechanical, & Civil Engineering\n",
      "96 \t 0 \t Math & Physics\n",
      "97 \t 0 \t Electrical Engineering & Computer Science\n",
      "98 \t 9 \t Electrical Engineering & Computer Science\n",
      "99 \t 9 \t Chemical, Mechanical, & Civil Engineering\n",
      "100 \t 0 \t nan\n",
      "101 \t 0 \t Social Sciences\n",
      "102 \t 7 \t Social Sciences\n",
      "103 \t 7 \t Social Sciences\n",
      "104 \t 4 \t Social Sciences\n",
      "105 \t 13 \t Social Sciences\n",
      "106 \t 9 \t Social Sciences\n",
      "107 \t 7 \t Social Sciences\n",
      "108 \t 0 \t nan\n",
      "109 \t 3 \t Social Sciences\n",
      "110 \t 6 \t Social Sciences\n",
      "111 \t 0 \t Social Sciences\n",
      "112 \t 0 \t Social Sciences\n",
      "113 \t 8 \t Social Sciences\n",
      "114 \t 11 \t Social Sciences\n",
      "115 \t 0 \t Social Sciences\n",
      "116 \t 0 \t Social Sciences\n",
      "117 \t 0 \t Electrical Engineering & Computer Science\n",
      "118 \t 0 \t nan\n",
      "119 \t 0 \t nan\n",
      "120 \t 0 \t nan\n"
     ]
    }
   ],
   "source": [
    "# x people quit at Intro page;\n",
    "# y people quit directly after selecting a discipline;\n",
    "# z people quit during answering questions;\n",
    "\n",
    "print(\"[ID]\\t\", \"[# J.]\\t\", \"[Selected Discipline]\")\n",
    "for i in range(len(unfinish)):\n",
    "    print(i+1, \"\\t\", np.sum(unfinish.iloc[i] == \"Yes\"), '\\t', unfinish.iloc[i]['Q0.1'])"
   ]
  },
  {
   "cell_type": "code",
   "execution_count": 12,
   "metadata": {},
   "outputs": [],
   "source": [
    "finish = raw.loc[raw['Finished'] == \"True\", :]"
   ]
  },
  {
   "cell_type": "markdown",
   "metadata": {},
   "source": [
    "### 2. Finished"
   ]
  },
  {
   "cell_type": "code",
   "execution_count": 13,
   "metadata": {},
   "outputs": [
    {
     "data": {
      "text/plain": [
       "247"
      ]
     },
     "execution_count": 13,
     "metadata": {},
     "output_type": "execute_result"
    }
   ],
   "source": [
    "len(finish)"
   ]
  },
  {
   "cell_type": "markdown",
   "metadata": {},
   "source": [
    "#### 2.1 Unqualified or stopped due to quota"
   ]
  },
  {
   "cell_type": "code",
   "execution_count": 14,
   "metadata": {},
   "outputs": [],
   "source": [
    "unqualify = finish.loc[np.sum(finish == \"Yes\", axis=1) < 3, :]\n",
    "unqualify.index = range(len(unqualify))"
   ]
  },
  {
   "cell_type": "code",
   "execution_count": 15,
   "metadata": {
    "scrolled": true
   },
   "outputs": [
    {
     "name": "stdout",
     "output_type": "stream",
     "text": [
      "[ID]\t [# J.]\t [Selected Discipline]\n",
      "1 \t 0 \t Electrical Engineering & Computer Science\n",
      "2 \t 2 \t Electrical Engineering & Computer Science\n",
      "3 \t 2 \t Social Sciences\n",
      "4 \t 1 \t Electrical Engineering & Computer Science\n",
      "5 \t 1 \t Electrical Engineering & Computer Science\n",
      "6 \t 1 \t Social Sciences\n",
      "7 \t 2 \t Electrical Engineering & Computer Science\n",
      "8 \t 0 \t Social Sciences\n",
      "9 \t 0 \t Electrical Engineering & Computer Science\n",
      "10 \t 1 \t Social Sciences\n",
      "11 \t 2 \t Electrical Engineering & Computer Science\n",
      "12 \t 1 \t Electrical Engineering & Computer Science\n",
      "13 \t 1 \t Electrical Engineering & Computer Science\n",
      "14 \t 2 \t Chemical, Mechanical, & Civil Engineering\n",
      "15 \t 2 \t Chemical, Mechanical, & Civil Engineering\n",
      "16 \t 1 \t Chemical, Mechanical, & Civil Engineering\n",
      "17 \t 0 \t Chemical, Mechanical, & Civil Engineering\n",
      "18 \t 0 \t Chemical, Mechanical, & Civil Engineering\n",
      "19 \t 0 \t Chemical, Mechanical, & Civil Engineering\n",
      "20 \t 1 \t Chemical, Mechanical, & Civil Engineering\n",
      "21 \t 2 \t Chemical, Mechanical, & Civil Engineering\n",
      "22 \t 0 \t Chemical, Mechanical, & Civil Engineering\n",
      "23 \t 2 \t Chemical, Mechanical, & Civil Engineering\n",
      "24 \t 1 \t Chemical, Mechanical, & Civil Engineering\n",
      "25 \t 0 \t Chemical, Mechanical, & Civil Engineering\n",
      "26 \t 2 \t Chemical, Mechanical, & Civil Engineering\n",
      "27 \t 0 \t Chemical, Mechanical, & Civil Engineering\n",
      "28 \t 2 \t Chemical, Mechanical, & Civil Engineering\n",
      "29 \t 1 \t Chemical, Mechanical, & Civil Engineering\n",
      "30 \t 1 \t Chemical, Mechanical, & Civil Engineering\n",
      "31 \t 2 \t Chemical, Mechanical, & Civil Engineering\n",
      "32 \t 2 \t Chemical, Mechanical, & Civil Engineering\n",
      "33 \t 0 \t Biology\n",
      "34 \t 2 \t Electrical Engineering & Computer Science\n",
      "35 \t 0 \t Electrical Engineering & Computer Science\n",
      "36 \t 0 \t Chemical, Mechanical, & Civil Engineering\n",
      "37 \t 2 \t Electrical Engineering & Computer Science\n",
      "38 \t 2 \t Electrical Engineering & Computer Science\n",
      "39 \t 0 \t Electrical Engineering & Computer Science\n",
      "40 \t 2 \t Electrical Engineering & Computer Science\n",
      "41 \t 2 \t Electrical Engineering & Computer Science\n",
      "42 \t 1 \t Electrical Engineering & Computer Science\n",
      "43 \t 2 \t Electrical Engineering & Computer Science\n",
      "44 \t 0 \t Electrical Engineering & Computer Science\n",
      "45 \t 0 \t Electrical Engineering & Computer Science\n",
      "46 \t 0 \t Electrical Engineering & Computer Science\n",
      "47 \t 0 \t Electrical Engineering & Computer Science\n",
      "48 \t 0 \t Electrical Engineering & Computer Science\n",
      "49 \t 0 \t Electrical Engineering & Computer Science\n",
      "50 \t 0 \t Electrical Engineering & Computer Science\n",
      "51 \t 0 \t Electrical Engineering & Computer Science\n",
      "52 \t 0 \t Electrical Engineering & Computer Science\n",
      "53 \t 0 \t Electrical Engineering & Computer Science\n",
      "54 \t 0 \t Electrical Engineering & Computer Science\n",
      "55 \t 0 \t Electrical Engineering & Computer Science\n",
      "56 \t 0 \t Electrical Engineering & Computer Science\n",
      "57 \t 0 \t Chemical, Mechanical, & Civil Engineering\n",
      "58 \t 0 \t Electrical Engineering & Computer Science\n",
      "59 \t 0 \t Chemical, Mechanical, & Civil Engineering\n",
      "60 \t 1 \t Chemical, Mechanical, & Civil Engineering\n",
      "61 \t 1 \t Chemical, Mechanical, & Civil Engineering\n",
      "62 \t 0 \t Biology\n",
      "63 \t 0 \t Chemical, Mechanical, & Civil Engineering\n",
      "64 \t 2 \t Chemical, Mechanical, & Civil Engineering\n",
      "65 \t 0 \t Chemical, Mechanical, & Civil Engineering\n",
      "66 \t 0 \t Chemical, Mechanical, & Civil Engineering\n",
      "67 \t 0 \t Medical Specialties\n",
      "68 \t 0 \t Health Professionals\n",
      "69 \t 0 \t Health Professionals\n",
      "70 \t 2 \t Social Sciences\n",
      "71 \t 0 \t Math & Physics\n",
      "72 \t 1 \t Social Sciences\n",
      "73 \t 1 \t Social Sciences\n",
      "74 \t 1 \t Social Sciences\n",
      "75 \t 2 \t Social Sciences\n",
      "76 \t 0 \t Health Professionals\n",
      "77 \t 2 \t Social Sciences\n",
      "78 \t 0 \t Health Professionals\n",
      "79 \t 0 \t Health Professionals\n",
      "80 \t 0 \t Math & Physics\n",
      "81 \t 0 \t Social Sciences\n",
      "82 \t 0 \t Humanities\n",
      "83 \t 0 \t Social Sciences\n",
      "84 \t 0 \t Health Professionals\n",
      "85 \t 2 \t Social Sciences\n",
      "86 \t 0 \t Humanities\n",
      "87 \t 0 \t Social Sciences\n",
      "88 \t 0 \t Medical Specialties\n",
      "89 \t 0 \t Social Sciences\n",
      "90 \t 0 \t Math & Physics\n",
      "91 \t 0 \t Electrical Engineering & Computer Science\n",
      "92 \t 0 \t Biology\n",
      "93 \t 0 \t Medical Specialties\n",
      "94 \t 2 \t Electrical Engineering & Computer Science\n",
      "95 \t 0 \t Medical Specialties\n",
      "96 \t 0 \t Electrical Engineering & Computer Science\n",
      "97 \t 0 \t Social Sciences\n",
      "98 \t 1 \t Electrical Engineering & Computer Science\n",
      "99 \t 1 \t Electrical Engineering & Computer Science\n",
      "100 \t 0 \t Humanities\n",
      "101 \t 0 \t Electrical Engineering & Computer Science\n",
      "102 \t 0 \t Brain Research\n",
      "103 \t 0 \t Humanities\n",
      "104 \t 0 \t Math & Physics\n",
      "105 \t 0 \t Humanities\n",
      "106 \t 2 \t Electrical Engineering & Computer Science\n",
      "107 \t 0 \t Social Sciences\n",
      "108 \t 0 \t Biology\n",
      "109 \t 0 \t Biotechnology\n",
      "110 \t 0 \t Math & Physics\n",
      "111 \t 0 \t Social Sciences\n",
      "112 \t 0 \t Social Sciences\n",
      "113 \t 0 \t Biotechnology\n",
      "114 \t 0 \t Biotechnology\n",
      "115 \t 0 \t Biotechnology\n",
      "116 \t 2 \t Electrical Engineering & Computer Science\n",
      "117 \t 0 \t Biotechnology\n",
      "118 \t 0 \t Biotechnology\n",
      "119 \t 0 \t Health Professionals\n",
      "120 \t 0 \t Social Sciences\n",
      "121 \t 0 \t Math & Physics\n",
      "122 \t 0 \t Health Professionals\n",
      "123 \t 0 \t Social Sciences\n",
      "124 \t 0 \t Electrical Engineering & Computer Science\n",
      "125 \t 0 \t Math & Physics\n",
      "126 \t 0 \t Social Sciences\n",
      "127 \t 0 \t Brain Research\n",
      "128 \t 0 \t Biology\n"
     ]
    }
   ],
   "source": [
    "print(\"[ID]\\t\", \"[# J.]\\t\", \"[Selected Discipline]\")\n",
    "for i in range(len(unqualify)):\n",
    "    print(i+1, \"\\t\", np.sum(unqualify.iloc[i] == \"Yes\"), '\\t', unqualify.iloc[i]['Q0.1'])"
   ]
  },
  {
   "cell_type": "markdown",
   "metadata": {},
   "source": [
    "#### 2.2 Qualified"
   ]
  },
  {
   "cell_type": "code",
   "execution_count": 16,
   "metadata": {},
   "outputs": [],
   "source": [
    "response = finish.loc[np.sum(finish == \"Yes\", axis=1) >= 3, :]\n",
    "response.index = range(len(response))"
   ]
  },
  {
   "cell_type": "code",
   "execution_count": 17,
   "metadata": {
    "scrolled": true
   },
   "outputs": [
    {
     "name": "stdout",
     "output_type": "stream",
     "text": [
      "[ID]\t [# J.]\t [Selected Discipline]\n",
      "1 \t 3 \t Health Professionals\n",
      "2 \t 6 \t Health Professionals\n",
      "3 \t 3 \t Electrical Engineering & Computer Science\n",
      "4 \t 4 \t Social Sciences\n",
      "5 \t 4 \t Social Sciences\n",
      "6 \t 4 \t Electrical Engineering & Computer Science\n",
      "7 \t 3 \t Social Sciences\n",
      "8 \t 8 \t Social Sciences\n",
      "9 \t 5 \t Social Sciences\n",
      "10 \t 4 \t Electrical Engineering & Computer Science\n",
      "11 \t 6 \t Math & Physics\n",
      "12 \t 6 \t Social Sciences\n",
      "13 \t 4 \t Social Sciences\n",
      "14 \t 5 \t Social Sciences\n",
      "15 \t 3 \t Electrical Engineering & Computer Science\n",
      "16 \t 3 \t Chemical, Mechanical, & Civil Engineering\n",
      "17 \t 4 \t Earth Sciences\n",
      "18 \t 12 \t Chemical, Mechanical, & Civil Engineering\n",
      "19 \t 4 \t Electrical Engineering & Computer Science\n",
      "20 \t 4 \t Biotechnology\n",
      "21 \t 10 \t Chemical, Mechanical, & Civil Engineering\n",
      "22 \t 11 \t Chemical, Mechanical, & Civil Engineering\n",
      "23 \t 5 \t Chemical, Mechanical, & Civil Engineering\n",
      "24 \t 6 \t Chemical, Mechanical, & Civil Engineering\n",
      "25 \t 4 \t Chemical, Mechanical, & Civil Engineering\n",
      "26 \t 3 \t Chemical, Mechanical, & Civil Engineering\n",
      "27 \t 11 \t Chemical, Mechanical, & Civil Engineering\n",
      "28 \t 3 \t Chemical, Mechanical, & Civil Engineering\n",
      "29 \t 4 \t Chemical, Mechanical, & Civil Engineering\n",
      "30 \t 9 \t Chemical, Mechanical, & Civil Engineering\n",
      "31 \t 3 \t Electrical Engineering & Computer Science\n",
      "32 \t 3 \t Electrical Engineering & Computer Science\n",
      "33 \t 4 \t Electrical Engineering & Computer Science\n",
      "34 \t 3 \t Electrical Engineering & Computer Science\n",
      "35 \t 3 \t Electrical Engineering & Computer Science\n",
      "36 \t 6 \t Electrical Engineering & Computer Science\n",
      "37 \t 8 \t Electrical Engineering & Computer Science\n",
      "38 \t 7 \t Electrical Engineering & Computer Science\n",
      "39 \t 8 \t Electrical Engineering & Computer Science\n",
      "40 \t 9 \t Chemical, Mechanical, & Civil Engineering\n",
      "41 \t 8 \t Electrical Engineering & Computer Science\n",
      "42 \t 3 \t Electrical Engineering & Computer Science\n",
      "43 \t 8 \t Electrical Engineering & Computer Science\n",
      "44 \t 5 \t Electrical Engineering & Computer Science\n",
      "45 \t 10 \t Electrical Engineering & Computer Science\n",
      "46 \t 7 \t Electrical Engineering & Computer Science\n",
      "47 \t 6 \t Electrical Engineering & Computer Science\n",
      "48 \t 10 \t Electrical Engineering & Computer Science\n",
      "49 \t 7 \t Electrical Engineering & Computer Science\n",
      "50 \t 3 \t Electrical Engineering & Computer Science\n",
      "51 \t 6 \t Electrical Engineering & Computer Science\n",
      "52 \t 6 \t Electrical Engineering & Computer Science\n",
      "53 \t 6 \t Electrical Engineering & Computer Science\n",
      "54 \t 5 \t Brain Research\n",
      "55 \t 6 \t Math & Physics\n",
      "56 \t 6 \t Earth Sciences\n",
      "57 \t 3 \t Chemical, Mechanical, & Civil Engineering\n",
      "58 \t 9 \t Chemical, Mechanical, & Civil Engineering\n",
      "59 \t 4 \t Chemical, Mechanical, & Civil Engineering\n",
      "60 \t 8 \t Chemical, Mechanical, & Civil Engineering\n",
      "61 \t 9 \t Math & Physics\n",
      "62 \t 11 \t Biology\n",
      "63 \t 3 \t Chemical, Mechanical, & Civil Engineering\n",
      "64 \t 4 \t Chemical, Mechanical, & Civil Engineering\n",
      "65 \t 5 \t Electrical Engineering & Computer Science\n",
      "66 \t 8 \t Chemical, Mechanical, & Civil Engineering\n",
      "67 \t 9 \t Social Sciences\n",
      "68 \t 3 \t Social Sciences\n",
      "69 \t 3 \t Social Sciences\n",
      "70 \t 7 \t Social Sciences\n",
      "71 \t 7 \t Social Sciences\n",
      "72 \t 5 \t Social Sciences\n",
      "73 \t 11 \t Social Sciences\n",
      "74 \t 7 \t Social Sciences\n",
      "75 \t 9 \t Social Sciences\n",
      "76 \t 5 \t Social Sciences\n",
      "77 \t 4 \t Social Sciences\n",
      "78 \t 9 \t Social Sciences\n",
      "79 \t 14 \t Social Sciences\n",
      "80 \t 7 \t Social Sciences\n",
      "81 \t 4 \t Social Sciences\n",
      "82 \t 5 \t Social Sciences\n",
      "83 \t 6 \t Social Sciences\n",
      "84 \t 11 \t Social Sciences\n",
      "85 \t 10 \t Social Sciences\n",
      "86 \t 4 \t Social Sciences\n",
      "87 \t 8 \t Social Sciences\n",
      "88 \t 3 \t Social Sciences\n",
      "89 \t 7 \t Social Sciences\n",
      "90 \t 6 \t Social Sciences\n",
      "91 \t 3 \t Social Sciences\n",
      "92 \t 7 \t Social Sciences\n",
      "93 \t 11 \t Social Sciences\n",
      "94 \t 3 \t Social Sciences\n",
      "95 \t 6 \t Social Sciences\n",
      "96 \t 5 \t Social Sciences\n",
      "97 \t 7 \t Social Sciences\n",
      "98 \t 6 \t Social Sciences\n",
      "99 \t 9 \t Social Sciences\n",
      "100 \t 9 \t Social Sciences\n",
      "101 \t 7 \t Social Sciences\n",
      "102 \t 7 \t Social Sciences\n",
      "103 \t 5 \t Social Sciences\n",
      "104 \t 7 \t Social Sciences\n",
      "105 \t 9 \t Social Sciences\n",
      "106 \t 7 \t Social Sciences\n",
      "107 \t 4 \t Social Sciences\n",
      "108 \t 3 \t Social Sciences\n",
      "109 \t 3 \t Electrical Engineering & Computer Science\n",
      "110 \t 4 \t Electrical Engineering & Computer Science\n",
      "111 \t 6 \t Electrical Engineering & Computer Science\n",
      "112 \t 5 \t Electrical Engineering & Computer Science\n",
      "113 \t 11 \t Electrical Engineering & Computer Science\n",
      "114 \t 7 \t Electrical Engineering & Computer Science\n",
      "115 \t 11 \t Electrical Engineering & Computer Science\n",
      "116 \t 8 \t Electrical Engineering & Computer Science\n",
      "117 \t 3 \t Electrical Engineering & Computer Science\n",
      "118 \t 7 \t Electrical Engineering & Computer Science\n",
      "119 \t 6 \t Electrical Engineering & Computer Science\n"
     ]
    }
   ],
   "source": [
    "print(\"[ID]\\t\", \"[# J.]\\t\", \"[Selected Discipline]\")\n",
    "for i in range(len(response)):\n",
    "    print(i+1, \"\\t\", np.sum(response.iloc[i] == \"Yes\"), '\\t', response.iloc[i]['Q0.1'])"
   ]
  },
  {
   "cell_type": "markdown",
   "metadata": {},
   "source": [
    "### 3. Qualified stat"
   ]
  },
  {
   "cell_type": "code",
   "execution_count": 21,
   "metadata": {},
   "outputs": [
    {
     "data": {
      "text/plain": [
       "119"
      ]
     },
     "execution_count": 21,
     "metadata": {},
     "output_type": "execute_result"
    }
   ],
   "source": [
    "len(response)"
   ]
  },
  {
   "cell_type": "markdown",
   "metadata": {},
   "source": [
    "###  stat per discipline"
   ]
  },
  {
   "cell_type": "code",
   "execution_count": 18,
   "metadata": {
    "scrolled": true
   },
   "outputs": [],
   "source": [
    "discipline_response = defaultdict(lambda: [0, 0])\n",
    "for i in range(len(response)):\n",
    "    disc = response.iloc[i]['Q0.1']\n",
    "    num_target = np.sum(response.iloc[i] == \"Yes\")\n",
    "    discipline_response[disc][0] += 1\n",
    "    discipline_response[disc][1] += num_target"
   ]
  },
  {
   "cell_type": "code",
   "execution_count": 19,
   "metadata": {
    "scrolled": true
   },
   "outputs": [
    {
     "name": "stdout",
     "output_type": "stream",
     "text": [
      "                                      [Discipline]    [# Participants]      [Total # of selected targets]\n",
      "                              Health Professionals                   2                                  9\n",
      "         Electrical Engineering & Computer Science                  39                                224\n",
      "                                   Social Sciences                  50                                318\n",
      "                                    Math & Physics                   3                                 21\n",
      "         Chemical, Mechanical, & Civil Engineering                  20                                129\n",
      "                                    Earth Sciences                   2                                 10\n",
      "                                     Biotechnology                   1                                  4\n",
      "                                    Brain Research                   1                                  5\n",
      "                                           Biology                   1                                 11\n"
     ]
    }
   ],
   "source": [
    "# some targets have zero or one candidate in the ranked list, and they won't be used in the evaluation.\n",
    "print(\"{:>50}{:>20}{:>35}\".format(\"[Discipline]\", \"[# Participants]\", \"[Total # of selected targets]\"))\n",
    "for disc, (num_1, num_2) in discipline_response.items():\n",
    "    print(\"{:>50}{:>20}{:>35}\".format(disc, num_1, num_2))"
   ]
  },
  {
   "cell_type": "markdown",
   "metadata": {},
   "source": [
    "###  list of responses per target"
   ]
  },
  {
   "cell_type": "code",
   "execution_count": 17,
   "metadata": {},
   "outputs": [],
   "source": [
    "pattern = r\"([a-zA-Z]),([a-zA-Z])\"\n",
    "match = re.compile(pattern)\n",
    "test = \"Annual Review of Ecology, Evolution, and Systematics,BioScience,Good, Day\"\n",
    "print(match.sub(r\"\\1||\\2\", test))"
   ]
  },
  {
   "cell_type": "code",
   "execution_count": 68,
   "metadata": {},
   "outputs": [],
   "source": [
    "target_responses = defaultdict(list)\n",
    "\n",
    "for i in range(len(response)):\n",
    "    target_cols = cols[response.iloc[i] == \"Yes\"]\n",
    "    for tcol in target_cols:\n",
    "        target = col_target[tcol]\n",
    "        pref = tcol.split(\".\")[0] + \".\" + tcol.split(\"_\")[1]\n",
    "        col_rank = pref + \"_0_GROUP\"\n",
    "        col_unfa = pref + \"_1_GROUP\"\n",
    "        rank_j_text = response.iloc[i][col_rank]\n",
    "        rank_j_list = []\n",
    "        if not pd.isnull(rank_j_text):\n",
    "            # if there is only one journal in the text, then it will return the original string.\n",
    "            rank_j_text = match.sub(r\"\\1||\\2\", rank_j_text)\n",
    "            rank_j_list = rank_j_text.split(\"||\")\n",
    "        unfa_j_text = response.iloc[i][col_unfa]\n",
    "        unfa_j_list = []\n",
    "        if not pd.isnull(unfa_j_text):\n",
    "            unfa_j_text = match.sub(r\"\\1||\\2\", unfa_j_text)\n",
    "            unfa_j_list = unfa_j_text.split(\"||\")\n",
    "        resp = {\"rank\": rank_j_list, \"unfamiliar\": unfa_j_list}\n",
    "        target_responses[target].append(resp)"
   ]
  },
  {
   "cell_type": "code",
   "execution_count": 43,
   "metadata": {},
   "outputs": [],
   "source": [
    "target_algo_ranks = dict()\n",
    "\n",
    "for i in range(len(top)):\n",
    "    jname, pr_disc, citation, j2v_alg = top.iloc[i][['jname', 'pr_disc', 'citation', 'j2v']]\n",
    "    tem = {}\n",
    "    tem['pr_disc'] = pr_disc.split(\"||\")\n",
    "    tem['citation'] = citation.split(\"||\")\n",
    "    tem['j2v'] = j2v_alg.split(\"||\")\n",
    "    target_algo_ranks[jname] = tem"
   ]
  },
  {
   "cell_type": "markdown",
   "metadata": {},
   "source": [
    "## Agreement"
   ]
  },
  {
   "cell_type": "code",
   "execution_count": 44,
   "metadata": {},
   "outputs": [],
   "source": [
    "target_rank_agreement = {}\n",
    "\n",
    "for target, resps in target_responses.items():\n",
    "    agreement = []\n",
    "    rank_list = [resp['rank'] for resp in resps]\n",
    "    for i in range(len(rank_list)):\n",
    "        for j in range(i+1, len(rank_list)):\n",
    "            intersect = set(rank_list[i]) & set(rank_list[j])\n",
    "            if len(intersect) >= 2:\n",
    "                list_1 = [jj for jj in rank_list[i] if jj in intersect]\n",
    "                list_2 = [jj for jj in rank_list[j] if jj in intersect]\n",
    "                agreement.append(cal_kendall_tau(list_1, list_2))\n",
    "    target_rank_agreement[target] = (len(resps), agreement)"
   ]
  },
  {
   "cell_type": "code",
   "execution_count": 32,
   "metadata": {},
   "outputs": [
    {
     "name": "stdout",
     "output_type": "stream",
     "text": [
      "avg of avg agreement per target: 0.14367455086915734\n",
      "overall avg agreement: 0.2683465424982164\n"
     ]
    }
   ],
   "source": [
    "alist = []\n",
    "blist = []\n",
    "for target, (num, agreement) in target_rank_agreement.items():\n",
    "    if len(agreement) > 0:\n",
    "        alist.append(np.mean(agreement))\n",
    "        blist.extend(agreement)\n",
    "print(\"avg of avg agreement per target:\", np.mean(alist))\n",
    "print(\"overall avg agreement:\", np.mean(blist))"
   ]
  },
  {
   "cell_type": "markdown",
   "metadata": {},
   "source": [
    "## All targets"
   ]
  },
  {
   "cell_type": "markdown",
   "metadata": {},
   "source": [
    "### with agreement threshold"
   ]
  },
  {
   "cell_type": "code",
   "execution_count": 125,
   "metadata": {
    "scrolled": true
   },
   "outputs": [],
   "source": [
    "algo_rank_corr = defaultdict(list)\n",
    "agree_thsh = 0 # 0.2\n",
    "\n",
    "for target, resps in target_responses.items():\n",
    "    num_resp, agreement = target_rank_agreement[target]\n",
    "    if len(agreement) > 0 and np.mean(agreement) >= agree_thsh:\n",
    "        for resp in resps:\n",
    "            rank_j = resp['rank'].copy()\n",
    "            unfa_j = resp['unfamiliar'].copy()\n",
    "            rank_j.extend(random.sample(unfa_j, len(unfa_j)))\n",
    "            if len(rank_j) >= 2:\n",
    "                pr_disc_rank = [j for j in target_algo_ranks[target]['pr_disc'] if j in rank_j]\n",
    "                missing_j = [jj for jj in rank_j if jj not in pr_disc_rank]\n",
    "                random.shuffle(missing_j)\n",
    "                pr_disc_rank.extend(missing_j)\n",
    "                citation_rank = [j for j in target_algo_ranks[target]['citation'] if j in rank_j]\n",
    "                j2v_rank = [j for j in target_algo_ranks[target]['j2v'] if j in rank_j]\n",
    "                pr_disc_cor = cal_kendall_tau(pr_disc_rank, rank_j)\n",
    "                cit_cor = cal_kendall_tau(citation_rank, rank_j)\n",
    "                j2v_cor = cal_kendall_tau(j2v_rank, rank_j)\n",
    "                algo_rank_corr['pr_disc'].append(pr_disc_cor)\n",
    "                algo_rank_corr['citation'].append(cit_cor)\n",
    "                algo_rank_corr['j2v'].append(j2v_cor)"
   ]
  },
  {
   "cell_type": "code",
   "execution_count": 126,
   "metadata": {},
   "outputs": [
    {
     "name": "stdout",
     "output_type": "stream",
     "text": [
      "total evaluatable targets (with duplicates):  592\n"
     ]
    },
    {
     "data": {
      "image/png": "[encoded data removed]",
      "text/plain": [
       "<Figure size 288x216 with 1 Axes>"
      ]
     },
     "metadata": {},
     "output_type": "display_data"
    }
   ],
   "source": [
    "fig, ax = plt.subplots(figsize = (4, 3))\n",
    "x_pos, labels, avgs, stds, counts = [], [], [], [], []\n",
    "\n",
    "for i, (algo, corrs) in zip(range(len(algo_rank_corr)), algo_rank_corr.items()):\n",
    "    x_pos.append(i)\n",
    "    counts.append(len(corrs))\n",
    "    labels.append(algo)\n",
    "    avgs.append(np.mean(corrs))\n",
    "    stds.append(np.std(corrs))\n",
    "\n",
    "print(\"total evaluatable targets (with duplicates): \", counts[0])\n",
    "CIs = {'90': 1.645, '95': 1.96, '99': 2.576}\n",
    "ax.bar(x_pos, avgs, yerr=CIs['95']*(stds/np.sqrt(counts)), align='center', alpha=0.5, ecolor='black', capsize=10)\n",
    "ax.set_xticks(x_pos)\n",
    "ax.set_xticklabels(labels)\n",
    "ax.set_ylabel('Average Rank Correlation')\n",
    "ax.yaxis.grid(True)\n",
    "ax.set_title(\"Combined\")\n",
    "plt.show()\n",
    "fig.savefig('avg_rank_corr_all.pdf', bbox_inches='tight', pad_inches=0)"
   ]
  },
  {
   "cell_type": "markdown",
   "metadata": {},
   "source": [
    "## Per discipline"
   ]
  },
  {
   "cell_type": "code",
   "execution_count": 138,
   "metadata": {},
   "outputs": [],
   "source": [
    "discipline = 'Social Sciences'\n",
    "# discipline = 'Electrical Engineering & Computer Science'\n",
    "# discipline = 'Chemical, Mechanical, & Civil Engineering'"
   ]
  },
  {
   "cell_type": "markdown",
   "metadata": {},
   "source": [
    "### with agreement threshold"
   ]
  },
  {
   "cell_type": "code",
   "execution_count": 139,
   "metadata": {
    "scrolled": true
   },
   "outputs": [],
   "source": [
    "algo_rank_corr = defaultdict(list)\n",
    "agree_thsh = 0\n",
    "\n",
    "for target, resps in target_responses.items():\n",
    "    if jname_disc[target] == discipline:\n",
    "        num_resp, agreement = target_rank_agreement[target]\n",
    "        if len(agreement) > 0 and np.mean(agreement) >= agree_thsh:\n",
    "            for resp in resps:\n",
    "                rank_j = resp['rank'].copy()\n",
    "                unfa_j = resp['unfamiliar'].copy()\n",
    "                rank_j.extend(random.sample(unfa_j, len(unfa_j)))\n",
    "                if len(rank_j) >= 2:\n",
    "                    pr_disc_rank = [j for j in target_algo_ranks[target]['pr_disc'] if j in rank_j]\n",
    "                    missing_j = [jj for jj in rank_j if jj not in pr_disc_rank]\n",
    "                    random.shuffle(missing_j)\n",
    "                    pr_disc_rank.extend(missing_j)\n",
    "                    citation_rank = [j for j in target_algo_ranks[target]['citation'] if j in rank_j]\n",
    "                    j2v_rank = [j for j in target_algo_ranks[target]['j2v'] if j in rank_j]\n",
    "                    pr_disc_cor = cal_kendall_tau(pr_disc_rank, rank_j)\n",
    "                    cit_cor = cal_kendall_tau(citation_rank, rank_j)\n",
    "                    j2v_cor = cal_kendall_tau(j2v_rank, rank_j)\n",
    "                    algo_rank_corr['pr_disc'].append(pr_disc_cor)\n",
    "                    algo_rank_corr['citation'].append(cit_cor)\n",
    "                    algo_rank_corr['j2v'].append(j2v_cor)"
   ]
  },
  {
   "cell_type": "code",
   "execution_count": 140,
   "metadata": {
    "scrolled": false
   },
   "outputs": [
    {
     "name": "stdout",
     "output_type": "stream",
     "text": [
      "total evaluatable targets (with duplicates):  317\n"
     ]
    },
    {
     "data": {
      "image/png": "[encoded data removed]",
      "text/plain": [
       "<Figure size 288x216 with 1 Axes>"
      ]
     },
     "metadata": {},
     "output_type": "display_data"
    }
   ],
   "source": [
    "fig, ax = plt.subplots(figsize = (4, 3))\n",
    "x_pos, labels, avgs, stds, counts = [], [], [], [], []\n",
    "\n",
    "for i, (algo, corrs) in zip(range(len(algo_rank_corr)), algo_rank_corr.items()):\n",
    "    x_pos.append(i)\n",
    "    counts.append(len(corrs))\n",
    "    labels.append(algo)\n",
    "    avgs.append(np.mean(corrs))\n",
    "    stds.append(np.std(corrs))\n",
    "\n",
    "print(\"total evaluatable targets (with duplicates): \", counts[0])\n",
    "CIs = {'90': 1.645, '95': 1.96, '99': 2.576}\n",
    "ax.bar(x_pos, avgs, yerr=CIs['95']*(stds/np.sqrt(counts)), align='center', alpha=0.5, ecolor='black', capsize=10)\n",
    "ax.set_xticks(x_pos)\n",
    "ax.set_xticklabels(labels)\n",
    "ax.set_ylabel('Average Rank Correlation')\n",
    "ax.yaxis.grid(True)\n",
    "ax.set_title(discipline)\n",
    "plt.show()\n",
    "fig.savefig('avg_rank_corr_social.pdf', bbox_inches='tight', pad_inches=0)"
   ]
  },
  {
   "cell_type": "code",
   "execution_count": 137,
   "metadata": {
    "scrolled": false
   },
   "outputs": [
    {
     "name": "stdout",
     "output_type": "stream",
     "text": [
      "total evaluatable targets (with duplicates):  159\n"
     ]
    },
    {
     "data": {
      "image/png": "[encoded data removed]",
      "text/plain": [
       "<Figure size 288x216 with 1 Axes>"
      ]
     },
     "metadata": {},
     "output_type": "display_data"
    }
   ],
   "source": [
    "fig, ax = plt.subplots(figsize = (4, 3))\n",
    "x_pos, labels, avgs, stds, counts = [], [], [], [], []\n",
    "\n",
    "for i, (algo, corrs) in zip(range(len(algo_rank_corr)), algo_rank_corr.items()):\n",
    "    x_pos.append(i)\n",
    "    counts.append(len(corrs))\n",
    "    labels.append(algo)\n",
    "    avgs.append(np.mean(corrs))\n",
    "    stds.append(np.std(corrs))\n",
    "\n",
    "print(\"total evaluatable targets (with duplicates): \", counts[0])\n",
    "CIs = {'90': 1.645, '95': 1.96, '99': 2.576}\n",
    "ax.bar(x_pos, avgs, yerr=CIs['95']*(stds/np.sqrt(counts)), align='center', alpha=0.5, ecolor='black', capsize=10)\n",
    "ax.set_xticks(x_pos)\n",
    "ax.set_xticklabels(labels)\n",
    "ax.set_ylabel('Average Rank Correlation')\n",
    "ax.yaxis.grid(True)\n",
    "ax.set_title(discipline)\n",
    "plt.show()\n",
    "fig.savefig('avg_rank_corr_eecs.pdf', bbox_inches='tight', pad_inches=0)"
   ]
  },
  {
   "cell_type": "code",
   "execution_count": 134,
   "metadata": {
    "scrolled": false
   },
   "outputs": [
    {
     "name": "stdout",
     "output_type": "stream",
     "text": [
      "total evaluatable targets (with duplicates):  106\n"
     ]
    },
    {
     "data": {
      "image/png": "[encoded data removed]",
      "text/plain": [
       "<Figure size 288x216 with 1 Axes>"
      ]
     },
     "metadata": {},
     "output_type": "display_data"
    }
   ],
   "source": [
    "fig, ax = plt.subplots(figsize = (4, 3))\n",
    "x_pos, labels, avgs, stds, counts = [], [], [], [], []\n",
    "\n",
    "for i, (algo, corrs) in zip(range(len(algo_rank_corr)), algo_rank_corr.items()):\n",
    "    x_pos.append(i)\n",
    "    counts.append(len(corrs))\n",
    "    labels.append(algo)\n",
    "    avgs.append(np.mean(corrs))\n",
    "    stds.append(np.std(corrs))\n",
    "\n",
    "print(\"total evaluatable targets (with duplicates): \", counts[0])\n",
    "CIs = {'90': 1.645, '95': 1.96, '99': 2.576}\n",
    "ax.bar(x_pos, avgs, yerr=CIs['95']*(stds/np.sqrt(counts)), align='center', alpha=0.5, ecolor='black', capsize=10)\n",
    "ax.set_xticks(x_pos)\n",
    "ax.set_xticklabels(labels)\n",
    "ax.set_ylabel('Average Rank Correlation')\n",
    "ax.yaxis.grid(True)\n",
    "ax.set_title(discipline)\n",
    "plt.show()\n",
    "fig.savefig('avg_rank_corr_eng.pdf', bbox_inches='tight', pad_inches=0)"
   ]
  },
  {
   "cell_type": "code",
   "execution_count": null,
   "metadata": {},
   "outputs": [],
   "source": []
  }
 ],
 "metadata": {
  "kernelspec": {
   "display_name": "Python 3",
   "language": "python",
   "name": "python3"
  },
  "language_info": {
   "codemirror_mode": {
    "name": "ipython",
    "version": 3
   },
   "file_extension": ".py",
   "mimetype": "text/x-python",
   "name": "python",
   "nbconvert_exporter": "python",
   "pygments_lexer": "ipython3",
   "version": "3.6.7"
  }
 },
 "nbformat": 4,
 "nbformat_minor": 2
}
